{
  "cells": [
    {
      "cell_type": "markdown",
      "metadata": {
        "id": "view-in-github",
        "colab_type": "text"
      },
      "source": [
        "<a href=\"https://colab.research.google.com/github/1nisharg/heart_failure_prediction/blob/main/neural_network_regression.ipynb\" target=\"_parent\"><img src=\"https://colab.research.google.com/assets/colab-badge.svg\" alt=\"Open In Colab\"/></a>"
      ]
    },
    {
      "cell_type": "markdown",
      "metadata": {
        "id": "njD-nJ6GrM_7"
      },
      "source": [
        "TENSORFLOW"
      ]
    },
    {
      "cell_type": "code",
      "execution_count": null,
      "metadata": {
        "id": "DqRY7_arrOJd",
        "colab": {
          "base_uri": "https://localhost:8080/"
        },
        "outputId": "e56f4921-2a7c-4393-fd87-8e6c46f9cb6a"
      },
      "outputs": [
        {
          "output_type": "stream",
          "name": "stdout",
          "text": [
            "2.9.2\n"
          ]
        }
      ],
      "source": [
        "import tensorflow as tf\n",
        "print(tf.__version__)"
      ]
    },
    {
      "cell_type": "code",
      "execution_count": null,
      "metadata": {
        "id": "LeHsWZrzsGIP"
      },
      "outputs": [],
      "source": [
        "# Create tensors with tf.constant\n",
        "scalar = tf.constant(7)\n",
        "scalar"
      ]
    },
    {
      "cell_type": "code",
      "execution_count": null,
      "metadata": {
        "id": "Qigvnvk7sgp2"
      },
      "outputs": [],
      "source": [
        "#Check the number of dimensions of a tensor (ndim is no. of dimensions)\n",
        "\n",
        "scalar.ndim"
      ]
    },
    {
      "cell_type": "code",
      "execution_count": null,
      "metadata": {
        "id": "eY4RJ04ksyEg"
      },
      "outputs": [],
      "source": [
        "#Create a vector\n",
        "vector = tf.constant([10, 10])\n",
        "vector"
      ]
    },
    {
      "cell_type": "code",
      "execution_count": null,
      "metadata": {
        "id": "LkTQqM2MtBLT"
      },
      "outputs": [],
      "source": [
        "#dimensions of vector\n",
        "vector.ndim"
      ]
    },
    {
      "cell_type": "code",
      "execution_count": null,
      "metadata": {
        "id": "yqh0kiY-tIVt"
      },
      "outputs": [],
      "source": [
        "#Create a matrix\n",
        "matrix = tf.constant([[7,10],\n",
        "                     [10,7]]) \n",
        "matrix"
      ]
    },
    {
      "cell_type": "code",
      "execution_count": null,
      "metadata": {
        "id": "-kK45Y52tXFz"
      },
      "outputs": [],
      "source": [
        "#dimension of matrix\n",
        "matrix.ndim"
      ]
    },
    {
      "cell_type": "code",
      "execution_count": null,
      "metadata": {
        "id": "LBIS-x4utqOD"
      },
      "outputs": [],
      "source": [
        "# Create another matrix\n",
        "another_matrix = tf.constant([[10.0,7.0],\n",
        "                              [3.,2.],\n",
        "                              [6.,8.]], dtype=tf.float16)\n",
        "another_matrix"
      ]
    },
    {
      "cell_type": "code",
      "execution_count": null,
      "metadata": {
        "id": "54i434youVLi"
      },
      "outputs": [],
      "source": [
        "#ndim of another_matrix\n",
        "another_matrix.ndim"
      ]
    },
    {
      "cell_type": "code",
      "execution_count": null,
      "metadata": {
        "id": "hnbMhz22uise"
      },
      "outputs": [],
      "source": [
        "#Creating a tensor\n",
        "tensor = tf.constant([[[1, 2, 3],\n",
        "                       [4, 5, 6]],\n",
        "                      [[7, 8, 9],\n",
        "                       [10, 11, 12]],\n",
        "                      [[13, 14, 15],\n",
        "                       [16, 17, 18]]])\n",
        "tensor"
      ]
    },
    {
      "cell_type": "code",
      "execution_count": null,
      "metadata": {
        "id": "BeqLwgI0u_lM"
      },
      "outputs": [],
      "source": [
        "#ndim of tensor\n",
        "tensor.ndim"
      ]
    },
    {
      "cell_type": "markdown",
      "metadata": {
        "id": "3uSsN2kwvfK0"
      },
      "source": [
        "#Creating a tensor with tf.variable()\n",
        "\n"
      ]
    },
    {
      "cell_type": "code",
      "execution_count": null,
      "metadata": {
        "id": "lRYPsyvBvnct"
      },
      "outputs": [],
      "source": [
        "changeable_tensor = tf.Variable([10,7])\n",
        "unchangeable_tensor = tf.constant([4,8])\n",
        "changeable_tensor, unchangeable_tensor"
      ]
    },
    {
      "cell_type": "code",
      "execution_count": null,
      "metadata": {
        "id": "h4G-B7OFyUAA"
      },
      "outputs": [],
      "source": [
        "#changing one element in changeable tensor with .assign()\n",
        "changeable_tensor[0].assign(4)\n",
        "changeable_tensor"
      ]
    },
    {
      "cell_type": "code",
      "execution_count": null,
      "metadata": {
        "colab": {
          "base_uri": "https://localhost:8080/"
        },
        "id": "K10gfUv2TZlm",
        "outputId": "eb314aa9-b1aa-4bbe-bd09-c10790d5fa10"
      },
      "outputs": [
        {
          "output_type": "execute_result",
          "data": {
            "text/plain": [
              "<tf.Tensor: shape=(3, 2), dtype=float32, numpy=\n",
              "array([[-0.7565803 , -0.06854702],\n",
              "       [ 0.07595026, -1.2573844 ],\n",
              "       [-0.23193763, -1.8107855 ]], dtype=float32)>"
            ]
          },
          "metadata": {},
          "execution_count": 13
        }
      ],
      "source": [
        "#Creating a random tensors\n",
        "import tensorflow as tf\n",
        "random_1 = tf.random.Generator.from_seed(42) #set seed for reproducibility\n",
        "random_1 = random_1.normal(shape=(3,2))\n",
        "\n",
        "random_1"
      ]
    },
    {
      "cell_type": "code",
      "execution_count": null,
      "metadata": {
        "colab": {
          "base_uri": "https://localhost:8080/"
        },
        "id": "cvP0Zx8qVtAh",
        "outputId": "eef1d23d-b951-410e-a77f-5cc0d773659f"
      },
      "outputs": [
        {
          "data": {
            "text/plain": [
              "<tf.Tensor: shape=(3, 4), dtype=float32, numpy=\n",
              "array([[0., 0., 0., 0.],\n",
              "       [0., 0., 0., 0.],\n",
              "       [0., 0., 0., 0.]], dtype=float32)>"
            ]
          },
          "execution_count": 2,
          "metadata": {},
          "output_type": "execute_result"
        }
      ],
      "source": [
        "#other ways of creating tensors:-\n",
        "\n",
        "import tensorflow as tf\n",
        "tf.ones([10,7])\n",
        "\n",
        "tf.zeros(shape=(3,4))"
      ]
    },
    {
      "cell_type": "code",
      "execution_count": null,
      "metadata": {
        "id": "pB4iQ6uavV3A"
      },
      "outputs": [],
      "source": [
        "#turning numpy array into tensors\n",
        "\n",
        "import numpy as np\n",
        "numpy_A=np.arange(1, 25, dtype=np.int32)\n",
        "numpy_A\n",
        "\n",
        "A = tf.constant(numpy_A)\n",
        "A\n"
      ]
    },
    {
      "cell_type": "code",
      "execution_count": null,
      "metadata": {
        "id": "J2kq5Iiymz1e"
      },
      "outputs": [],
      "source": [
        "#ONE HOT ENCODING\n",
        "\n",
        "#creating a list of indices\n",
        "some_list = [0,1,2,3]  #could be red, green, blue, purple\n",
        "\n",
        "#one hot encode our list of indices\n",
        "tf.one_hot(some_list, depth=5)"
      ]
    },
    {
      "cell_type": "markdown",
      "metadata": {
        "id": "e0ThiqIzqFfl"
      },
      "source": [
        "#NEURAL NETWORK REGRESSION\n",
        "\n",
        "\n",
        "\n",
        "Anatomy of Neural Networks\n",
        "\n",
        "input layer ( data goes in here) #unit/neuron=2\n",
        "\n",
        "\n",
        "hidden layer ( learns patterns in data ) #unit/neuron = 3\n",
        "\n",
        "\n",
        "output layer ( outputs learned representation or prediction probabilities )#unit/neuron = 1\n",
        "\n",
        "![Anatomy of NN.jpg](data:image/jpeg;base64,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)"
      ]
    },
    {
      "cell_type": "markdown",
      "metadata": {
        "id": "CRuLqCh3tWyK"
      },
      "source": [
        "Creating simple regression data:-"
      ]
    },
    {
      "cell_type": "code",
      "execution_count": null,
      "metadata": {
        "id": "aqSjEHdWqKhg"
      },
      "outputs": [],
      "source": [
        "#introduction to regression with NN in tensorflow\n",
        "\n",
        "#regression is predicting a numerical variable based on some other combination \n",
        "#of variable based on some other combination of variables.\n",
        "\n",
        "import tensorflow as tf\n",
        "#creating data to view and fit\n",
        "import numpy as np\n",
        "import matplotlib.pyplot as plt\n",
        "\n",
        "#create features\n",
        "X = np.array([-7.0, -4.0, -1.0, 2.0, 5.0, 8.0, 11.0, 14.0])\n",
        "\n",
        "#create labels\n",
        "y = np.array([3.0, 6.0, 9.0,12.0, 15.0, 18.0, 21.0, 24.0])\n",
        "\n",
        "#visualize it\n",
        "plt.scatter(X, y)"
      ]
    },
    {
      "cell_type": "code",
      "execution_count": null,
      "metadata": {
        "colab": {
          "base_uri": "https://localhost:8080/"
        },
        "id": "66EocpPPv6HN",
        "outputId": "56494e82-a281-4df8-f1bd-778b9298cbcd"
      },
      "outputs": [
        {
          "output_type": "execute_result",
          "data": {
            "text/plain": [
              "array([ True,  True,  True,  True,  True,  True,  True,  True])"
            ]
          },
          "metadata": {},
          "execution_count": 2
        }
      ],
      "source": [
        "X + 10\n",
        "\n",
        "y == X + 10"
      ]
    },
    {
      "cell_type": "markdown",
      "metadata": {
        "id": "GD282YpbwPqh"
      },
      "source": [
        "input and output shapes:-"
      ]
    },
    {
      "cell_type": "code",
      "execution_count": null,
      "metadata": {
        "colab": {
          "base_uri": "https://localhost:8080/"
        },
        "id": "XdYYHOjEwSvW",
        "outputId": "c200b6b8-24d1-4121-888f-3930dc8f7dad"
      },
      "outputs": [
        {
          "output_type": "execute_result",
          "data": {
            "text/plain": [
              "(<tf.Tensor: shape=(3,), dtype=string, numpy=array([b'bedroom', b'bathroom', b'garage'], dtype=object)>,\n",
              " <tf.Tensor: shape=(1,), dtype=int32, numpy=array([939700], dtype=int32)>)"
            ]
          },
          "metadata": {},
          "execution_count": 3
        }
      ],
      "source": [
        "#creating a demo tensor for our housing price prediction problem\n",
        "\n",
        "house_info = tf.constant([\"bedroom\", \"bathroom\", \"garage\"])\n",
        "house_price = tf.constant([939700])\n",
        "house_info, house_price"
      ]
    },
    {
      "cell_type": "code",
      "execution_count": null,
      "metadata": {
        "colab": {
          "base_uri": "https://localhost:8080/"
        },
        "id": "Fk0HJyzsw_5b",
        "outputId": "7df46b3b-b175-479b-b4ce-3b6581f3746d"
      },
      "outputs": [
        {
          "output_type": "execute_result",
          "data": {
            "text/plain": [
              "((8,), (8,))"
            ]
          },
          "metadata": {},
          "execution_count": 4
        }
      ],
      "source": [
        "input_shape = X.shape\n",
        "output_shape = y.shape\n",
        "input_shape, output_shape"
      ]
    },
    {
      "cell_type": "code",
      "execution_count": null,
      "metadata": {
        "colab": {
          "base_uri": "https://localhost:8080/"
        },
        "id": "SSn4HMtwlTt3",
        "outputId": "b707dd13-ab29-4225-d6f2-0f2d1863b002"
      },
      "outputs": [
        {
          "output_type": "execute_result",
          "data": {
            "text/plain": [
              "(<tf.Tensor: shape=(8,), dtype=float64, numpy=array([-7., -4., -1.,  2.,  5.,  8., 11., 14.])>,\n",
              " <tf.Tensor: shape=(8,), dtype=float64, numpy=array([ 3.,  6.,  9., 12., 15., 18., 21., 24.])>)"
            ]
          },
          "metadata": {},
          "execution_count": 5
        }
      ],
      "source": [
        "#Turn our NumPy arrays into tensors\n",
        "\n",
        "X = tf.constant(X)\n",
        "y = tf.constant(y)\n",
        "X, y "
      ]
    },
    {
      "cell_type": "code",
      "execution_count": null,
      "metadata": {
        "id": "vppiKg8zlpuM",
        "colab": {
          "base_uri": "https://localhost:8080/"
        },
        "outputId": "6886e66d-002e-414a-d061-1a4ebed024ec"
      },
      "outputs": [
        {
          "output_type": "execute_result",
          "data": {
            "text/plain": [
              "(TensorShape([]), TensorShape([]))"
            ]
          },
          "metadata": {},
          "execution_count": 6
        }
      ],
      "source": [
        "input_shape = X[0].shape\n",
        "output_shape = y[0].shape\n",
        "input_shape, output_shape"
      ]
    },
    {
      "cell_type": "markdown",
      "metadata": {
        "id": "ZRDfAEUvndLb"
      },
      "source": [
        "##steps in modelling with tensorflow\n",
        "\n",
        "1. Creating a model - define the input and output layers, a well as the hidden layers of a deep learning model.\n",
        "2. Compiling a model- define the loss function (in other words, the function which tells our model how wrong it is) and the optimizer (tells our model how to improve the patterns its learning) and evaluation metrics (what we can use to interpret the performance of our model).\n",
        "3. Fitting a model- letting the model try to find patterns between X and y(features and labels)."
      ]
    },
    {
      "cell_type": "code",
      "execution_count": null,
      "metadata": {
        "colab": {
          "base_uri": "https://localhost:8080/"
        },
        "id": "_HvTVefCnVXA",
        "outputId": "e9d5baff-116b-4e5d-acad-50b64ba6017c"
      },
      "outputs": [
        {
          "output_type": "stream",
          "name": "stdout",
          "text": [
            "Epoch 1/5\n",
            "1/1 [==============================] - 1s 551ms/step - loss: 11.5048 - mae: 11.5048\n",
            "Epoch 2/5\n",
            "1/1 [==============================] - 0s 11ms/step - loss: 11.3723 - mae: 11.3723\n",
            "Epoch 3/5\n",
            "1/1 [==============================] - 0s 10ms/step - loss: 11.2398 - mae: 11.2398\n",
            "Epoch 4/5\n",
            "1/1 [==============================] - 0s 8ms/step - loss: 11.1073 - mae: 11.1073\n",
            "Epoch 5/5\n",
            "1/1 [==============================] - 0s 8ms/step - loss: 10.9748 - mae: 10.9748\n"
          ]
        },
        {
          "output_type": "execute_result",
          "data": {
            "text/plain": [
              "<keras.callbacks.History at 0x7f1f76061940>"
            ]
          },
          "metadata": {},
          "execution_count": 7
        }
      ],
      "source": [
        "#Steps in modelling with tensorflow\n",
        "\n",
        "#Set random seed\n",
        "tf.random.set_seed(42)\n",
        "\n",
        "#1 Create a model using the sequential API\n",
        "model = tf.keras.Sequential([\n",
        "    tf.keras.layers.Dense(1) #bcz we r taking 1 input and want output of 1 number.\n",
        "])\n",
        "\n",
        "#2 compile the model\n",
        "model.compile(loss=tf.keras.losses.mae, #mae is mean absoulte error\n",
        "              optimizer=tf.keras.optimizers.SGD(),#sgd is stochasitc gradient descent\n",
        "              metrics=[\"mae\"])\n",
        "\n",
        "#3 Fit the model \n",
        "model.fit(tf.expand_dims(X, axis=-1),y,epochs=5) #or model.fit(X, y, epochs=5)\n"
      ]
    },
    {
      "cell_type": "code",
      "source": [
        "#check out X and y\n",
        "X, y"
      ],
      "metadata": {
        "colab": {
          "base_uri": "https://localhost:8080/"
        },
        "id": "txKSqpXoxx3u",
        "outputId": "81500480-c380-4c1b-a7fe-c24baae0b457"
      },
      "execution_count": null,
      "outputs": [
        {
          "output_type": "execute_result",
          "data": {
            "text/plain": [
              "(<tf.Tensor: shape=(8,), dtype=float64, numpy=array([-7., -4., -1.,  2.,  5.,  8., 11., 14.])>,\n",
              " <tf.Tensor: shape=(8,), dtype=float64, numpy=array([ 3.,  6.,  9., 12., 15., 18., 21., 24.])>)"
            ]
          },
          "metadata": {},
          "execution_count": 8
        }
      ]
    },
    {
      "cell_type": "code",
      "source": [
        "#try and make a prediction using our model\n",
        "y_pred = model.predict([17.0]) \n",
        "y_pred"
      ],
      "metadata": {
        "colab": {
          "base_uri": "https://localhost:8080/"
        },
        "id": "cqeQWPZqx4fo",
        "outputId": "15f37b85-1f13-4c67-bab3-2146ee351e7a"
      },
      "execution_count": null,
      "outputs": [
        {
          "output_type": "stream",
          "name": "stdout",
          "text": [
            "1/1 [==============================] - 0s 84ms/step\n"
          ]
        },
        {
          "output_type": "execute_result",
          "data": {
            "text/plain": [
              "array([[12.716021]], dtype=float32)"
            ]
          },
          "metadata": {},
          "execution_count": 9
        }
      ]
    },
    {
      "cell_type": "code",
      "source": [
        "y_pred +11"
      ],
      "metadata": {
        "colab": {
          "base_uri": "https://localhost:8080/"
        },
        "id": "DjkM18bqyzqy",
        "outputId": "6df3a99d-abba-4b10-83f5-da3df646be2a"
      },
      "execution_count": null,
      "outputs": [
        {
          "output_type": "execute_result",
          "data": {
            "text/plain": [
              "array([[23.71602]], dtype=float32)"
            ]
          },
          "metadata": {},
          "execution_count": 10
        }
      ]
    },
    {
      "cell_type": "markdown",
      "source": [
        "1. Construct or import a pretrained model relevant to your problem.\n",
        "\n",
        "2. Compile the model(prepare it to be used with data).\n",
        "\n",
        "- LOSS - how wrong your model's predictions are compared to the truth labels(you want to minimise this).\n",
        "- Optimizer - how your model should update its internal patterns to better its predictions\n",
        "- Metrics - human interpretable values for how well your model is doing.\n",
        "\n",
        "3. Fit the model to the training data so it can discover patterns.\n",
        "- Epochs - how many times the model will go through all of the training examples.\n",
        "4. Evaluate the model on the test data.\n",
        "\n",
        "\n",
        "\n",
        "\n",
        "We can improve our model, by altering the steps we took to create a model."
      ],
      "metadata": {
        "id": "nRPJeRDFqAx8"
      }
    },
    {
      "cell_type": "markdown",
      "source": [
        "1. **Creating a model**- here we might add more layers, increase the number of hidden units(all called neurons) within each of the hidden layers, change the activation function of each layer.\n",
        "\n",
        "2. **Compiling a model**- here we might change the optimization function or perhaps the **learning rate** of the optimization function.\n",
        "\n",
        "3. **Fitting a model**- here we might fit a model for more **epochs** (leave it training for longer) or on more data (give the model more examples to learn from)."
      ],
      "metadata": {
        "id": "35ZQkBJBwknm"
      }
    },
    {
      "cell_type": "code",
      "source": [
        "\n",
        "# Set random seed\n",
        "tf.random.set_seed(42)\n",
        "\n",
        "# Create a model (same as above)\n",
        "model = tf.keras.Sequential([\n",
        "  tf.keras.layers.Dense(1)\n",
        "])\n",
        "\n",
        "# Compile model (same as above)\n",
        "model.compile(loss=tf.keras.losses.mae,\n",
        "              optimizer=tf.keras.optimizers.SGD(),\n",
        "              metrics=[\"mae\"])\n",
        "\n",
        "# Fit model (this time we'll train for longer)\n",
        "model.fit(tf.expand_dims(X, axis=-1), y, epochs=100) # train for 100 epochs not 10\n"
      ],
      "metadata": {
        "id": "rH5SnBcsJ_tg",
        "colab": {
          "base_uri": "https://localhost:8080/"
        },
        "outputId": "1d9d395e-85af-4ecc-8725-1795cf0e76de"
      },
      "execution_count": null,
      "outputs": [
        {
          "output_type": "stream",
          "name": "stdout",
          "text": [
            "Epoch 1/100\n",
            "1/1 [==============================] - 0s 292ms/step - loss: 11.5048 - mae: 11.5048\n",
            "Epoch 2/100\n",
            "1/1 [==============================] - 0s 9ms/step - loss: 11.3723 - mae: 11.3723\n",
            "Epoch 3/100\n",
            "1/1 [==============================] - 0s 10ms/step - loss: 11.2398 - mae: 11.2398\n",
            "Epoch 4/100\n",
            "1/1 [==============================] - 0s 12ms/step - loss: 11.1073 - mae: 11.1073\n",
            "Epoch 5/100\n",
            "1/1 [==============================] - 0s 9ms/step - loss: 10.9748 - mae: 10.9748\n",
            "Epoch 6/100\n",
            "1/1 [==============================] - 0s 8ms/step - loss: 10.8423 - mae: 10.8423\n",
            "Epoch 7/100\n",
            "1/1 [==============================] - 0s 8ms/step - loss: 10.7098 - mae: 10.7098\n",
            "Epoch 8/100\n",
            "1/1 [==============================] - 0s 7ms/step - loss: 10.5773 - mae: 10.5773\n",
            "Epoch 9/100\n",
            "1/1 [==============================] - 0s 8ms/step - loss: 10.4448 - mae: 10.4448\n",
            "Epoch 10/100\n",
            "1/1 [==============================] - 0s 11ms/step - loss: 10.3123 - mae: 10.3123\n",
            "Epoch 11/100\n",
            "1/1 [==============================] - 0s 6ms/step - loss: 10.1798 - mae: 10.1798\n",
            "Epoch 12/100\n",
            "1/1 [==============================] - 0s 5ms/step - loss: 10.0473 - mae: 10.0473\n",
            "Epoch 13/100\n",
            "1/1 [==============================] - 0s 6ms/step - loss: 9.9148 - mae: 9.9148\n",
            "Epoch 14/100\n",
            "1/1 [==============================] - 0s 6ms/step - loss: 9.7823 - mae: 9.7823\n",
            "Epoch 15/100\n",
            "1/1 [==============================] - 0s 9ms/step - loss: 9.6498 - mae: 9.6498\n",
            "Epoch 16/100\n",
            "1/1 [==============================] - 0s 7ms/step - loss: 9.5173 - mae: 9.5173\n",
            "Epoch 17/100\n",
            "1/1 [==============================] - 0s 7ms/step - loss: 9.3848 - mae: 9.3848\n",
            "Epoch 18/100\n",
            "1/1 [==============================] - 0s 7ms/step - loss: 9.2523 - mae: 9.2523\n",
            "Epoch 19/100\n",
            "1/1 [==============================] - 0s 7ms/step - loss: 9.1198 - mae: 9.1198\n",
            "Epoch 20/100\n",
            "1/1 [==============================] - 0s 7ms/step - loss: 8.9873 - mae: 8.9873\n",
            "Epoch 21/100\n",
            "1/1 [==============================] - 0s 7ms/step - loss: 8.8548 - mae: 8.8548\n",
            "Epoch 22/100\n",
            "1/1 [==============================] - 0s 7ms/step - loss: 8.7223 - mae: 8.7223\n",
            "Epoch 23/100\n",
            "1/1 [==============================] - 0s 7ms/step - loss: 8.5898 - mae: 8.5898\n",
            "Epoch 24/100\n",
            "1/1 [==============================] - 0s 7ms/step - loss: 8.4573 - mae: 8.4573\n",
            "Epoch 25/100\n",
            "1/1 [==============================] - 0s 8ms/step - loss: 8.3248 - mae: 8.3248\n",
            "Epoch 26/100\n",
            "1/1 [==============================] - 0s 7ms/step - loss: 8.1923 - mae: 8.1923\n",
            "Epoch 27/100\n",
            "1/1 [==============================] - 0s 7ms/step - loss: 8.0598 - mae: 8.0598\n",
            "Epoch 28/100\n",
            "1/1 [==============================] - 0s 8ms/step - loss: 7.9273 - mae: 7.9273\n",
            "Epoch 29/100\n",
            "1/1 [==============================] - 0s 8ms/step - loss: 7.7948 - mae: 7.7948\n",
            "Epoch 30/100\n",
            "1/1 [==============================] - 0s 7ms/step - loss: 7.6623 - mae: 7.6623\n",
            "Epoch 31/100\n",
            "1/1 [==============================] - 0s 7ms/step - loss: 7.5298 - mae: 7.5298\n",
            "Epoch 32/100\n",
            "1/1 [==============================] - 0s 7ms/step - loss: 7.3973 - mae: 7.3973\n",
            "Epoch 33/100\n",
            "1/1 [==============================] - 0s 8ms/step - loss: 7.2648 - mae: 7.2648\n",
            "Epoch 34/100\n",
            "1/1 [==============================] - 0s 7ms/step - loss: 7.2525 - mae: 7.2525\n",
            "Epoch 35/100\n",
            "1/1 [==============================] - 0s 8ms/step - loss: 7.2469 - mae: 7.2469\n",
            "Epoch 36/100\n",
            "1/1 [==============================] - 0s 8ms/step - loss: 7.2413 - mae: 7.2413\n",
            "Epoch 37/100\n",
            "1/1 [==============================] - 0s 7ms/step - loss: 7.2356 - mae: 7.2356\n",
            "Epoch 38/100\n",
            "1/1 [==============================] - 0s 9ms/step - loss: 7.2300 - mae: 7.2300\n",
            "Epoch 39/100\n",
            "1/1 [==============================] - 0s 8ms/step - loss: 7.2244 - mae: 7.2244\n",
            "Epoch 40/100\n",
            "1/1 [==============================] - 0s 8ms/step - loss: 7.2188 - mae: 7.2188\n",
            "Epoch 41/100\n",
            "1/1 [==============================] - 0s 8ms/step - loss: 7.2131 - mae: 7.2131\n",
            "Epoch 42/100\n",
            "1/1 [==============================] - 0s 7ms/step - loss: 7.2075 - mae: 7.2075\n",
            "Epoch 43/100\n",
            "1/1 [==============================] - 0s 11ms/step - loss: 7.2019 - mae: 7.2019\n",
            "Epoch 44/100\n",
            "1/1 [==============================] - 0s 7ms/step - loss: 7.1963 - mae: 7.1963\n",
            "Epoch 45/100\n",
            "1/1 [==============================] - 0s 7ms/step - loss: 7.1906 - mae: 7.1906\n",
            "Epoch 46/100\n",
            "1/1 [==============================] - 0s 7ms/step - loss: 7.1850 - mae: 7.1850\n",
            "Epoch 47/100\n",
            "1/1 [==============================] - 0s 8ms/step - loss: 7.1794 - mae: 7.1794\n",
            "Epoch 48/100\n",
            "1/1 [==============================] - 0s 7ms/step - loss: 7.1738 - mae: 7.1738\n",
            "Epoch 49/100\n",
            "1/1 [==============================] - 0s 8ms/step - loss: 7.1681 - mae: 7.1681\n",
            "Epoch 50/100\n",
            "1/1 [==============================] - 0s 8ms/step - loss: 7.1625 - mae: 7.1625\n",
            "Epoch 51/100\n",
            "1/1 [==============================] - 0s 7ms/step - loss: 7.1569 - mae: 7.1569\n",
            "Epoch 52/100\n",
            "1/1 [==============================] - 0s 7ms/step - loss: 7.1512 - mae: 7.1512\n",
            "Epoch 53/100\n",
            "1/1 [==============================] - 0s 7ms/step - loss: 7.1456 - mae: 7.1456\n",
            "Epoch 54/100\n",
            "1/1 [==============================] - 0s 7ms/step - loss: 7.1400 - mae: 7.1400\n",
            "Epoch 55/100\n",
            "1/1 [==============================] - 0s 7ms/step - loss: 7.1344 - mae: 7.1344\n",
            "Epoch 56/100\n",
            "1/1 [==============================] - 0s 7ms/step - loss: 7.1287 - mae: 7.1287\n",
            "Epoch 57/100\n",
            "1/1 [==============================] - 0s 7ms/step - loss: 7.1231 - mae: 7.1231\n",
            "Epoch 58/100\n",
            "1/1 [==============================] - 0s 7ms/step - loss: 7.1175 - mae: 7.1175\n",
            "Epoch 59/100\n",
            "1/1 [==============================] - 0s 7ms/step - loss: 7.1119 - mae: 7.1119\n",
            "Epoch 60/100\n",
            "1/1 [==============================] - 0s 7ms/step - loss: 7.1063 - mae: 7.1063\n",
            "Epoch 61/100\n",
            "1/1 [==============================] - 0s 7ms/step - loss: 7.1006 - mae: 7.1006\n",
            "Epoch 62/100\n",
            "1/1 [==============================] - 0s 7ms/step - loss: 7.0950 - mae: 7.0950\n",
            "Epoch 63/100\n",
            "1/1 [==============================] - 0s 7ms/step - loss: 7.0894 - mae: 7.0894\n",
            "Epoch 64/100\n",
            "1/1 [==============================] - 0s 10ms/step - loss: 7.0838 - mae: 7.0838\n",
            "Epoch 65/100\n",
            "1/1 [==============================] - 0s 6ms/step - loss: 7.0781 - mae: 7.0781\n",
            "Epoch 66/100\n",
            "1/1 [==============================] - 0s 7ms/step - loss: 7.0725 - mae: 7.0725\n",
            "Epoch 67/100\n",
            "1/1 [==============================] - 0s 7ms/step - loss: 7.0669 - mae: 7.0669\n",
            "Epoch 68/100\n",
            "1/1 [==============================] - 0s 6ms/step - loss: 7.0613 - mae: 7.0613\n",
            "Epoch 69/100\n",
            "1/1 [==============================] - 0s 7ms/step - loss: 7.0556 - mae: 7.0556\n",
            "Epoch 70/100\n",
            "1/1 [==============================] - 0s 7ms/step - loss: 7.0500 - mae: 7.0500\n",
            "Epoch 71/100\n",
            "1/1 [==============================] - 0s 7ms/step - loss: 7.0444 - mae: 7.0444\n",
            "Epoch 72/100\n",
            "1/1 [==============================] - 0s 7ms/step - loss: 7.0388 - mae: 7.0388\n",
            "Epoch 73/100\n",
            "1/1 [==============================] - 0s 7ms/step - loss: 7.0331 - mae: 7.0331\n",
            "Epoch 74/100\n",
            "1/1 [==============================] - 0s 7ms/step - loss: 7.0275 - mae: 7.0275\n",
            "Epoch 75/100\n",
            "1/1 [==============================] - 0s 7ms/step - loss: 7.0219 - mae: 7.0219\n",
            "Epoch 76/100\n",
            "1/1 [==============================] - 0s 10ms/step - loss: 7.0163 - mae: 7.0163\n",
            "Epoch 77/100\n",
            "1/1 [==============================] - 0s 8ms/step - loss: 7.0106 - mae: 7.0106\n",
            "Epoch 78/100\n",
            "1/1 [==============================] - 0s 24ms/step - loss: 7.0050 - mae: 7.0050\n",
            "Epoch 79/100\n",
            "1/1 [==============================] - 0s 21ms/step - loss: 6.9994 - mae: 6.9994\n",
            "Epoch 80/100\n",
            "1/1 [==============================] - 0s 9ms/step - loss: 6.9938 - mae: 6.9938\n",
            "Epoch 81/100\n",
            "1/1 [==============================] - 0s 8ms/step - loss: 6.9881 - mae: 6.9881\n",
            "Epoch 82/100\n",
            "1/1 [==============================] - 0s 7ms/step - loss: 6.9825 - mae: 6.9825\n",
            "Epoch 83/100\n",
            "1/1 [==============================] - 0s 8ms/step - loss: 6.9769 - mae: 6.9769\n",
            "Epoch 84/100\n",
            "1/1 [==============================] - 0s 7ms/step - loss: 6.9713 - mae: 6.9713\n",
            "Epoch 85/100\n",
            "1/1 [==============================] - 0s 7ms/step - loss: 6.9656 - mae: 6.9656\n",
            "Epoch 86/100\n",
            "1/1 [==============================] - 0s 7ms/step - loss: 6.9600 - mae: 6.9600\n",
            "Epoch 87/100\n",
            "1/1 [==============================] - 0s 8ms/step - loss: 6.9544 - mae: 6.9544\n",
            "Epoch 88/100\n",
            "1/1 [==============================] - 0s 7ms/step - loss: 6.9488 - mae: 6.9488\n",
            "Epoch 89/100\n",
            "1/1 [==============================] - 0s 7ms/step - loss: 6.9431 - mae: 6.9431\n",
            "Epoch 90/100\n",
            "1/1 [==============================] - 0s 7ms/step - loss: 6.9375 - mae: 6.9375\n",
            "Epoch 91/100\n",
            "1/1 [==============================] - 0s 7ms/step - loss: 6.9319 - mae: 6.9319\n",
            "Epoch 92/100\n",
            "1/1 [==============================] - 0s 7ms/step - loss: 6.9263 - mae: 6.9263\n",
            "Epoch 93/100\n",
            "1/1 [==============================] - 0s 7ms/step - loss: 6.9206 - mae: 6.9206\n",
            "Epoch 94/100\n",
            "1/1 [==============================] - 0s 7ms/step - loss: 6.9150 - mae: 6.9150\n",
            "Epoch 95/100\n",
            "1/1 [==============================] - 0s 7ms/step - loss: 6.9094 - mae: 6.9094\n",
            "Epoch 96/100\n",
            "1/1 [==============================] - 0s 7ms/step - loss: 6.9038 - mae: 6.9038\n",
            "Epoch 97/100\n",
            "1/1 [==============================] - 0s 7ms/step - loss: 6.8981 - mae: 6.8981\n",
            "Epoch 98/100\n",
            "1/1 [==============================] - 0s 8ms/step - loss: 6.8925 - mae: 6.8925\n",
            "Epoch 99/100\n",
            "1/1 [==============================] - 0s 8ms/step - loss: 6.8869 - mae: 6.8869\n",
            "Epoch 100/100\n",
            "1/1 [==============================] - 0s 6ms/step - loss: 6.8813 - mae: 6.8813\n"
          ]
        },
        {
          "output_type": "execute_result",
          "data": {
            "text/plain": [
              "<keras.callbacks.History at 0x7f1f747e1d90>"
            ]
          },
          "metadata": {},
          "execution_count": 11
        }
      ]
    },
    {
      "cell_type": "code",
      "source": [
        "X,y "
      ],
      "metadata": {
        "colab": {
          "base_uri": "https://localhost:8080/"
        },
        "id": "pb9XM7xwMMyy",
        "outputId": "1f3debc8-e3bd-4df7-ec79-66f83516d2d8"
      },
      "execution_count": null,
      "outputs": [
        {
          "output_type": "execute_result",
          "data": {
            "text/plain": [
              "(<tf.Tensor: shape=(8,), dtype=float64, numpy=array([-7., -4., -1.,  2.,  5.,  8., 11., 14.])>,\n",
              " <tf.Tensor: shape=(8,), dtype=float64, numpy=array([ 3.,  6.,  9., 12., 15., 18., 21., 24.])>)"
            ]
          },
          "metadata": {},
          "execution_count": 12
        }
      ]
    },
    {
      "cell_type": "code",
      "source": [
        "#lets see if our model's prediction has improved..\n",
        "model.predict([17.0])"
      ],
      "metadata": {
        "colab": {
          "base_uri": "https://localhost:8080/"
        },
        "id": "93a6O-qoL7kw",
        "outputId": "429563f2-bed5-448e-8e71-d1cff1efa33f"
      },
      "execution_count": null,
      "outputs": [
        {
          "output_type": "stream",
          "name": "stdout",
          "text": [
            "1/1 [==============================] - 0s 52ms/step\n"
          ]
        },
        {
          "output_type": "execute_result",
          "data": {
            "text/plain": [
              "array([[30.158512]], dtype=float32)"
            ]
          },
          "metadata": {},
          "execution_count": 13
        }
      ]
    },
    {
      "cell_type": "code",
      "source": [
        "#improving more..\n",
        "\n",
        "#1 create the model (this time with extra hidden layer with 100 hidden units)\n",
        "\n",
        "model = tf.keras.Sequential([\n",
        "    tf.keras.layers.Dense(100, activation=\"relu\"),\n",
        "    tf.keras.layers.Dense(1)\n",
        "])\n",
        "\n",
        "#2 Compile the model\n",
        "model.compile(loss=tf.keras.losses.mae,\n",
        "              optimizer=tf.keras.optimizers.SGD())\n",
        "\n",
        "#3 Fit the model\n",
        "model.fit(tf.expand_dims(X, axis=1), y, epochs=100)"
      ],
      "metadata": {
        "id": "y3BJPte3M2JJ",
        "colab": {
          "base_uri": "https://localhost:8080/"
        },
        "outputId": "d76cfd65-f1f7-43b4-a73f-c622031572f7"
      },
      "execution_count": null,
      "outputs": [
        {
          "output_type": "stream",
          "name": "stdout",
          "text": [
            "Epoch 1/100\n",
            "1/1 [==============================] - 1s 1s/step - loss: 13.9468\n",
            "Epoch 2/100\n",
            "1/1 [==============================] - 0s 10ms/step - loss: 13.2859\n",
            "Epoch 3/100\n",
            "1/1 [==============================] - 0s 9ms/step - loss: 12.6279\n",
            "Epoch 4/100\n",
            "1/1 [==============================] - 0s 13ms/step - loss: 11.9702\n",
            "Epoch 5/100\n",
            "1/1 [==============================] - 0s 11ms/step - loss: 11.3044\n",
            "Epoch 6/100\n",
            "1/1 [==============================] - 0s 9ms/step - loss: 10.6244\n",
            "Epoch 7/100\n",
            "1/1 [==============================] - 0s 9ms/step - loss: 9.9248\n",
            "Epoch 8/100\n",
            "1/1 [==============================] - 0s 6ms/step - loss: 9.1949\n",
            "Epoch 9/100\n",
            "1/1 [==============================] - 0s 6ms/step - loss: 8.4303\n",
            "Epoch 10/100\n",
            "1/1 [==============================] - 0s 6ms/step - loss: 7.6245\n",
            "Epoch 11/100\n",
            "1/1 [==============================] - 0s 6ms/step - loss: 6.7723\n",
            "Epoch 12/100\n",
            "1/1 [==============================] - 0s 6ms/step - loss: 5.8960\n",
            "Epoch 13/100\n",
            "1/1 [==============================] - 0s 7ms/step - loss: 4.9754\n",
            "Epoch 14/100\n",
            "1/1 [==============================] - 0s 6ms/step - loss: 4.1323\n",
            "Epoch 15/100\n",
            "1/1 [==============================] - 0s 6ms/step - loss: 4.0312\n",
            "Epoch 16/100\n",
            "1/1 [==============================] - 0s 11ms/step - loss: 3.9276\n",
            "Epoch 17/100\n",
            "1/1 [==============================] - 0s 7ms/step - loss: 3.9605\n",
            "Epoch 18/100\n",
            "1/1 [==============================] - 0s 7ms/step - loss: 3.9073\n",
            "Epoch 19/100\n",
            "1/1 [==============================] - 0s 6ms/step - loss: 3.9714\n",
            "Epoch 20/100\n",
            "1/1 [==============================] - 0s 10ms/step - loss: 3.8999\n",
            "Epoch 21/100\n",
            "1/1 [==============================] - 0s 9ms/step - loss: 3.9595\n",
            "Epoch 22/100\n",
            "1/1 [==============================] - 0s 91ms/step - loss: 3.9079\n",
            "Epoch 23/100\n",
            "1/1 [==============================] - 0s 14ms/step - loss: 3.9333\n",
            "Epoch 24/100\n",
            "1/1 [==============================] - 0s 9ms/step - loss: 3.9160\n",
            "Epoch 25/100\n",
            "1/1 [==============================] - 0s 17ms/step - loss: 3.9096\n",
            "Epoch 26/100\n",
            "1/1 [==============================] - 0s 18ms/step - loss: 3.9309\n",
            "Epoch 27/100\n",
            "1/1 [==============================] - 0s 16ms/step - loss: 3.8864\n",
            "Epoch 28/100\n",
            "1/1 [==============================] - 0s 26ms/step - loss: 3.9391\n",
            "Epoch 29/100\n",
            "1/1 [==============================] - 0s 22ms/step - loss: 3.8681\n",
            "Epoch 30/100\n",
            "1/1 [==============================] - 0s 24ms/step - loss: 3.9381\n",
            "Epoch 31/100\n",
            "1/1 [==============================] - 0s 22ms/step - loss: 3.8763\n",
            "Epoch 32/100\n",
            "1/1 [==============================] - 0s 23ms/step - loss: 3.9117\n",
            "Epoch 33/100\n",
            "1/1 [==============================] - 0s 21ms/step - loss: 3.8854\n",
            "Epoch 34/100\n",
            "1/1 [==============================] - 0s 18ms/step - loss: 3.8910\n",
            "Epoch 35/100\n",
            "1/1 [==============================] - 0s 14ms/step - loss: 3.8996\n",
            "Epoch 36/100\n",
            "1/1 [==============================] - 0s 18ms/step - loss: 3.8641\n",
            "Epoch 37/100\n",
            "1/1 [==============================] - 0s 16ms/step - loss: 3.9080\n",
            "Epoch 38/100\n",
            "1/1 [==============================] - 0s 22ms/step - loss: 3.8374\n",
            "Epoch 39/100\n",
            "1/1 [==============================] - 0s 23ms/step - loss: 3.9154\n",
            "Epoch 40/100\n",
            "1/1 [==============================] - 0s 12ms/step - loss: 3.8459\n",
            "Epoch 41/100\n",
            "1/1 [==============================] - 0s 16ms/step - loss: 3.8888\n",
            "Epoch 42/100\n",
            "1/1 [==============================] - 0s 19ms/step - loss: 3.8594\n",
            "Epoch 43/100\n",
            "1/1 [==============================] - 0s 19ms/step - loss: 3.8678\n",
            "Epoch 44/100\n",
            "1/1 [==============================] - 0s 18ms/step - loss: 3.8695\n",
            "Epoch 45/100\n",
            "1/1 [==============================] - 0s 17ms/step - loss: 3.8407\n",
            "Epoch 46/100\n",
            "1/1 [==============================] - 0s 23ms/step - loss: 3.8782\n",
            "Epoch 47/100\n",
            "1/1 [==============================] - 0s 22ms/step - loss: 3.8134\n",
            "Epoch 48/100\n",
            "1/1 [==============================] - 0s 20ms/step - loss: 3.8870\n",
            "Epoch 49/100\n",
            "1/1 [==============================] - 0s 25ms/step - loss: 3.8165\n",
            "Epoch 50/100\n",
            "1/1 [==============================] - 0s 20ms/step - loss: 3.8678\n",
            "Epoch 51/100\n",
            "1/1 [==============================] - 0s 19ms/step - loss: 3.8318\n",
            "Epoch 52/100\n",
            "1/1 [==============================] - 0s 18ms/step - loss: 3.8433\n",
            "Epoch 53/100\n",
            "1/1 [==============================] - 0s 24ms/step - loss: 3.8405\n",
            "Epoch 54/100\n",
            "1/1 [==============================] - 0s 15ms/step - loss: 3.8159\n",
            "Epoch 55/100\n",
            "1/1 [==============================] - 0s 19ms/step - loss: 3.8494\n",
            "Epoch 56/100\n",
            "1/1 [==============================] - 0s 23ms/step - loss: 3.7884\n",
            "Epoch 57/100\n",
            "1/1 [==============================] - 0s 10ms/step - loss: 3.8585\n",
            "Epoch 58/100\n",
            "1/1 [==============================] - 0s 11ms/step - loss: 3.7889\n",
            "Epoch 59/100\n",
            "1/1 [==============================] - 0s 14ms/step - loss: 3.8451\n",
            "Epoch 60/100\n",
            "1/1 [==============================] - 0s 12ms/step - loss: 3.8037\n",
            "Epoch 61/100\n",
            "1/1 [==============================] - 0s 20ms/step - loss: 3.8175\n",
            "Epoch 62/100\n",
            "1/1 [==============================] - 0s 19ms/step - loss: 3.8126\n",
            "Epoch 63/100\n",
            "1/1 [==============================] - 0s 14ms/step - loss: 3.7899\n",
            "Epoch 64/100\n",
            "1/1 [==============================] - 0s 15ms/step - loss: 3.8218\n",
            "Epoch 65/100\n",
            "1/1 [==============================] - 0s 13ms/step - loss: 3.7622\n",
            "Epoch 66/100\n",
            "1/1 [==============================] - 0s 9ms/step - loss: 3.8311\n",
            "Epoch 67/100\n",
            "1/1 [==============================] - 0s 6ms/step - loss: 3.7651\n",
            "Epoch 68/100\n",
            "1/1 [==============================] - 0s 7ms/step - loss: 3.8185\n",
            "Epoch 69/100\n",
            "1/1 [==============================] - 0s 7ms/step - loss: 3.7766\n",
            "Epoch 70/100\n",
            "1/1 [==============================] - 0s 7ms/step - loss: 3.7906\n",
            "Epoch 71/100\n",
            "1/1 [==============================] - 0s 6ms/step - loss: 3.7858\n",
            "Epoch 72/100\n",
            "1/1 [==============================] - 0s 7ms/step - loss: 3.7627\n",
            "Epoch 73/100\n",
            "1/1 [==============================] - 0s 7ms/step - loss: 3.7952\n",
            "Epoch 74/100\n",
            "1/1 [==============================] - 0s 7ms/step - loss: 3.7347\n",
            "Epoch 75/100\n",
            "1/1 [==============================] - 0s 6ms/step - loss: 3.8055\n",
            "Epoch 76/100\n",
            "1/1 [==============================] - 0s 6ms/step - loss: 3.7414\n",
            "Epoch 77/100\n",
            "1/1 [==============================] - 0s 7ms/step - loss: 3.7906\n",
            "Epoch 78/100\n",
            "1/1 [==============================] - 0s 7ms/step - loss: 3.7506\n",
            "Epoch 79/100\n",
            "1/1 [==============================] - 0s 6ms/step - loss: 3.7624\n",
            "Epoch 80/100\n",
            "1/1 [==============================] - 0s 6ms/step - loss: 3.7599\n",
            "Epoch 81/100\n",
            "1/1 [==============================] - 0s 6ms/step - loss: 3.7342\n",
            "Epoch 82/100\n",
            "1/1 [==============================] - 0s 6ms/step - loss: 3.7696\n",
            "Epoch 83/100\n",
            "1/1 [==============================] - 0s 6ms/step - loss: 3.7059\n",
            "Epoch 84/100\n",
            "1/1 [==============================] - 0s 7ms/step - loss: 3.7833\n",
            "Epoch 85/100\n",
            "1/1 [==============================] - 0s 10ms/step - loss: 3.7162\n",
            "Epoch 86/100\n",
            "1/1 [==============================] - 0s 8ms/step - loss: 3.7614\n",
            "Epoch 87/100\n",
            "1/1 [==============================] - 0s 8ms/step - loss: 3.7255\n",
            "Epoch 88/100\n",
            "1/1 [==============================] - 0s 7ms/step - loss: 3.7328\n",
            "Epoch 89/100\n",
            "1/1 [==============================] - 0s 7ms/step - loss: 3.7351\n",
            "Epoch 90/100\n",
            "1/1 [==============================] - 0s 21ms/step - loss: 3.7044\n",
            "Epoch 91/100\n",
            "1/1 [==============================] - 0s 24ms/step - loss: 3.7449\n",
            "Epoch 92/100\n",
            "1/1 [==============================] - 0s 25ms/step - loss: 3.6776\n",
            "Epoch 93/100\n",
            "1/1 [==============================] - 0s 7ms/step - loss: 3.7594\n",
            "Epoch 94/100\n",
            "1/1 [==============================] - 0s 11ms/step - loss: 3.6919\n",
            "Epoch 95/100\n",
            "1/1 [==============================] - 0s 9ms/step - loss: 3.7307\n",
            "Epoch 96/100\n",
            "1/1 [==============================] - 0s 7ms/step - loss: 3.7015\n",
            "Epoch 97/100\n",
            "1/1 [==============================] - 0s 6ms/step - loss: 3.7019\n",
            "Epoch 98/100\n",
            "1/1 [==============================] - 0s 6ms/step - loss: 3.7114\n",
            "Epoch 99/100\n",
            "1/1 [==============================] - 0s 6ms/step - loss: 3.6731\n",
            "Epoch 100/100\n",
            "1/1 [==============================] - 0s 6ms/step - loss: 3.7214\n"
          ]
        },
        {
          "output_type": "execute_result",
          "data": {
            "text/plain": [
              "<keras.callbacks.History at 0x7f1f75736640>"
            ]
          },
          "metadata": {},
          "execution_count": 14
        }
      ]
    },
    {
      "cell_type": "code",
      "source": [
        "X, y"
      ],
      "metadata": {
        "colab": {
          "base_uri": "https://localhost:8080/"
        },
        "id": "NQCV-cA8gFhC",
        "outputId": "98c866c6-ad22-482c-9641-586d30e4527e"
      },
      "execution_count": null,
      "outputs": [
        {
          "output_type": "execute_result",
          "data": {
            "text/plain": [
              "(<tf.Tensor: shape=(8,), dtype=float64, numpy=array([-7., -4., -1.,  2.,  5.,  8., 11., 14.])>,\n",
              " <tf.Tensor: shape=(8,), dtype=float64, numpy=array([ 3.,  6.,  9., 12., 15., 18., 21., 24.])>)"
            ]
          },
          "metadata": {},
          "execution_count": 15
        }
      ]
    },
    {
      "cell_type": "code",
      "source": [
        "#now putting X = 17, llets see what will be the value of  y\n",
        "model.predict([17.0])\n",
        "\n",
        "\n",
        "#so previous model which showed Y=30 is better than this model....\n"
      ],
      "metadata": {
        "id": "9-Oe8WOggH1M",
        "colab": {
          "base_uri": "https://localhost:8080/"
        },
        "outputId": "aa08ee77-0f06-4398-f798-5b120f55fb32"
      },
      "execution_count": null,
      "outputs": [
        {
          "output_type": "stream",
          "name": "stdout",
          "text": [
            "1/1 [==============================] - 0s 58ms/step\n"
          ]
        },
        {
          "output_type": "execute_result",
          "data": {
            "text/plain": [
              "array([[31.941305]], dtype=float32)"
            ]
          },
          "metadata": {},
          "execution_count": 16
        }
      ]
    },
    {
      "cell_type": "markdown",
      "source": [
        "##common ways to improve a model:-\n",
        "- Adding layers\n",
        "- Increase the number of hidden units\n",
        "- Change the activation function\n",
        "- Change the optimizationfunc (optimizer=tf.keras.optimizer.Adam(lr=0.0001) , where lr is learning rate\n",
        "- Change the learning rate \n",
        "- Fitting the more data\n",
        "- Fitting for longer (epochs)\n"
      ],
      "metadata": {
        "id": "cuh4disQgs44"
      }
    },
    {
      "cell_type": "markdown",
      "source": [
        "##Evaluating a model\n",
        "\n",
        "the workflow will be as follows-\n",
        "\n",
        "Build a model --> Fit it --> Evaluate it --> tweak a model --> fit it --> evaluate it --> tweak a model --> fit it --> Evaluate it...\n"
      ],
      "metadata": {
        "id": "vlQUgqiPiG2P"
      }
    },
    {
      "cell_type": "code",
      "source": [
        "#make a bigger dataset\n",
        "X = tf.range(-100, 100, 4)\n",
        "X\n",
        "\n",
        "y = X+10\n",
        "y"
      ],
      "metadata": {
        "id": "R9D7NPzQgdTx",
        "colab": {
          "base_uri": "https://localhost:8080/"
        },
        "outputId": "791c48e2-4e16-45e6-f1db-a1b1853034b8"
      },
      "execution_count": null,
      "outputs": [
        {
          "output_type": "execute_result",
          "data": {
            "text/plain": [
              "<tf.Tensor: shape=(50,), dtype=int32, numpy=\n",
              "array([-90, -86, -82, -78, -74, -70, -66, -62, -58, -54, -50, -46, -42,\n",
              "       -38, -34, -30, -26, -22, -18, -14, -10,  -6,  -2,   2,   6,  10,\n",
              "        14,  18,  22,  26,  30,  34,  38,  42,  46,  50,  54,  58,  62,\n",
              "        66,  70,  74,  78,  82,  86,  90,  94,  98, 102, 106], dtype=int32)>"
            ]
          },
          "metadata": {},
          "execution_count": 17
        }
      ]
    },
    {
      "cell_type": "markdown",
      "source": [
        "###The 3 sets-\n",
        "\n",
        "- **Training set** - thhe model learns from this data, which is typically 70-80% of the total data you have available.\n",
        "- **Validation set** - the model get tuned on this data, which is typically 10-15% of data available.\n",
        "- **Tets set** - the model gets evaluated on this data to test what is has learned, this set is typically 10-15% of the total data available.\n",
        "\n",
        "\n",
        "\n",
        "**Generalization** - The ability for a machine learning model to perform well on data it hasn't seen before."
      ],
      "metadata": {
        "id": "ATlvIkrjkGkh"
      }
    },
    {
      "cell_type": "code",
      "source": [
        "### the 3 sets....\n",
        "len(X)"
      ],
      "metadata": {
        "id": "h1DnEba4jx1D",
        "colab": {
          "base_uri": "https://localhost:8080/"
        },
        "outputId": "86a023fb-c9af-4bf4-f386-2ae285126e26"
      },
      "execution_count": null,
      "outputs": [
        {
          "output_type": "execute_result",
          "data": {
            "text/plain": [
              "50"
            ]
          },
          "metadata": {},
          "execution_count": 39
        }
      ]
    },
    {
      "cell_type": "code",
      "source": [
        "#split the data into train and test sets\n",
        "\n",
        "X_train = X[:40] #first 40 are trainign samples(80% of the data)\n",
        "y_train = y[:40]\n",
        "X_test = X[40:] #last 10 are testing samples(20% of the data)\n",
        "y_test = y[40:]\n",
        "\n",
        "len(X_train), len(y_train), len(y_test), len(X_test)"
      ],
      "metadata": {
        "id": "pDhcfC8Wljb1",
        "colab": {
          "base_uri": "https://localhost:8080/"
        },
        "outputId": "838d8424-952c-43a3-c48b-cbf53a206c3a"
      },
      "execution_count": null,
      "outputs": [
        {
          "output_type": "execute_result",
          "data": {
            "text/plain": [
              "(40, 40, 10, 10)"
            ]
          },
          "metadata": {},
          "execution_count": 18
        }
      ]
    },
    {
      "cell_type": "code",
      "source": [
        "### visualizing the data\n",
        "#we got our training and testing data.. lets visualize it..\n",
        "\n",
        "plt.figure(figsize=(10, 7))\n",
        "plt.scatter(X_train, y_train, c=\"b\", label=\"Training data\") #b=blue\n",
        "plt.scatter(X_test, y_test, c=\"g\", label=\"Testing data\") #g=green\n",
        "plt.legend();"
      ],
      "metadata": {
        "colab": {
          "base_uri": "https://localhost:8080/",
          "height": 428
        },
        "id": "5ZOIIRcBmq3K",
        "outputId": "b5945279-f858-452b-e145-3311701188d8"
      },
      "execution_count": null,
      "outputs": [
        {
          "output_type": "display_data",
          "data": {
            "text/plain": [
              "<Figure size 720x504 with 1 Axes>"
            ],
            "image/png": "[encoded data removed]"
          },
          "metadata": {
            "needs_background": "light"
          }
        }
      ]
    },
    {
      "cell_type": "code",
      "source": [
        "#HOW TO BUILD NEURAL NETWORK FOR OUR DATA\n",
        "\n",
        "model = tf.keras.Sequential([\n",
        "    tf.keras.layers.Dense(1)\n",
        "])\n",
        "\n",
        "model.compile(loss=tf.keras.losses.mae,\n",
        "              optimizer=tf.keras.optimizers.SGD(),\n",
        "              metrics=[\"mae\"])\n",
        "\n",
        "#model.fit(X_train, y_train, epochs=100)\n",
        "\n",
        "#lets create a model which builds automatically by deifining input_shape argument\n",
        "\n",
        "tf.random.set_seed(42)\n",
        "model = tf.keras.Sequential([\n",
        "    tf.keras.layers.Dense(1, input_shape=[1])\n",
        "])\n",
        "\n",
        "model.compile(loss=tf.keras.losses.mae,\n",
        "              optimizer=tf.keras.optimizers.SGD(),\n",
        "              metrics=[\"mae\"])\n",
        "\n",
        "model.summary()"
      ],
      "metadata": {
        "colab": {
          "base_uri": "https://localhost:8080/"
        },
        "id": "6ZnpXKsHg7Ij",
        "outputId": "3b1e0248-d6b2-4b79-e01f-694329fa05c4"
      },
      "execution_count": null,
      "outputs": [
        {
          "output_type": "stream",
          "name": "stdout",
          "text": [
            "Model: \"sequential_4\"\n",
            "_________________________________________________________________\n",
            " Layer (type)                Output Shape              Param #   \n",
            "=================================================================\n",
            " dense_5 (Dense)             (None, 1)                 2         \n",
            "                                                                 \n",
            "=================================================================\n",
            "Total params: 2\n",
            "Trainable params: 2\n",
            "Non-trainable params: 0\n",
            "_________________________________________________________________\n"
          ]
        }
      ]
    },
    {
      "cell_type": "markdown",
      "source": [
        "Total params= total number of parameters in the model.\n",
        "\n",
        "Trainable parameters= these are parameters(patterns) the model can update as it trains.\n",
        "\n",
        "Non-trainable params= these parameters aren't updated during training(this is typical when you bring in already learn pattern or parameters from other models during **transfer learning**).\n",
        "\n",
        "\n",
        "\n"
      ],
      "metadata": {
        "id": "BRFDp0b0jhWL"
      }
    },
    {
      "cell_type": "code",
      "source": [
        "#lets fit our model to the training data\n",
        "model.fit(X_train, y_train, epochs=100, verbose=0)\n"
      ],
      "metadata": {
        "id": "BwuN4QF9qgux",
        "colab": {
          "base_uri": "https://localhost:8080/"
        },
        "outputId": "cf2c23c3-928e-4d5c-bca9-447fa6c1fba3"
      },
      "execution_count": null,
      "outputs": [
        {
          "output_type": "execute_result",
          "data": {
            "text/plain": [
              "<keras.callbacks.History at 0x7f1f7512d520>"
            ]
          },
          "metadata": {},
          "execution_count": 21
        }
      ]
    },
    {
      "cell_type": "code",
      "source": [
        "from tensorflow.keras.utils import plot_model\n",
        "\n",
        "plot_model(model=model, show_shapes=True)"
      ],
      "metadata": {
        "colab": {
          "base_uri": "https://localhost:8080/",
          "height": 201
        },
        "id": "sCxr9LFNrGAH",
        "outputId": "b8ddb8bc-cfdc-4bec-8056-ce0d905af992"
      },
      "execution_count": null,
      "outputs": [
        {
          "output_type": "execute_result",
          "data": {
            "image/png": "[encoded data removed]",
            "text/plain": [
              "<IPython.core.display.Image object>"
            ]
          },
          "metadata": {},
          "execution_count": 22
        }
      ]
    },
    {
      "cell_type": "markdown",
      "source": [
        "### Visualizing our model's predictions\n",
        "\n",
        "\n",
        "to visualize predictions, it's good idea to plot them against the ground truth table.\n",
        "\n",
        "\n",
        "Often you'll see this in the form of y_test or y_true VERSUS y_pred (ground truth versus our model's predictions).\n"
      ],
      "metadata": {
        "id": "V_iQ_yl9sW5F"
      }
    },
    {
      "cell_type": "code",
      "source": [
        "#making some predictions\n",
        "\n",
        "y_pred = model.predict(X_test)\n",
        "y_pred "
      ],
      "metadata": {
        "colab": {
          "base_uri": "https://localhost:8080/"
        },
        "id": "a08Xy7-fsapx",
        "outputId": "20b7a12b-5e1e-4695-bac9-c49c5d945657"
      },
      "execution_count": null,
      "outputs": [
        {
          "output_type": "stream",
          "name": "stdout",
          "text": [
            "1/1 [==============================] - 0s 42ms/step\n"
          ]
        },
        {
          "output_type": "execute_result",
          "data": {
            "text/plain": [
              "array([[53.57109 ],\n",
              "       [57.05633 ],\n",
              "       [60.541573],\n",
              "       [64.02681 ],\n",
              "       [67.512054],\n",
              "       [70.99729 ],\n",
              "       [74.48254 ],\n",
              "       [77.96777 ],\n",
              "       [81.45301 ],\n",
              "       [84.938255]], dtype=float32)"
            ]
          },
          "metadata": {},
          "execution_count": 23
        }
      ]
    },
    {
      "cell_type": "code",
      "source": [
        "def plot_predictions(train_data=X_train, \n",
        "                     train_labels=y_train, \n",
        "                     test_data=X_test, \n",
        "                     test_labels=y_test, \n",
        "                     predictions=y_pred):\n",
        "  \"\"\"\n",
        "  Plots training data, test data and compares predictions.\n",
        "  \"\"\"\n",
        "  plt.figure(figsize=(10, 7))\n",
        "  # Plot training data in blue\n",
        "  plt.scatter(train_data, train_labels, c=\"b\", label=\"Training data\")\n",
        "  # Plot test data in green\n",
        "  plt.scatter(test_data, test_labels, c=\"g\", label=\"Testing data\")\n",
        "  # Plot the predictions in red (predictions were made on the test data)\n",
        "  plt.scatter(test_data, predictions, c=\"r\", label=\"Predictions\")\n",
        "  # Show the legend\n",
        "  plt.legend();\n",
        "     \n",
        "   \n",
        "\n",
        "plot_predictions(train_data=X_train,\n",
        "                 train_labels=y_train,\n",
        "                 test_data=X_test,\n",
        "                 test_labels=y_test,\n",
        "                 predictions=y_pred)"
      ],
      "metadata": {
        "id": "bbA3SaNJw-S9",
        "colab": {
          "base_uri": "https://localhost:8080/",
          "height": 428
        },
        "outputId": "8dcb9611-90bb-434e-f081-bbb11e908a94"
      },
      "execution_count": null,
      "outputs": [
        {
          "output_type": "display_data",
          "data": {
            "text/plain": [
              "<Figure size 720x504 with 1 Axes>"
            ],
            "image/png": "[encoded data removed]"
          },
          "metadata": {
            "needs_background": "light"
          }
        }
      ]
    },
    {
      "cell_type": "markdown",
      "source": [
        "###evaluating our model's predictions with regression evaluation metircs\n",
        "\n",
        "\n",
        "\n",
        "Depending on the problem you're working on, different models have different evaluation metrics.\n",
        "\n",
        "Two of the main metrics used for regression problems are:\n",
        "\n",
        "Mean absolute error (MAE) - the mean difference between each of the predictions.\n",
        "\n",
        "Mean squared error (MSE) - the squared mean difference between of the predictions (use if larger errors are more significant than smaller errors).\n",
        "\n",
        "Huber- combination of MSE and MAE. tf.keras.losses.Huber()"
      ],
      "metadata": {
        "id": "qFLNHN-nJifR"
      }
    },
    {
      "cell_type": "code",
      "source": [
        "model.evaluate(X_test, y_test)"
      ],
      "metadata": {
        "id": "p9BSJwNzJpJh",
        "colab": {
          "base_uri": "https://localhost:8080/"
        },
        "outputId": "076e91fb-3362-4327-ba2f-ad8c8bd6606c"
      },
      "execution_count": null,
      "outputs": [
        {
          "output_type": "stream",
          "name": "stdout",
          "text": [
            "1/1 [==============================] - 0s 127ms/step - loss: 18.7453 - mae: 18.7453\n"
          ]
        },
        {
          "output_type": "execute_result",
          "data": {
            "text/plain": [
              "[18.74532699584961, 18.74532699584961]"
            ]
          },
          "metadata": {},
          "execution_count": 25
        }
      ]
    },
    {
      "cell_type": "code",
      "source": [
        "#calculate MAE\n",
        "tf.metrics.mean_absolute_error(y_true=y_test,\n",
        "                               y_pred=tf.squeeze(y_pred))\n",
        "\n",
        "#calculate MSE\n",
        "tf.keras.losses.MSE(y_true=y_test,\n",
        "                    y_pred=tf.squeeze(y_pred))\n",
        "\n",
        "#making functions for our evaluation metrics:-\n",
        "def mae(y_test, y_pred):\n",
        "  \"\"\"\n",
        "  Calculuates mean absolute error between y_test and y_preds.\n",
        "  \"\"\"\n",
        "  return tf.metrics.mean_absolute_error(y_test,\n",
        "                                        tf.squeeze(y_pred))\n",
        "  \n",
        "def mse(y_test, y_pred):\n",
        "  \"\"\"\n",
        "  Calculates mean squared error between y_test and y_preds.\n",
        "  \"\"\"\n",
        "  return tf.metrics.mean_squared_error(y_test,\n",
        "                                       tf.squeeze(y_pred))\n",
        "  \n",
        "  # --> tf.squeeze will convert array into tensors."
      ],
      "metadata": {
        "id": "wAzk_OvrMVvL"
      },
      "execution_count": null,
      "outputs": []
    },
    {
      "cell_type": "markdown",
      "source": [
        "###Running experiments to improve our models\n",
        "\n",
        "1. Get more data- get more examples for your model to train on (more opportunities to learn patterns or relationships btw features and labels).\n",
        "\n",
        "2. Make your model larger (using a more complex model) - this might come in the form of more layers or more hidden units in each layer.\n",
        "\n",
        "3. Train for longer- give your model more of a chance to find patterns in the data.\n",
        "\n",
        "\n",
        "\n",
        "To do so, we'll build 3 models and compare their results:\n",
        "\n",
        "model_1 - same as original model, 1 layer, trained for 100 epochs.\n",
        "\n",
        "model_2 - 2 layers, trained for 100 epochs.\n",
        "\n",
        "model_3 - 2 layers, trained for 500 epochs."
      ],
      "metadata": {
        "id": "7016h-TwPA_C"
      }
    },
    {
      "cell_type": "code",
      "source": [
        "#MODEL_1\n",
        "\n",
        "tf.random.set_seed(42)\n",
        "\n",
        "#1 Create the model\n",
        "model_1 = tf.keras.Sequential([\n",
        "    tf.keras.layers.Dense(1)\n",
        "])\n",
        "\n",
        "#2 compile\n",
        "model_1.compile(loss=tf.keras.losses.mae,\n",
        "                optimizer=tf.keras.optimizers.SGD(),\n",
        "                metrics=[\"mae\"])\n",
        "\n",
        "#3 fit the model\n",
        "model_1.fit(tf.expand_dims(X_train, axis=-1), y_train, epochs=100)\n",
        "\n",
        "#make and plot predictions for model_1\n",
        "y_preds_1 = model_1.predict(X_test)\n",
        "plot_predictions(predictions=y_preds_1)"
      ],
      "metadata": {
        "colab": {
          "base_uri": "https://localhost:8080/",
          "height": 1000
        },
        "id": "Q9cSb2fMPjr2",
        "outputId": "fd7f0d17-df5f-40fa-9719-e8dbf2297d90"
      },
      "execution_count": null,
      "outputs": [
        {
          "output_type": "stream",
          "name": "stdout",
          "text": [
            "Epoch 1/100\n",
            "2/2 [==============================] - 0s 5ms/step - loss: 15.9024 - mae: 15.9024\n",
            "Epoch 2/100\n",
            "2/2 [==============================] - 0s 6ms/step - loss: 11.2837 - mae: 11.2837\n",
            "Epoch 3/100\n",
            "2/2 [==============================] - 0s 7ms/step - loss: 11.1075 - mae: 11.1075\n",
            "Epoch 4/100\n",
            "2/2 [==============================] - 0s 8ms/step - loss: 9.2990 - mae: 9.2990\n",
            "Epoch 5/100\n",
            "2/2 [==============================] - 0s 5ms/step - loss: 10.1677 - mae: 10.1677\n",
            "Epoch 6/100\n",
            "2/2 [==============================] - 0s 9ms/step - loss: 9.4303 - mae: 9.4303\n",
            "Epoch 7/100\n",
            "2/2 [==============================] - 0s 7ms/step - loss: 8.5704 - mae: 8.5704\n",
            "Epoch 8/100\n",
            "2/2 [==============================] - 0s 9ms/step - loss: 9.0442 - mae: 9.0442\n",
            "Epoch 9/100\n",
            "2/2 [==============================] - 0s 5ms/step - loss: 18.7517 - mae: 18.7517\n",
            "Epoch 10/100\n",
            "2/2 [==============================] - 0s 6ms/step - loss: 10.1142 - mae: 10.1142\n",
            "Epoch 11/100\n",
            "2/2 [==============================] - 0s 5ms/step - loss: 8.3980 - mae: 8.3980\n",
            "Epoch 12/100\n",
            "2/2 [==============================] - 0s 10ms/step - loss: 10.6639 - mae: 10.6639\n",
            "Epoch 13/100\n",
            "2/2 [==============================] - 0s 6ms/step - loss: 9.7977 - mae: 9.7977\n",
            "Epoch 14/100\n",
            "2/2 [==============================] - 0s 7ms/step - loss: 16.0103 - mae: 16.0103\n",
            "Epoch 15/100\n",
            "2/2 [==============================] - 0s 6ms/step - loss: 11.4068 - mae: 11.4068\n",
            "Epoch 16/100\n",
            "2/2 [==============================] - 0s 6ms/step - loss: 8.5393 - mae: 8.5393\n",
            "Epoch 17/100\n",
            "2/2 [==============================] - 0s 6ms/step - loss: 13.6348 - mae: 13.6348\n",
            "Epoch 18/100\n",
            "2/2 [==============================] - 0s 6ms/step - loss: 11.4629 - mae: 11.4629\n",
            "Epoch 19/100\n",
            "2/2 [==============================] - 0s 5ms/step - loss: 17.9148 - mae: 17.9148\n",
            "Epoch 20/100\n",
            "2/2 [==============================] - 0s 5ms/step - loss: 15.0494 - mae: 15.0494\n",
            "Epoch 21/100\n",
            "2/2 [==============================] - 0s 5ms/step - loss: 11.0216 - mae: 11.0216\n",
            "Epoch 22/100\n",
            "2/2 [==============================] - 0s 7ms/step - loss: 8.1558 - mae: 8.1558\n",
            "Epoch 23/100\n",
            "2/2 [==============================] - 0s 5ms/step - loss: 9.5138 - mae: 9.5138\n",
            "Epoch 24/100\n",
            "2/2 [==============================] - 0s 5ms/step - loss: 7.6617 - mae: 7.6617\n",
            "Epoch 25/100\n",
            "2/2 [==============================] - 0s 6ms/step - loss: 13.1859 - mae: 13.1859\n",
            "Epoch 26/100\n",
            "2/2 [==============================] - 0s 6ms/step - loss: 16.4211 - mae: 16.4211\n",
            "Epoch 27/100\n",
            "2/2 [==============================] - 0s 6ms/step - loss: 13.1660 - mae: 13.1660\n",
            "Epoch 28/100\n",
            "2/2 [==============================] - 0s 5ms/step - loss: 14.2559 - mae: 14.2559\n",
            "Epoch 29/100\n",
            "2/2 [==============================] - 0s 5ms/step - loss: 10.0670 - mae: 10.0670\n",
            "Epoch 30/100\n",
            "2/2 [==============================] - 0s 5ms/step - loss: 16.3409 - mae: 16.3409\n",
            "Epoch 31/100\n",
            "2/2 [==============================] - 0s 4ms/step - loss: 23.6444 - mae: 23.6444\n",
            "Epoch 32/100\n",
            "2/2 [==============================] - 0s 5ms/step - loss: 7.6215 - mae: 7.6215\n",
            "Epoch 33/100\n",
            "2/2 [==============================] - 0s 5ms/step - loss: 9.3221 - mae: 9.3221\n",
            "Epoch 34/100\n",
            "2/2 [==============================] - 0s 5ms/step - loss: 13.7313 - mae: 13.7313\n",
            "Epoch 35/100\n",
            "2/2 [==============================] - 0s 4ms/step - loss: 11.1276 - mae: 11.1276\n",
            "Epoch 36/100\n",
            "2/2 [==============================] - 0s 5ms/step - loss: 13.3222 - mae: 13.3222\n",
            "Epoch 37/100\n",
            "2/2 [==============================] - 0s 5ms/step - loss: 9.4763 - mae: 9.4763\n",
            "Epoch 38/100\n",
            "2/2 [==============================] - 0s 5ms/step - loss: 10.1381 - mae: 10.1381\n",
            "Epoch 39/100\n",
            "2/2 [==============================] - 0s 5ms/step - loss: 10.1793 - mae: 10.1793\n",
            "Epoch 40/100\n",
            "2/2 [==============================] - 0s 6ms/step - loss: 10.9137 - mae: 10.9137\n",
            "Epoch 41/100\n",
            "2/2 [==============================] - 0s 5ms/step - loss: 7.9063 - mae: 7.9063\n",
            "Epoch 42/100\n",
            "2/2 [==============================] - 0s 7ms/step - loss: 10.0914 - mae: 10.0914\n",
            "Epoch 43/100\n",
            "2/2 [==============================] - 0s 4ms/step - loss: 8.7006 - mae: 8.7006\n",
            "Epoch 44/100\n",
            "2/2 [==============================] - 0s 7ms/step - loss: 12.2046 - mae: 12.2046\n",
            "Epoch 45/100\n",
            "2/2 [==============================] - 0s 5ms/step - loss: 13.7970 - mae: 13.7970\n",
            "Epoch 46/100\n",
            "2/2 [==============================] - 0s 4ms/step - loss: 8.4687 - mae: 8.4687\n",
            "Epoch 47/100\n",
            "2/2 [==============================] - 0s 7ms/step - loss: 9.1330 - mae: 9.1330\n",
            "Epoch 48/100\n",
            "2/2 [==============================] - 0s 5ms/step - loss: 10.6190 - mae: 10.6190\n",
            "Epoch 49/100\n",
            "2/2 [==============================] - 0s 5ms/step - loss: 7.7503 - mae: 7.7503\n",
            "Epoch 50/100\n",
            "2/2 [==============================] - 0s 5ms/step - loss: 9.5407 - mae: 9.5407\n",
            "Epoch 51/100\n",
            "2/2 [==============================] - 0s 6ms/step - loss: 9.1584 - mae: 9.1584\n",
            "Epoch 52/100\n",
            "2/2 [==============================] - 0s 5ms/step - loss: 16.3630 - mae: 16.3630\n",
            "Epoch 53/100\n",
            "2/2 [==============================] - 0s 5ms/step - loss: 14.1299 - mae: 14.1299\n",
            "Epoch 54/100\n",
            "2/2 [==============================] - 0s 5ms/step - loss: 21.1247 - mae: 21.1247\n",
            "Epoch 55/100\n",
            "2/2 [==============================] - 0s 6ms/step - loss: 16.3961 - mae: 16.3961\n",
            "Epoch 56/100\n",
            "2/2 [==============================] - 0s 5ms/step - loss: 9.9806 - mae: 9.9806\n",
            "Epoch 57/100\n",
            "2/2 [==============================] - 0s 5ms/step - loss: 9.9606 - mae: 9.9606\n",
            "Epoch 58/100\n",
            "2/2 [==============================] - 0s 6ms/step - loss: 9.2209 - mae: 9.2209\n",
            "Epoch 59/100\n",
            "2/2 [==============================] - 0s 6ms/step - loss: 8.4239 - mae: 8.4239\n",
            "Epoch 60/100\n",
            "2/2 [==============================] - 0s 4ms/step - loss: 9.4869 - mae: 9.4869\n",
            "Epoch 61/100\n",
            "2/2 [==============================] - 0s 7ms/step - loss: 11.4354 - mae: 11.4354\n",
            "Epoch 62/100\n",
            "2/2 [==============================] - 0s 7ms/step - loss: 11.6887 - mae: 11.6887\n",
            "Epoch 63/100\n",
            "2/2 [==============================] - 0s 7ms/step - loss: 7.0838 - mae: 7.0838\n",
            "Epoch 64/100\n",
            "2/2 [==============================] - 0s 6ms/step - loss: 16.9675 - mae: 16.9675\n",
            "Epoch 65/100\n",
            "2/2 [==============================] - 0s 6ms/step - loss: 12.4599 - mae: 12.4599\n",
            "Epoch 66/100\n",
            "2/2 [==============================] - 0s 6ms/step - loss: 13.0184 - mae: 13.0184\n",
            "Epoch 67/100\n",
            "2/2 [==============================] - 0s 4ms/step - loss: 8.0600 - mae: 8.0600\n",
            "Epoch 68/100\n",
            "2/2 [==============================] - 0s 6ms/step - loss: 10.1888 - mae: 10.1888\n",
            "Epoch 69/100\n",
            "2/2 [==============================] - 0s 7ms/step - loss: 12.3633 - mae: 12.3633\n",
            "Epoch 70/100\n",
            "2/2 [==============================] - 0s 8ms/step - loss: 9.0516 - mae: 9.0516\n",
            "Epoch 71/100\n",
            "2/2 [==============================] - 0s 9ms/step - loss: 10.0378 - mae: 10.0378\n",
            "Epoch 72/100\n",
            "2/2 [==============================] - 0s 15ms/step - loss: 10.0516 - mae: 10.0516\n",
            "Epoch 73/100\n",
            "2/2 [==============================] - 0s 8ms/step - loss: 12.6151 - mae: 12.6151\n",
            "Epoch 74/100\n",
            "2/2 [==============================] - 0s 6ms/step - loss: 10.3819 - mae: 10.3819\n",
            "Epoch 75/100\n",
            "2/2 [==============================] - 0s 7ms/step - loss: 9.7229 - mae: 9.7229\n",
            "Epoch 76/100\n",
            "2/2 [==============================] - 0s 4ms/step - loss: 11.2252 - mae: 11.2252\n",
            "Epoch 77/100\n",
            "2/2 [==============================] - 0s 3ms/step - loss: 8.3642 - mae: 8.3642\n",
            "Epoch 78/100\n",
            "2/2 [==============================] - 0s 4ms/step - loss: 9.1274 - mae: 9.1274\n",
            "Epoch 79/100\n",
            "2/2 [==============================] - 0s 4ms/step - loss: 19.5039 - mae: 19.5039\n",
            "Epoch 80/100\n",
            "2/2 [==============================] - 0s 7ms/step - loss: 14.8945 - mae: 14.8945\n",
            "Epoch 81/100\n",
            "2/2 [==============================] - 0s 4ms/step - loss: 9.0034 - mae: 9.0034\n",
            "Epoch 82/100\n",
            "2/2 [==============================] - 0s 4ms/step - loss: 13.0206 - mae: 13.0206\n",
            "Epoch 83/100\n",
            "2/2 [==============================] - 0s 5ms/step - loss: 7.9299 - mae: 7.9299\n",
            "Epoch 84/100\n",
            "2/2 [==============================] - 0s 6ms/step - loss: 7.6872 - mae: 7.6872\n",
            "Epoch 85/100\n",
            "2/2 [==============================] - 0s 5ms/step - loss: 10.0328 - mae: 10.0328\n",
            "Epoch 86/100\n",
            "2/2 [==============================] - 0s 4ms/step - loss: 9.2433 - mae: 9.2433\n",
            "Epoch 87/100\n",
            "2/2 [==============================] - 0s 6ms/step - loss: 12.0209 - mae: 12.0209\n",
            "Epoch 88/100\n",
            "2/2 [==============================] - 0s 4ms/step - loss: 10.6389 - mae: 10.6389\n",
            "Epoch 89/100\n",
            "2/2 [==============================] - 0s 5ms/step - loss: 7.2667 - mae: 7.2667\n",
            "Epoch 90/100\n",
            "2/2 [==============================] - 0s 6ms/step - loss: 12.7786 - mae: 12.7786\n",
            "Epoch 91/100\n",
            "2/2 [==============================] - 0s 4ms/step - loss: 7.3481 - mae: 7.3481\n",
            "Epoch 92/100\n",
            "2/2 [==============================] - 0s 5ms/step - loss: 7.7175 - mae: 7.7175\n",
            "Epoch 93/100\n",
            "2/2 [==============================] - 0s 4ms/step - loss: 7.1263 - mae: 7.1263\n",
            "Epoch 94/100\n",
            "2/2 [==============================] - 0s 6ms/step - loss: 12.6190 - mae: 12.6190\n",
            "Epoch 95/100\n",
            "2/2 [==============================] - 0s 5ms/step - loss: 10.0912 - mae: 10.0912\n",
            "Epoch 96/100\n",
            "2/2 [==============================] - 0s 5ms/step - loss: 9.3558 - mae: 9.3558\n",
            "Epoch 97/100\n",
            "2/2 [==============================] - 0s 6ms/step - loss: 12.6834 - mae: 12.6834\n",
            "Epoch 98/100\n",
            "2/2 [==============================] - 0s 6ms/step - loss: 8.6762 - mae: 8.6762\n",
            "Epoch 99/100\n",
            "2/2 [==============================] - 0s 6ms/step - loss: 9.4693 - mae: 9.4693\n",
            "Epoch 100/100\n",
            "2/2 [==============================] - 0s 7ms/step - loss: 8.7067 - mae: 8.7067\n"
          ]
        },
        {
          "output_type": "stream",
          "name": "stderr",
          "text": [
            "WARNING:tensorflow:5 out of the last 5 calls to <function Model.make_predict_function.<locals>.predict_function at 0x7f1f7dba8b80> triggered tf.function retracing. Tracing is expensive and the excessive number of tracings could be due to (1) creating @tf.function repeatedly in a loop, (2) passing tensors with different shapes, (3) passing Python objects instead of tensors. For (1), please define your @tf.function outside of the loop. For (2), @tf.function has reduce_retracing=True option that can avoid unnecessary retracing. For (3), please refer to https://www.tensorflow.org/guide/function#controlling_retracing and https://www.tensorflow.org/api_docs/python/tf/function for  more details.\n"
          ]
        },
        {
          "output_type": "stream",
          "name": "stdout",
          "text": [
            "1/1 [==============================] - 0s 45ms/step\n"
          ]
        },
        {
          "output_type": "display_data",
          "data": {
            "text/plain": [
              "<Figure size 720x504 with 1 Axes>"
            ],
            "image/png": "[encoded data removed]"
          },
          "metadata": {
            "needs_background": "light"
          }
        }
      ]
    },
    {
      "cell_type": "code",
      "source": [
        "#Calculate model_1 evaluation metrics\n",
        "mae_1 = tf.metrics.mean_absolute_error(y_test, tf.squeeze(y_preds_1))\n",
        "mse_1 = tf.keras.losses.MSE(y_test, tf.squeeze(y_preds_1))\n",
        "mae_1, mse_1"
      ],
      "metadata": {
        "id": "YPCl7GRLSoy5",
        "colab": {
          "base_uri": "https://localhost:8080/"
        },
        "outputId": "4651087f-a867-4961-f65e-dec5e40b1c15"
      },
      "execution_count": null,
      "outputs": [
        {
          "output_type": "execute_result",
          "data": {
            "text/plain": [
              "(<tf.Tensor: shape=(), dtype=float32, numpy=18.745327>,\n",
              " <tf.Tensor: shape=(), dtype=float32, numpy=353.57336>)"
            ]
          },
          "metadata": {},
          "execution_count": 28
        }
      ]
    },
    {
      "cell_type": "code",
      "source": [
        "#MODEL_2\n",
        "\n",
        "tf.random.set_seed(42)\n",
        "\n",
        "#1 Create the model\n",
        "model_2 = tf.keras.Sequential([\n",
        "    tf.keras.layers.Dense(10),\n",
        "    tf.keras.layers.Dense(1)\n",
        "])\n",
        "\n",
        "#2 compile\n",
        "model_2.compile(loss=tf.keras.losses.mae,\n",
        "                optimizer=tf.keras.optimizers.SGD(),\n",
        "                metrics=[\"mse\"])\n",
        "\n",
        "#3 fit the model\n",
        "model_2.fit(tf.expand_dims(X_train, axis=-1), y_train, epochs=100)\n",
        "\n",
        "#make and plot predictions for model_2\n",
        "y_preds_2 = model_2.predict(X_test)\n",
        "plot_predictions(predictions=y_preds_2)\n",
        "\n",
        "#Calculate model_2 evaluation metrics\n",
        "mae_2 = tf.metrics.mean_absolute_error(y_test, tf.squeeze(y_preds_2))\n",
        "mse_2 = tf.keras.losses.MSE(y_test, tf.squeeze(y_preds_2))\n",
        "mae_2, mse_2"
      ],
      "metadata": {
        "colab": {
          "base_uri": "https://localhost:8080/",
          "height": 1000
        },
        "id": "MoLIQryOUAkh",
        "outputId": "4a089c12-b7e9-4c7b-d212-4937f6794c44"
      },
      "execution_count": null,
      "outputs": [
        {
          "output_type": "stream",
          "name": "stdout",
          "text": [
            "Epoch 1/100\n",
            "2/2 [==============================] - 0s 5ms/step - loss: 27.4058 - mse: 1084.1482\n",
            "Epoch 2/100\n",
            "2/2 [==============================] - 0s 6ms/step - loss: 24.6339 - mse: 777.9203\n",
            "Epoch 3/100\n",
            "2/2 [==============================] - 0s 8ms/step - loss: 29.8935 - mse: 1334.8953\n",
            "Epoch 4/100\n",
            "2/2 [==============================] - 0s 7ms/step - loss: 27.4055 - mse: 1106.8035\n",
            "Epoch 5/100\n",
            "2/2 [==============================] - 0s 5ms/step - loss: 14.9463 - mse: 281.1076\n",
            "Epoch 6/100\n",
            "2/2 [==============================] - 0s 8ms/step - loss: 11.8819 - mse: 168.6621\n",
            "Epoch 7/100\n",
            "2/2 [==============================] - 0s 8ms/step - loss: 11.1988 - mse: 151.3508\n",
            "Epoch 8/100\n",
            "2/2 [==============================] - 0s 5ms/step - loss: 11.0910 - mse: 160.3745\n",
            "Epoch 9/100\n",
            "2/2 [==============================] - 0s 9ms/step - loss: 40.4763 - mse: 2586.0085\n",
            "Epoch 10/100\n",
            "2/2 [==============================] - 0s 8ms/step - loss: 27.8687 - mse: 1094.4380\n",
            "Epoch 11/100\n",
            "2/2 [==============================] - 0s 7ms/step - loss: 10.2473 - mse: 147.9359\n",
            "Epoch 12/100\n",
            "2/2 [==============================] - 0s 6ms/step - loss: 25.2803 - mse: 890.3867\n",
            "Epoch 13/100\n",
            "2/2 [==============================] - 0s 8ms/step - loss: 16.9897 - mse: 399.9677\n",
            "Epoch 14/100\n",
            "2/2 [==============================] - 0s 5ms/step - loss: 25.9217 - mse: 1049.5515\n",
            "Epoch 15/100\n",
            "2/2 [==============================] - 0s 5ms/step - loss: 17.9948 - mse: 450.2581\n",
            "Epoch 16/100\n",
            "2/2 [==============================] - 0s 5ms/step - loss: 7.3510 - mse: 80.6206\n",
            "Epoch 17/100\n",
            "2/2 [==============================] - 0s 6ms/step - loss: 10.8636 - mse: 174.7868\n",
            "Epoch 18/100\n",
            "2/2 [==============================] - 0s 5ms/step - loss: 19.5304 - mse: 565.8052\n",
            "Epoch 19/100\n",
            "2/2 [==============================] - 0s 5ms/step - loss: 10.3469 - mse: 167.7749\n",
            "Epoch 20/100\n",
            "2/2 [==============================] - 0s 5ms/step - loss: 17.6985 - mse: 455.7096\n",
            "Epoch 21/100\n",
            "2/2 [==============================] - 0s 5ms/step - loss: 15.8985 - mse: 347.1929\n",
            "Epoch 22/100\n",
            "2/2 [==============================] - 0s 4ms/step - loss: 14.1991 - mse: 285.1767\n",
            "Epoch 23/100\n",
            "2/2 [==============================] - 0s 4ms/step - loss: 8.7720 - mse: 91.7852\n",
            "Epoch 24/100\n",
            "2/2 [==============================] - 0s 5ms/step - loss: 11.0570 - mse: 153.7430\n",
            "Epoch 25/100\n",
            "2/2 [==============================] - 0s 7ms/step - loss: 12.6838 - mse: 233.2950\n",
            "Epoch 26/100\n",
            "2/2 [==============================] - 0s 15ms/step - loss: 26.1877 - mse: 1024.6094\n",
            "Epoch 27/100\n",
            "2/2 [==============================] - 0s 5ms/step - loss: 11.7432 - mse: 194.8453\n",
            "Epoch 28/100\n",
            "2/2 [==============================] - 0s 5ms/step - loss: 22.8730 - mse: 835.6069\n",
            "Epoch 29/100\n",
            "2/2 [==============================] - 0s 7ms/step - loss: 9.2459 - mse: 96.7787\n",
            "Epoch 30/100\n",
            "2/2 [==============================] - 0s 5ms/step - loss: 29.2641 - mse: 1535.1335\n",
            "Epoch 31/100\n",
            "2/2 [==============================] - 0s 5ms/step - loss: 53.0224 - mse: 5030.2954\n",
            "Epoch 32/100\n",
            "2/2 [==============================] - 0s 5ms/step - loss: 11.9951 - mse: 211.7023\n",
            "Epoch 33/100\n",
            "2/2 [==============================] - 0s 4ms/step - loss: 15.6357 - mse: 337.3664\n",
            "Epoch 34/100\n",
            "2/2 [==============================] - 0s 5ms/step - loss: 12.6925 - mse: 214.4822\n",
            "Epoch 35/100\n",
            "2/2 [==============================] - 0s 6ms/step - loss: 9.2398 - mse: 92.9126\n",
            "Epoch 36/100\n",
            "2/2 [==============================] - 0s 6ms/step - loss: 16.6497 - mse: 403.6569\n",
            "Epoch 37/100\n",
            "2/2 [==============================] - 0s 5ms/step - loss: 11.0382 - mse: 192.3919\n",
            "Epoch 38/100\n",
            "2/2 [==============================] - 0s 6ms/step - loss: 18.1634 - mse: 433.6718\n",
            "Epoch 39/100\n",
            "2/2 [==============================] - 0s 5ms/step - loss: 19.1013 - mse: 529.6440\n",
            "Epoch 40/100\n",
            "2/2 [==============================] - 0s 5ms/step - loss: 20.4324 - mse: 610.1325\n",
            "Epoch 41/100\n",
            "2/2 [==============================] - 0s 5ms/step - loss: 14.9102 - mse: 279.6182\n",
            "Epoch 42/100\n",
            "2/2 [==============================] - 0s 4ms/step - loss: 12.2809 - mse: 186.6180\n",
            "Epoch 43/100\n",
            "2/2 [==============================] - 0s 6ms/step - loss: 10.7333 - mse: 167.0952\n",
            "Epoch 44/100\n",
            "2/2 [==============================] - 0s 4ms/step - loss: 23.0260 - mse: 830.4245\n",
            "Epoch 45/100\n",
            "2/2 [==============================] - 0s 4ms/step - loss: 10.3897 - mse: 128.9549\n",
            "Epoch 46/100\n",
            "2/2 [==============================] - 0s 5ms/step - loss: 11.7904 - mse: 181.9211\n",
            "Epoch 47/100\n",
            "2/2 [==============================] - 0s 7ms/step - loss: 9.6438 - mse: 153.8708\n",
            "Epoch 48/100\n",
            "2/2 [==============================] - 0s 8ms/step - loss: 17.2335 - mse: 402.8495\n",
            "Epoch 49/100\n",
            "2/2 [==============================] - 0s 4ms/step - loss: 9.5729 - mse: 99.8336\n",
            "Epoch 50/100\n",
            "2/2 [==============================] - 0s 4ms/step - loss: 13.8185 - mse: 260.3669\n",
            "Epoch 51/100\n",
            "2/2 [==============================] - 0s 11ms/step - loss: 11.5958 - mse: 154.7956\n",
            "Epoch 52/100\n",
            "2/2 [==============================] - 0s 4ms/step - loss: 30.5538 - mse: 1613.0883\n",
            "Epoch 53/100\n",
            "2/2 [==============================] - 0s 9ms/step - loss: 14.3541 - mse: 302.5291\n",
            "Epoch 54/100\n",
            "2/2 [==============================] - 0s 4ms/step - loss: 23.9713 - mse: 859.3983\n",
            "Epoch 55/100\n",
            "2/2 [==============================] - 0s 10ms/step - loss: 23.1938 - mse: 805.5450\n",
            "Epoch 56/100\n",
            "2/2 [==============================] - 0s 4ms/step - loss: 10.8837 - mse: 170.9834\n",
            "Epoch 57/100\n",
            "2/2 [==============================] - 0s 11ms/step - loss: 12.7445 - mse: 198.7015\n",
            "Epoch 58/100\n",
            "2/2 [==============================] - 0s 5ms/step - loss: 9.5995 - mse: 102.5890\n",
            "Epoch 59/100\n",
            "2/2 [==============================] - 0s 4ms/step - loss: 12.5172 - mse: 216.3367\n",
            "Epoch 60/100\n",
            "2/2 [==============================] - 0s 5ms/step - loss: 12.3200 - mse: 208.6370\n",
            "Epoch 61/100\n",
            "2/2 [==============================] - 0s 6ms/step - loss: 17.4604 - mse: 428.6392\n",
            "Epoch 62/100\n",
            "2/2 [==============================] - 0s 8ms/step - loss: 10.6052 - mse: 136.9776\n",
            "Epoch 63/100\n",
            "2/2 [==============================] - 0s 5ms/step - loss: 10.4893 - mse: 152.4554\n",
            "Epoch 64/100\n",
            "2/2 [==============================] - 0s 4ms/step - loss: 24.8450 - mse: 911.7509\n",
            "Epoch 65/100\n",
            "2/2 [==============================] - 0s 4ms/step - loss: 10.6761 - mse: 142.7374\n",
            "Epoch 66/100\n",
            "2/2 [==============================] - 0s 4ms/step - loss: 21.7809 - mse: 704.4487\n",
            "Epoch 67/100\n",
            "2/2 [==============================] - 0s 4ms/step - loss: 10.7136 - mse: 136.0194\n",
            "Epoch 68/100\n",
            "2/2 [==============================] - 0s 5ms/step - loss: 10.6397 - mse: 149.2299\n",
            "Epoch 69/100\n",
            "2/2 [==============================] - 0s 8ms/step - loss: 22.6914 - mse: 742.1758\n",
            "Epoch 70/100\n",
            "2/2 [==============================] - 0s 5ms/step - loss: 9.3316 - mse: 166.1627\n",
            "Epoch 71/100\n",
            "2/2 [==============================] - 0s 11ms/step - loss: 15.4355 - mse: 323.0844\n",
            "Epoch 72/100\n",
            "2/2 [==============================] - 0s 4ms/step - loss: 6.7437 - mse: 67.0210\n",
            "Epoch 73/100\n",
            "2/2 [==============================] - 0s 5ms/step - loss: 11.6891 - mse: 183.7296\n",
            "Epoch 74/100\n",
            "2/2 [==============================] - 0s 5ms/step - loss: 24.0400 - mse: 908.8988\n",
            "Epoch 75/100\n",
            "2/2 [==============================] - 0s 4ms/step - loss: 9.5896 - mse: 149.3948\n",
            "Epoch 76/100\n",
            "2/2 [==============================] - 0s 4ms/step - loss: 12.4371 - mse: 188.3310\n",
            "Epoch 77/100\n",
            "2/2 [==============================] - 0s 6ms/step - loss: 16.6488 - mse: 429.2705\n",
            "Epoch 78/100\n",
            "2/2 [==============================] - 0s 11ms/step - loss: 9.0614 - mse: 95.4869\n",
            "Epoch 79/100\n",
            "2/2 [==============================] - 0s 4ms/step - loss: 23.9675 - mse: 864.0859\n",
            "Epoch 80/100\n",
            "2/2 [==============================] - 0s 4ms/step - loss: 26.7463 - mse: 1104.4030\n",
            "Epoch 81/100\n",
            "2/2 [==============================] - 0s 5ms/step - loss: 11.6714 - mse: 170.7055\n",
            "Epoch 82/100\n",
            "2/2 [==============================] - 0s 4ms/step - loss: 12.0228 - mse: 211.9191\n",
            "Epoch 83/100\n",
            "2/2 [==============================] - 0s 4ms/step - loss: 17.4218 - mse: 395.5590\n",
            "Epoch 84/100\n",
            "2/2 [==============================] - 0s 5ms/step - loss: 7.2629 - mse: 73.0935\n",
            "Epoch 85/100\n",
            "2/2 [==============================] - 0s 7ms/step - loss: 14.9650 - mse: 312.8361\n",
            "Epoch 86/100\n",
            "2/2 [==============================] - 0s 4ms/step - loss: 15.2862 - mse: 315.3606\n",
            "Epoch 87/100\n",
            "2/2 [==============================] - 0s 4ms/step - loss: 19.1086 - mse: 521.2535\n",
            "Epoch 88/100\n",
            "2/2 [==============================] - 0s 5ms/step - loss: 29.8228 - mse: 1287.1902\n",
            "Epoch 89/100\n",
            "2/2 [==============================] - 0s 4ms/step - loss: 10.1742 - mse: 124.1342\n",
            "Epoch 90/100\n",
            "2/2 [==============================] - 0s 5ms/step - loss: 21.5240 - mse: 663.8608\n",
            "Epoch 91/100\n",
            "2/2 [==============================] - 0s 4ms/step - loss: 10.5716 - mse: 161.7467\n",
            "Epoch 92/100\n",
            "2/2 [==============================] - 0s 5ms/step - loss: 18.3977 - mse: 464.1323\n",
            "Epoch 93/100\n",
            "2/2 [==============================] - 0s 5ms/step - loss: 7.4138 - mse: 81.9820\n",
            "Epoch 94/100\n",
            "2/2 [==============================] - 0s 11ms/step - loss: 17.7380 - mse: 445.7377\n",
            "Epoch 95/100\n",
            "2/2 [==============================] - 0s 4ms/step - loss: 11.1144 - mse: 164.0820\n",
            "Epoch 96/100\n",
            "2/2 [==============================] - 0s 7ms/step - loss: 19.4346 - mse: 510.5842\n",
            "Epoch 97/100\n",
            "2/2 [==============================] - 0s 7ms/step - loss: 12.1593 - mse: 209.9755\n",
            "Epoch 98/100\n",
            "2/2 [==============================] - 0s 5ms/step - loss: 11.5653 - mse: 169.4052\n",
            "Epoch 99/100\n",
            "2/2 [==============================] - 0s 4ms/step - loss: 13.8827 - mse: 265.4630\n",
            "Epoch 100/100\n",
            "2/2 [==============================] - 0s 5ms/step - loss: 20.2277 - mse: 608.8219\n"
          ]
        },
        {
          "output_type": "stream",
          "name": "stderr",
          "text": [
            "WARNING:tensorflow:6 out of the last 6 calls to <function Model.make_predict_function.<locals>.predict_function at 0x7f1f7da20700> triggered tf.function retracing. Tracing is expensive and the excessive number of tracings could be due to (1) creating @tf.function repeatedly in a loop, (2) passing tensors with different shapes, (3) passing Python objects instead of tensors. For (1), please define your @tf.function outside of the loop. For (2), @tf.function has reduce_retracing=True option that can avoid unnecessary retracing. For (3), please refer to https://www.tensorflow.org/guide/function#controlling_retracing and https://www.tensorflow.org/api_docs/python/tf/function for  more details.\n"
          ]
        },
        {
          "output_type": "stream",
          "name": "stdout",
          "text": [
            "1/1 [==============================] - 0s 54ms/step\n"
          ]
        },
        {
          "output_type": "execute_result",
          "data": {
            "text/plain": [
              "(<tf.Tensor: shape=(), dtype=float32, numpy=3.19694>,\n",
              " <tf.Tensor: shape=(), dtype=float32, numpy=13.070127>)"
            ]
          },
          "metadata": {},
          "execution_count": 29
        },
        {
          "output_type": "display_data",
          "data": {
            "text/plain": [
              "<Figure size 720x504 with 1 Axes>"
            ],
            "image/png": "[encoded data removed]"
          },
          "metadata": {
            "needs_background": "light"
          }
        }
      ]
    },
    {
      "cell_type": "code",
      "source": [
        "#MODEL_3\n",
        "\n",
        "model_3 = tf.keras.Sequential([\n",
        "    tf.keras.layers.Dense(10),\n",
        "    tf.keras.layers.Dense(1)\n",
        "])\n",
        "\n",
        "model_3.compile(loss=tf.keras.losses.mae,\n",
        "                optimizer=tf.keras.optimizers.SGD(),\n",
        "                metrics=[\"mse\"])\n",
        "\n",
        "model_3.fit(tf.expand_dims(X_train, axis=-1), y_train, epochs=500)\n",
        "\n",
        "#make and plot predictions for model_2\n",
        "y_preds_3 = model_3.predict(X_test)\n",
        "plot_predictions(predictions=y_preds_3)\n",
        "\n",
        "mae_3 = tf.metrics.mean_absolute_error(y_test, tf.squeeze(y_preds_3))\n",
        "mse_3 = tf.keras.losses.MSE(y_test, tf.squeeze(y_preds_3))\n",
        "mae_3, mse_3"
      ],
      "metadata": {
        "id": "vJuDYm_HVBYP",
        "colab": {
          "base_uri": "https://localhost:8080/",
          "height": 1000
        },
        "outputId": "eaf53695-bd25-46bd-bada-4e02bcde5f3d"
      },
      "execution_count": null,
      "outputs": [
        {
          "output_type": "stream",
          "name": "stdout",
          "text": [
            "Epoch 1/500\n",
            "2/2 [==============================] - 0s 7ms/step - loss: 42.5822 - mse: 2823.1755\n",
            "Epoch 2/500\n",
            "2/2 [==============================] - 0s 6ms/step - loss: 10.9331 - mse: 167.2227\n",
            "Epoch 3/500\n",
            "2/2 [==============================] - 0s 9ms/step - loss: 26.9259 - mse: 1062.6483\n",
            "Epoch 4/500\n",
            "2/2 [==============================] - 0s 5ms/step - loss: 13.6703 - mse: 247.0116\n",
            "Epoch 5/500\n",
            "2/2 [==============================] - 0s 5ms/step - loss: 15.1926 - mse: 292.5403\n",
            "Epoch 6/500\n",
            "2/2 [==============================] - 0s 5ms/step - loss: 12.0801 - mse: 177.9818\n",
            "Epoch 7/500\n",
            "2/2 [==============================] - 0s 5ms/step - loss: 11.4040 - mse: 158.0894\n",
            "Epoch 8/500\n",
            "2/2 [==============================] - 0s 5ms/step - loss: 11.1956 - mse: 171.4060\n",
            "Epoch 9/500\n",
            "2/2 [==============================] - 0s 7ms/step - loss: 41.6513 - mse: 2760.7686\n",
            "Epoch 10/500\n",
            "2/2 [==============================] - 0s 6ms/step - loss: 28.8935 - mse: 1179.5693\n",
            "Epoch 11/500\n",
            "2/2 [==============================] - 0s 5ms/step - loss: 8.5332 - mse: 96.3214\n",
            "Epoch 12/500\n",
            "2/2 [==============================] - 0s 6ms/step - loss: 27.4635 - mse: 1036.9034\n",
            "Epoch 13/500\n",
            "2/2 [==============================] - 0s 7ms/step - loss: 12.1139 - mse: 174.4627\n",
            "Epoch 14/500\n",
            "2/2 [==============================] - 0s 6ms/step - loss: 34.8373 - mse: 1995.2266\n",
            "Epoch 15/500\n",
            "2/2 [==============================] - 0s 7ms/step - loss: 22.6692 - mse: 730.1408\n",
            "Epoch 16/500\n",
            "2/2 [==============================] - 0s 6ms/step - loss: 9.9359 - mse: 125.0452\n",
            "Epoch 17/500\n",
            "2/2 [==============================] - 0s 6ms/step - loss: 17.8992 - mse: 425.5911\n",
            "Epoch 18/500\n",
            "2/2 [==============================] - 0s 5ms/step - loss: 14.3769 - mse: 328.2473\n",
            "Epoch 19/500\n",
            "2/2 [==============================] - 0s 6ms/step - loss: 14.4871 - mse: 330.6525\n",
            "Epoch 20/500\n",
            "2/2 [==============================] - 0s 4ms/step - loss: 10.4799 - mse: 148.3128\n",
            "Epoch 21/500\n",
            "2/2 [==============================] - 0s 8ms/step - loss: 15.2575 - mse: 316.1357\n",
            "Epoch 22/500\n",
            "2/2 [==============================] - 0s 5ms/step - loss: 15.6024 - mse: 335.8525\n",
            "Epoch 23/500\n",
            "2/2 [==============================] - 0s 7ms/step - loss: 9.2279 - mse: 118.5867\n",
            "Epoch 24/500\n",
            "2/2 [==============================] - 0s 6ms/step - loss: 17.2281 - mse: 406.3124\n",
            "Epoch 25/500\n",
            "2/2 [==============================] - 0s 5ms/step - loss: 15.9113 - mse: 332.4176\n",
            "Epoch 26/500\n",
            "2/2 [==============================] - 0s 5ms/step - loss: 20.8721 - mse: 646.5102\n",
            "Epoch 27/500\n",
            "2/2 [==============================] - 0s 5ms/step - loss: 26.0935 - mse: 1063.5789\n",
            "Epoch 28/500\n",
            "2/2 [==============================] - 0s 7ms/step - loss: 18.5731 - mse: 546.2327\n",
            "Epoch 29/500\n",
            "2/2 [==============================] - 0s 7ms/step - loss: 9.2419 - mse: 97.0285\n",
            "Epoch 30/500\n",
            "2/2 [==============================] - 0s 5ms/step - loss: 29.1981 - mse: 1526.2484\n",
            "Epoch 31/500\n",
            "2/2 [==============================] - 0s 6ms/step - loss: 52.8950 - mse: 5004.9419\n",
            "Epoch 32/500\n",
            "2/2 [==============================] - 0s 6ms/step - loss: 11.9662 - mse: 209.8557\n",
            "Epoch 33/500\n",
            "2/2 [==============================] - 0s 6ms/step - loss: 15.5894 - mse: 335.2049\n",
            "Epoch 34/500\n",
            "2/2 [==============================] - 0s 5ms/step - loss: 12.6582 - mse: 212.6499\n",
            "Epoch 35/500\n",
            "2/2 [==============================] - 0s 4ms/step - loss: 9.2225 - mse: 92.4001\n",
            "Epoch 36/500\n",
            "2/2 [==============================] - 0s 6ms/step - loss: 16.5907 - mse: 400.5739\n",
            "Epoch 37/500\n",
            "2/2 [==============================] - 0s 6ms/step - loss: 11.0521 - mse: 192.2627\n",
            "Epoch 38/500\n",
            "2/2 [==============================] - 0s 7ms/step - loss: 18.1794 - mse: 434.8005\n",
            "Epoch 39/500\n",
            "2/2 [==============================] - 0s 5ms/step - loss: 19.1155 - mse: 531.0630\n",
            "Epoch 40/500\n",
            "2/2 [==============================] - 0s 6ms/step - loss: 20.4601 - mse: 611.7036\n",
            "Epoch 41/500\n",
            "2/2 [==============================] - 0s 3ms/step - loss: 14.8707 - mse: 277.6571\n",
            "Epoch 42/500\n",
            "2/2 [==============================] - 0s 6ms/step - loss: 12.2499 - mse: 184.9446\n",
            "Epoch 43/500\n",
            "2/2 [==============================] - 0s 5ms/step - loss: 10.7146 - mse: 165.5859\n",
            "Epoch 44/500\n",
            "2/2 [==============================] - 0s 10ms/step - loss: 22.9474 - mse: 824.3495\n",
            "Epoch 45/500\n",
            "2/2 [==============================] - 0s 5ms/step - loss: 10.3634 - mse: 128.6936\n",
            "Epoch 46/500\n",
            "2/2 [==============================] - 0s 5ms/step - loss: 11.7521 - mse: 179.9457\n",
            "Epoch 47/500\n",
            "2/2 [==============================] - 0s 6ms/step - loss: 9.6556 - mse: 153.6267\n",
            "Epoch 48/500\n",
            "2/2 [==============================] - 0s 7ms/step - loss: 17.2632 - mse: 404.3499\n",
            "Epoch 49/500\n",
            "2/2 [==============================] - 0s 7ms/step - loss: 9.5489 - mse: 99.3151\n",
            "Epoch 50/500\n",
            "2/2 [==============================] - 0s 6ms/step - loss: 13.7777 - mse: 258.1379\n",
            "Epoch 51/500\n",
            "2/2 [==============================] - 0s 5ms/step - loss: 11.5782 - mse: 154.1094\n",
            "Epoch 52/500\n",
            "2/2 [==============================] - 0s 4ms/step - loss: 30.4588 - mse: 1602.0054\n",
            "Epoch 53/500\n",
            "2/2 [==============================] - 0s 5ms/step - loss: 14.3112 - mse: 300.4782\n",
            "Epoch 54/500\n",
            "2/2 [==============================] - 0s 5ms/step - loss: 23.8976 - mse: 853.5272\n",
            "Epoch 55/500\n",
            "2/2 [==============================] - 0s 6ms/step - loss: 23.1125 - mse: 799.5643\n",
            "Epoch 56/500\n",
            "2/2 [==============================] - 0s 4ms/step - loss: 10.8542 - mse: 171.0030\n",
            "Epoch 57/500\n",
            "2/2 [==============================] - 0s 7ms/step - loss: 12.7053 - mse: 197.2426\n",
            "Epoch 58/500\n",
            "2/2 [==============================] - 0s 8ms/step - loss: 9.5760 - mse: 102.2687\n",
            "Epoch 59/500\n",
            "2/2 [==============================] - 0s 6ms/step - loss: 12.4807 - mse: 214.2000\n",
            "Epoch 60/500\n",
            "2/2 [==============================] - 0s 6ms/step - loss: 11.8913 - mse: 192.4137\n",
            "Epoch 61/500\n",
            "2/2 [==============================] - 0s 6ms/step - loss: 16.9716 - mse: 403.6742\n",
            "Epoch 62/500\n",
            "2/2 [==============================] - 0s 7ms/step - loss: 10.3876 - mse: 131.0052\n",
            "Epoch 63/500\n",
            "2/2 [==============================] - 0s 4ms/step - loss: 10.3428 - mse: 140.0837\n",
            "Epoch 64/500\n",
            "2/2 [==============================] - 0s 4ms/step - loss: 24.1942 - mse: 861.5446\n",
            "Epoch 65/500\n",
            "2/2 [==============================] - 0s 8ms/step - loss: 10.5224 - mse: 133.7912\n",
            "Epoch 66/500\n",
            "2/2 [==============================] - 0s 6ms/step - loss: 21.2046 - mse: 663.3086\n",
            "Epoch 67/500\n",
            "2/2 [==============================] - 0s 6ms/step - loss: 10.5191 - mse: 129.0165\n",
            "Epoch 68/500\n",
            "2/2 [==============================] - 0s 5ms/step - loss: 14.3680 - mse: 311.3405\n",
            "Epoch 69/500\n",
            "2/2 [==============================] - 0s 9ms/step - loss: 10.6097 - mse: 129.1471\n",
            "Epoch 70/500\n",
            "2/2 [==============================] - 0s 4ms/step - loss: 12.6937 - mse: 204.9404\n",
            "Epoch 71/500\n",
            "2/2 [==============================] - 0s 6ms/step - loss: 13.1234 - mse: 232.2867\n",
            "Epoch 72/500\n",
            "2/2 [==============================] - 0s 4ms/step - loss: 19.6276 - mse: 547.0944\n",
            "Epoch 73/500\n",
            "2/2 [==============================] - 0s 4ms/step - loss: 11.1902 - mse: 191.1924\n",
            "Epoch 74/500\n",
            "2/2 [==============================] - 0s 10ms/step - loss: 21.9121 - mse: 747.2991\n",
            "Epoch 75/500\n",
            "2/2 [==============================] - 0s 5ms/step - loss: 7.1885 - mse: 71.3460\n",
            "Epoch 76/500\n",
            "2/2 [==============================] - 0s 6ms/step - loss: 9.4161 - mse: 149.7083\n",
            "Epoch 77/500\n",
            "2/2 [==============================] - 0s 6ms/step - loss: 22.0473 - mse: 726.7155\n",
            "Epoch 78/500\n",
            "2/2 [==============================] - 0s 6ms/step - loss: 17.7011 - mse: 475.9118\n",
            "Epoch 79/500\n",
            "2/2 [==============================] - 0s 4ms/step - loss: 14.8612 - mse: 323.3849\n",
            "Epoch 80/500\n",
            "2/2 [==============================] - 0s 5ms/step - loss: 25.1842 - mse: 967.9965\n",
            "Epoch 81/500\n",
            "2/2 [==============================] - 0s 4ms/step - loss: 10.9252 - mse: 141.4079\n",
            "Epoch 82/500\n",
            "2/2 [==============================] - 0s 5ms/step - loss: 12.7402 - mse: 232.0012\n",
            "Epoch 83/500\n",
            "2/2 [==============================] - 0s 5ms/step - loss: 17.5085 - mse: 399.6929\n",
            "Epoch 84/500\n",
            "2/2 [==============================] - 0s 6ms/step - loss: 7.2803 - mse: 73.0742\n",
            "Epoch 85/500\n",
            "2/2 [==============================] - 0s 4ms/step - loss: 15.0318 - mse: 315.4437\n",
            "Epoch 86/500\n",
            "2/2 [==============================] - 0s 5ms/step - loss: 15.3400 - mse: 316.7399\n",
            "Epoch 87/500\n",
            "2/2 [==============================] - 0s 4ms/step - loss: 19.2179 - mse: 526.2448\n",
            "Epoch 88/500\n",
            "2/2 [==============================] - 0s 5ms/step - loss: 29.5362 - mse: 1260.8336\n",
            "Epoch 89/500\n",
            "2/2 [==============================] - 0s 4ms/step - loss: 10.1332 - mse: 124.0810\n",
            "Epoch 90/500\n",
            "2/2 [==============================] - 0s 4ms/step - loss: 21.2860 - mse: 648.9033\n",
            "Epoch 91/500\n",
            "2/2 [==============================] - 0s 4ms/step - loss: 10.5150 - mse: 162.7649\n",
            "Epoch 92/500\n",
            "2/2 [==============================] - 0s 6ms/step - loss: 18.1816 - mse: 452.6958\n",
            "Epoch 93/500\n",
            "2/2 [==============================] - 0s 5ms/step - loss: 6.5368 - mse: 60.3852\n",
            "Epoch 94/500\n",
            "2/2 [==============================] - 0s 4ms/step - loss: 11.1743 - mse: 155.9372\n",
            "Epoch 95/500\n",
            "2/2 [==============================] - 0s 5ms/step - loss: 24.6366 - mse: 911.7832\n",
            "Epoch 96/500\n",
            "2/2 [==============================] - 0s 4ms/step - loss: 10.7835 - mse: 171.5014\n",
            "Epoch 97/500\n",
            "2/2 [==============================] - 0s 5ms/step - loss: 15.5303 - mse: 366.1724\n",
            "Epoch 98/500\n",
            "2/2 [==============================] - 0s 4ms/step - loss: 9.0533 - mse: 143.2886\n",
            "Epoch 99/500\n",
            "2/2 [==============================] - 0s 4ms/step - loss: 10.8684 - mse: 139.1627\n",
            "Epoch 100/500\n",
            "2/2 [==============================] - 0s 4ms/step - loss: 27.1543 - mse: 1124.8959\n",
            "Epoch 101/500\n",
            "2/2 [==============================] - 0s 5ms/step - loss: 15.0985 - mse: 342.1708\n",
            "Epoch 102/500\n",
            "2/2 [==============================] - 0s 10ms/step - loss: 10.6480 - mse: 158.1153\n",
            "Epoch 103/500\n",
            "2/2 [==============================] - 0s 5ms/step - loss: 9.1251 - mse: 96.3347\n",
            "Epoch 104/500\n",
            "2/2 [==============================] - 0s 5ms/step - loss: 23.5916 - mse: 833.3986\n",
            "Epoch 105/500\n",
            "2/2 [==============================] - 0s 4ms/step - loss: 10.7488 - mse: 156.5294\n",
            "Epoch 106/500\n",
            "2/2 [==============================] - 0s 5ms/step - loss: 11.2126 - mse: 173.6959\n",
            "Epoch 107/500\n",
            "2/2 [==============================] - 0s 4ms/step - loss: 21.1606 - mse: 667.0156\n",
            "Epoch 108/500\n",
            "2/2 [==============================] - 0s 5ms/step - loss: 6.3044 - mse: 56.9973\n",
            "Epoch 109/500\n",
            "2/2 [==============================] - 0s 7ms/step - loss: 10.5376 - mse: 132.1063\n",
            "Epoch 110/500\n",
            "2/2 [==============================] - 0s 5ms/step - loss: 10.4890 - mse: 134.2514\n",
            "Epoch 111/500\n",
            "2/2 [==============================] - 0s 10ms/step - loss: 16.6339 - mse: 390.5510\n",
            "Epoch 112/500\n",
            "2/2 [==============================] - 0s 5ms/step - loss: 9.4794 - mse: 118.5019\n",
            "Epoch 113/500\n",
            "2/2 [==============================] - 0s 8ms/step - loss: 17.5285 - mse: 446.8937\n",
            "Epoch 114/500\n",
            "2/2 [==============================] - 0s 5ms/step - loss: 16.8953 - mse: 425.6243\n",
            "Epoch 115/500\n",
            "2/2 [==============================] - 0s 9ms/step - loss: 11.0144 - mse: 150.0813\n",
            "Epoch 116/500\n",
            "2/2 [==============================] - 0s 5ms/step - loss: 22.9330 - mse: 765.0790\n",
            "Epoch 117/500\n",
            "2/2 [==============================] - 0s 5ms/step - loss: 9.4916 - mse: 126.5410\n",
            "Epoch 118/500\n",
            "2/2 [==============================] - 0s 9ms/step - loss: 10.5481 - mse: 136.6725\n",
            "Epoch 119/500\n",
            "2/2 [==============================] - 0s 5ms/step - loss: 8.0094 - mse: 75.7835\n",
            "Epoch 120/500\n",
            "2/2 [==============================] - 0s 5ms/step - loss: 29.2342 - mse: 1273.1954\n",
            "Epoch 121/500\n",
            "2/2 [==============================] - 0s 4ms/step - loss: 8.0499 - mse: 70.0146\n",
            "Epoch 122/500\n",
            "2/2 [==============================] - 0s 5ms/step - loss: 27.9400 - mse: 1195.5645\n",
            "Epoch 123/500\n",
            "2/2 [==============================] - 0s 5ms/step - loss: 32.4459 - mse: 1544.1783\n",
            "Epoch 124/500\n",
            "2/2 [==============================] - 0s 5ms/step - loss: 19.2868 - mse: 551.3375\n",
            "Epoch 125/500\n",
            "2/2 [==============================] - 0s 6ms/step - loss: 9.4754 - mse: 152.0531\n",
            "Epoch 126/500\n",
            "2/2 [==============================] - 0s 5ms/step - loss: 9.5574 - mse: 112.7099\n",
            "Epoch 127/500\n",
            "2/2 [==============================] - 0s 4ms/step - loss: 12.6758 - mse: 251.0628\n",
            "Epoch 128/500\n",
            "2/2 [==============================] - 0s 5ms/step - loss: 12.7723 - mse: 225.5730\n",
            "Epoch 129/500\n",
            "2/2 [==============================] - 0s 4ms/step - loss: 13.9047 - mse: 310.4759\n",
            "Epoch 130/500\n",
            "2/2 [==============================] - 0s 5ms/step - loss: 10.2031 - mse: 121.1963\n",
            "Epoch 131/500\n",
            "2/2 [==============================] - 0s 4ms/step - loss: 21.6633 - mse: 710.6754\n",
            "Epoch 132/500\n",
            "2/2 [==============================] - 0s 5ms/step - loss: 8.2481 - mse: 95.4219\n",
            "Epoch 133/500\n",
            "2/2 [==============================] - 0s 8ms/step - loss: 9.0299 - mse: 112.2258\n",
            "Epoch 134/500\n",
            "2/2 [==============================] - 0s 5ms/step - loss: 16.8696 - mse: 414.9003\n",
            "Epoch 135/500\n",
            "2/2 [==============================] - 0s 4ms/step - loss: 10.6254 - mse: 149.2570\n",
            "Epoch 136/500\n",
            "2/2 [==============================] - 0s 4ms/step - loss: 18.4895 - mse: 484.5710\n",
            "Epoch 137/500\n",
            "2/2 [==============================] - 0s 4ms/step - loss: 23.4743 - mse: 744.1519\n",
            "Epoch 138/500\n",
            "2/2 [==============================] - 0s 5ms/step - loss: 9.2535 - mse: 139.1044\n",
            "Epoch 139/500\n",
            "2/2 [==============================] - 0s 4ms/step - loss: 8.9906 - mse: 142.8344\n",
            "Epoch 140/500\n",
            "2/2 [==============================] - 0s 5ms/step - loss: 16.9579 - mse: 414.4420\n",
            "Epoch 141/500\n",
            "2/2 [==============================] - 0s 9ms/step - loss: 8.2991 - mse: 75.2643\n",
            "Epoch 142/500\n",
            "2/2 [==============================] - 0s 5ms/step - loss: 34.0529 - mse: 2006.5125\n",
            "Epoch 143/500\n",
            "2/2 [==============================] - 0s 9ms/step - loss: 23.0925 - mse: 746.3925\n",
            "Epoch 144/500\n",
            "2/2 [==============================] - 0s 5ms/step - loss: 11.3178 - mse: 228.5256\n",
            "Epoch 145/500\n",
            "2/2 [==============================] - 0s 5ms/step - loss: 25.0260 - mse: 849.0703\n",
            "Epoch 146/500\n",
            "2/2 [==============================] - 0s 4ms/step - loss: 11.1395 - mse: 168.5863\n",
            "Epoch 147/500\n",
            "2/2 [==============================] - 0s 5ms/step - loss: 14.0641 - mse: 293.4109\n",
            "Epoch 148/500\n",
            "2/2 [==============================] - 0s 4ms/step - loss: 16.9134 - mse: 392.8133\n",
            "Epoch 149/500\n",
            "2/2 [==============================] - 0s 5ms/step - loss: 9.2440 - mse: 108.5677\n",
            "Epoch 150/500\n",
            "2/2 [==============================] - 0s 4ms/step - loss: 7.9228 - mse: 71.5231\n",
            "Epoch 151/500\n",
            "2/2 [==============================] - 0s 5ms/step - loss: 16.5267 - mse: 392.8456\n",
            "Epoch 152/500\n",
            "2/2 [==============================] - 0s 4ms/step - loss: 9.7869 - mse: 119.3237\n",
            "Epoch 153/500\n",
            "2/2 [==============================] - 0s 4ms/step - loss: 26.8916 - mse: 1022.6857\n",
            "Epoch 154/500\n",
            "2/2 [==============================] - 0s 5ms/step - loss: 11.8991 - mse: 238.7717\n",
            "Epoch 155/500\n",
            "2/2 [==============================] - 0s 4ms/step - loss: 15.2670 - mse: 334.6252\n",
            "Epoch 156/500\n",
            "2/2 [==============================] - 0s 9ms/step - loss: 16.6285 - mse: 423.5635\n",
            "Epoch 157/500\n",
            "2/2 [==============================] - 0s 5ms/step - loss: 19.3260 - mse: 576.5462\n",
            "Epoch 158/500\n",
            "2/2 [==============================] - 0s 9ms/step - loss: 8.2555 - mse: 129.2181\n",
            "Epoch 159/500\n",
            "2/2 [==============================] - 0s 5ms/step - loss: 7.9670 - mse: 109.4624\n",
            "Epoch 160/500\n",
            "2/2 [==============================] - 0s 9ms/step - loss: 20.9312 - mse: 658.5389\n",
            "Epoch 161/500\n",
            "2/2 [==============================] - 0s 5ms/step - loss: 23.8384 - mse: 862.0273\n",
            "Epoch 162/500\n",
            "2/2 [==============================] - 0s 10ms/step - loss: 18.7474 - mse: 501.8241\n",
            "Epoch 163/500\n",
            "2/2 [==============================] - 0s 5ms/step - loss: 17.6969 - mse: 449.2838\n",
            "Epoch 164/500\n",
            "2/2 [==============================] - 0s 5ms/step - loss: 11.0904 - mse: 180.7385\n",
            "Epoch 165/500\n",
            "2/2 [==============================] - 0s 7ms/step - loss: 9.5959 - mse: 181.1625\n",
            "Epoch 166/500\n",
            "2/2 [==============================] - 0s 5ms/step - loss: 21.5284 - mse: 678.8081\n",
            "Epoch 167/500\n",
            "2/2 [==============================] - 0s 4ms/step - loss: 26.4465 - mse: 1062.5345\n",
            "Epoch 168/500\n",
            "2/2 [==============================] - 0s 4ms/step - loss: 9.8807 - mse: 118.7010\n",
            "Epoch 169/500\n",
            "2/2 [==============================] - 0s 5ms/step - loss: 22.7214 - mse: 798.4165\n",
            "Epoch 170/500\n",
            "2/2 [==============================] - 0s 4ms/step - loss: 10.1229 - mse: 196.9343\n",
            "Epoch 171/500\n",
            "2/2 [==============================] - 0s 4ms/step - loss: 17.9795 - mse: 500.4771\n",
            "Epoch 172/500\n",
            "2/2 [==============================] - 0s 8ms/step - loss: 28.9997 - mse: 1322.0031\n",
            "Epoch 173/500\n",
            "2/2 [==============================] - 0s 5ms/step - loss: 16.6552 - mse: 438.1520\n",
            "Epoch 174/500\n",
            "2/2 [==============================] - 0s 4ms/step - loss: 11.1959 - mse: 200.8898\n",
            "Epoch 175/500\n",
            "2/2 [==============================] - 0s 4ms/step - loss: 27.5433 - mse: 1094.9504\n",
            "Epoch 176/500\n",
            "2/2 [==============================] - 0s 5ms/step - loss: 8.3104 - mse: 78.4074\n",
            "Epoch 177/500\n",
            "2/2 [==============================] - 0s 5ms/step - loss: 9.2890 - mse: 109.4852\n",
            "Epoch 178/500\n",
            "2/2 [==============================] - 0s 8ms/step - loss: 18.2729 - mse: 472.1318\n",
            "Epoch 179/500\n",
            "2/2 [==============================] - 0s 5ms/step - loss: 10.5415 - mse: 146.4986\n",
            "Epoch 180/500\n",
            "2/2 [==============================] - 0s 4ms/step - loss: 7.9188 - mse: 99.8195\n",
            "Epoch 181/500\n",
            "2/2 [==============================] - 0s 10ms/step - loss: 17.5086 - mse: 443.7148\n",
            "Epoch 182/500\n",
            "2/2 [==============================] - 0s 4ms/step - loss: 11.0546 - mse: 158.4256\n",
            "Epoch 183/500\n",
            "2/2 [==============================] - 0s 5ms/step - loss: 11.7519 - mse: 205.5672\n",
            "Epoch 184/500\n",
            "2/2 [==============================] - 0s 10ms/step - loss: 30.5715 - mse: 1403.3210\n",
            "Epoch 185/500\n",
            "2/2 [==============================] - 0s 5ms/step - loss: 7.5400 - mse: 99.1817\n",
            "Epoch 186/500\n",
            "2/2 [==============================] - 0s 5ms/step - loss: 15.9406 - mse: 367.1970\n",
            "Epoch 187/500\n",
            "2/2 [==============================] - 0s 5ms/step - loss: 8.5711 - mse: 85.4119\n",
            "Epoch 188/500\n",
            "2/2 [==============================] - 0s 11ms/step - loss: 28.8886 - mse: 1189.3577\n",
            "Epoch 189/500\n",
            "2/2 [==============================] - 0s 5ms/step - loss: 13.1373 - mse: 271.7828\n",
            "Epoch 190/500\n",
            "2/2 [==============================] - 0s 8ms/step - loss: 18.2753 - mse: 510.0541\n",
            "Epoch 191/500\n",
            "2/2 [==============================] - 0s 3ms/step - loss: 13.6973 - mse: 263.4832\n",
            "Epoch 192/500\n",
            "2/2 [==============================] - 0s 5ms/step - loss: 13.6935 - mse: 261.3924\n",
            "Epoch 193/500\n",
            "2/2 [==============================] - 0s 6ms/step - loss: 28.5525 - mse: 1132.8036\n",
            "Epoch 194/500\n",
            "2/2 [==============================] - 0s 6ms/step - loss: 7.1046 - mse: 78.4306\n",
            "Epoch 195/500\n",
            "2/2 [==============================] - 0s 7ms/step - loss: 7.0502 - mse: 75.1576\n",
            "Epoch 196/500\n",
            "2/2 [==============================] - 0s 3ms/step - loss: 21.9599 - mse: 706.8633\n",
            "Epoch 197/500\n",
            "2/2 [==============================] - 0s 4ms/step - loss: 20.9412 - mse: 649.8998\n",
            "Epoch 198/500\n",
            "2/2 [==============================] - 0s 3ms/step - loss: 12.5266 - mse: 238.3849\n",
            "Epoch 199/500\n",
            "2/2 [==============================] - 0s 4ms/step - loss: 17.9922 - mse: 464.4320\n",
            "Epoch 200/500\n",
            "2/2 [==============================] - 0s 4ms/step - loss: 13.8247 - mse: 285.4790\n",
            "Epoch 201/500\n",
            "2/2 [==============================] - 0s 6ms/step - loss: 6.0285 - mse: 51.1427\n",
            "Epoch 202/500\n",
            "2/2 [==============================] - 0s 5ms/step - loss: 22.8397 - mse: 743.8772\n",
            "Epoch 203/500\n",
            "2/2 [==============================] - 0s 4ms/step - loss: 8.9404 - mse: 153.3701\n",
            "Epoch 204/500\n",
            "2/2 [==============================] - 0s 4ms/step - loss: 18.8189 - mse: 531.1256\n",
            "Epoch 205/500\n",
            "2/2 [==============================] - 0s 7ms/step - loss: 9.3440 - mse: 126.9607\n",
            "Epoch 206/500\n",
            "2/2 [==============================] - 0s 10ms/step - loss: 10.4134 - mse: 143.1124\n",
            "Epoch 207/500\n",
            "2/2 [==============================] - 0s 5ms/step - loss: 21.1017 - mse: 676.7738\n",
            "Epoch 208/500\n",
            "2/2 [==============================] - 0s 7ms/step - loss: 16.4626 - mse: 390.1866\n",
            "Epoch 209/500\n",
            "2/2 [==============================] - 0s 5ms/step - loss: 14.3688 - mse: 318.3080\n",
            "Epoch 210/500\n",
            "2/2 [==============================] - 0s 5ms/step - loss: 19.3789 - mse: 547.2068\n",
            "Epoch 211/500\n",
            "2/2 [==============================] - 0s 5ms/step - loss: 10.2959 - mse: 146.6228\n",
            "Epoch 212/500\n",
            "2/2 [==============================] - 0s 8ms/step - loss: 20.1656 - mse: 610.1127\n",
            "Epoch 213/500\n",
            "2/2 [==============================] - 0s 5ms/step - loss: 15.0622 - mse: 308.3856\n",
            "Epoch 214/500\n",
            "2/2 [==============================] - 0s 10ms/step - loss: 14.6038 - mse: 294.3997\n",
            "Epoch 215/500\n",
            "2/2 [==============================] - 0s 5ms/step - loss: 23.3325 - mse: 801.2403\n",
            "Epoch 216/500\n",
            "2/2 [==============================] - 0s 5ms/step - loss: 13.3112 - mse: 276.4137\n",
            "Epoch 217/500\n",
            "2/2 [==============================] - 0s 5ms/step - loss: 9.8162 - mse: 134.9394\n",
            "Epoch 218/500\n",
            "2/2 [==============================] - 0s 5ms/step - loss: 12.5853 - mse: 207.6589\n",
            "Epoch 219/500\n",
            "2/2 [==============================] - 0s 5ms/step - loss: 5.3331 - mse: 39.2400\n",
            "Epoch 220/500\n",
            "2/2 [==============================] - 0s 4ms/step - loss: 14.6926 - mse: 283.6679\n",
            "Epoch 221/500\n",
            "2/2 [==============================] - 0s 9ms/step - loss: 33.5385 - mse: 1536.9209\n",
            "Epoch 222/500\n",
            "2/2 [==============================] - 0s 5ms/step - loss: 13.8805 - mse: 237.5946\n",
            "Epoch 223/500\n",
            "2/2 [==============================] - 0s 4ms/step - loss: 10.9872 - mse: 179.5802\n",
            "Epoch 224/500\n",
            "2/2 [==============================] - 0s 5ms/step - loss: 14.9380 - mse: 333.4512\n",
            "Epoch 225/500\n",
            "2/2 [==============================] - 0s 5ms/step - loss: 16.9834 - mse: 374.1156\n",
            "Epoch 226/500\n",
            "2/2 [==============================] - 0s 4ms/step - loss: 16.1735 - mse: 385.0337\n",
            "Epoch 227/500\n",
            "2/2 [==============================] - 0s 6ms/step - loss: 16.4892 - mse: 384.8620\n",
            "Epoch 228/500\n",
            "2/2 [==============================] - 0s 5ms/step - loss: 9.9334 - mse: 185.4483\n",
            "Epoch 229/500\n",
            "2/2 [==============================] - 0s 5ms/step - loss: 17.8279 - mse: 443.1902\n",
            "Epoch 230/500\n",
            "2/2 [==============================] - 0s 5ms/step - loss: 15.4489 - mse: 310.3665\n",
            "Epoch 231/500\n",
            "2/2 [==============================] - 0s 4ms/step - loss: 20.8729 - mse: 654.1620\n",
            "Epoch 232/500\n",
            "2/2 [==============================] - 0s 6ms/step - loss: 20.4368 - mse: 593.8245\n",
            "Epoch 233/500\n",
            "2/2 [==============================] - 0s 9ms/step - loss: 15.0925 - mse: 339.1691\n",
            "Epoch 234/500\n",
            "2/2 [==============================] - 0s 5ms/step - loss: 6.9612 - mse: 65.8800\n",
            "Epoch 235/500\n",
            "2/2 [==============================] - 0s 9ms/step - loss: 15.7431 - mse: 348.3261\n",
            "Epoch 236/500\n",
            "2/2 [==============================] - 0s 5ms/step - loss: 6.6844 - mse: 71.0750\n",
            "Epoch 237/500\n",
            "2/2 [==============================] - 0s 4ms/step - loss: 8.5997 - mse: 113.9803\n",
            "Epoch 238/500\n",
            "2/2 [==============================] - 0s 4ms/step - loss: 7.7600 - mse: 87.7894\n",
            "Epoch 239/500\n",
            "2/2 [==============================] - 0s 5ms/step - loss: 15.6675 - mse: 373.7043\n",
            "Epoch 240/500\n",
            "2/2 [==============================] - 0s 9ms/step - loss: 9.0044 - mse: 109.0672\n",
            "Epoch 241/500\n",
            "2/2 [==============================] - 0s 5ms/step - loss: 13.4320 - mse: 279.9271\n",
            "Epoch 242/500\n",
            "2/2 [==============================] - 0s 4ms/step - loss: 8.8925 - mse: 107.6467\n",
            "Epoch 243/500\n",
            "2/2 [==============================] - 0s 5ms/step - loss: 19.3309 - mse: 570.3690\n",
            "Epoch 244/500\n",
            "2/2 [==============================] - 0s 4ms/step - loss: 13.8752 - mse: 271.2401\n",
            "Epoch 245/500\n",
            "2/2 [==============================] - 0s 6ms/step - loss: 14.5270 - mse: 282.7280\n",
            "Epoch 246/500\n",
            "2/2 [==============================] - 0s 4ms/step - loss: 15.6643 - mse: 361.3549\n",
            "Epoch 247/500\n",
            "2/2 [==============================] - 0s 7ms/step - loss: 17.4968 - mse: 411.0746\n",
            "Epoch 248/500\n",
            "2/2 [==============================] - 0s 9ms/step - loss: 13.0650 - mse: 249.5703\n",
            "Epoch 249/500\n",
            "2/2 [==============================] - 0s 5ms/step - loss: 14.4143 - mse: 283.6945\n",
            "Epoch 250/500\n",
            "2/2 [==============================] - 0s 10ms/step - loss: 27.8084 - mse: 1100.5492\n",
            "Epoch 251/500\n",
            "2/2 [==============================] - 0s 5ms/step - loss: 7.4941 - mse: 68.9759\n",
            "Epoch 252/500\n",
            "2/2 [==============================] - 0s 5ms/step - loss: 38.2516 - mse: 2418.7222\n",
            "Epoch 253/500\n",
            "2/2 [==============================] - 0s 5ms/step - loss: 23.1391 - mse: 752.5815\n",
            "Epoch 254/500\n",
            "2/2 [==============================] - 0s 5ms/step - loss: 7.2848 - mse: 78.3129\n",
            "Epoch 255/500\n",
            "2/2 [==============================] - 0s 8ms/step - loss: 24.6464 - mse: 877.5949\n",
            "Epoch 256/500\n",
            "2/2 [==============================] - 0s 5ms/step - loss: 12.3952 - mse: 219.4530\n",
            "Epoch 257/500\n",
            "2/2 [==============================] - 0s 5ms/step - loss: 10.5624 - mse: 163.2279\n",
            "Epoch 258/500\n",
            "2/2 [==============================] - 0s 5ms/step - loss: 14.1943 - mse: 306.4815\n",
            "Epoch 259/500\n",
            "2/2 [==============================] - 0s 5ms/step - loss: 11.2490 - mse: 186.7468\n",
            "Epoch 260/500\n",
            "2/2 [==============================] - 0s 7ms/step - loss: 31.6272 - mse: 1527.5128\n",
            "Epoch 261/500\n",
            "2/2 [==============================] - 0s 8ms/step - loss: 11.1654 - mse: 178.0814\n",
            "Epoch 262/500\n",
            "2/2 [==============================] - 0s 5ms/step - loss: 10.0203 - mse: 139.2420\n",
            "Epoch 263/500\n",
            "2/2 [==============================] - 0s 4ms/step - loss: 8.9338 - mse: 103.4201\n",
            "Epoch 264/500\n",
            "2/2 [==============================] - 0s 5ms/step - loss: 21.5165 - mse: 651.3104\n",
            "Epoch 265/500\n",
            "2/2 [==============================] - 0s 5ms/step - loss: 11.4334 - mse: 198.8170\n",
            "Epoch 266/500\n",
            "2/2 [==============================] - 0s 8ms/step - loss: 13.2669 - mse: 254.3578\n",
            "Epoch 267/500\n",
            "2/2 [==============================] - 0s 5ms/step - loss: 11.0636 - mse: 233.3604\n",
            "Epoch 268/500\n",
            "2/2 [==============================] - 0s 5ms/step - loss: 21.7188 - mse: 673.9229\n",
            "Epoch 269/500\n",
            "2/2 [==============================] - 0s 4ms/step - loss: 32.9130 - mse: 1625.3528\n",
            "Epoch 270/500\n",
            "2/2 [==============================] - 0s 5ms/step - loss: 9.7237 - mse: 132.0539\n",
            "Epoch 271/500\n",
            "2/2 [==============================] - 0s 4ms/step - loss: 7.7036 - mse: 111.9084\n",
            "Epoch 272/500\n",
            "2/2 [==============================] - 0s 6ms/step - loss: 28.5087 - mse: 1116.6100\n",
            "Epoch 273/500\n",
            "2/2 [==============================] - 0s 4ms/step - loss: 7.3695 - mse: 83.2381\n",
            "Epoch 274/500\n",
            "2/2 [==============================] - 0s 6ms/step - loss: 6.3200 - mse: 45.0157\n",
            "Epoch 275/500\n",
            "2/2 [==============================] - 0s 5ms/step - loss: 37.1489 - mse: 2116.9214\n",
            "Epoch 276/500\n",
            "2/2 [==============================] - 0s 6ms/step - loss: 8.2746 - mse: 108.5946\n",
            "Epoch 277/500\n",
            "2/2 [==============================] - 0s 6ms/step - loss: 27.9333 - mse: 1069.9890\n",
            "Epoch 278/500\n",
            "2/2 [==============================] - 0s 10ms/step - loss: 10.6131 - mse: 213.1039\n",
            "Epoch 279/500\n",
            "2/2 [==============================] - 0s 5ms/step - loss: 16.0592 - mse: 386.4377\n",
            "Epoch 280/500\n",
            "2/2 [==============================] - 0s 5ms/step - loss: 21.1418 - mse: 676.8710\n",
            "Epoch 281/500\n",
            "2/2 [==============================] - 0s 8ms/step - loss: 24.0278 - mse: 882.7176\n",
            "Epoch 282/500\n",
            "2/2 [==============================] - 0s 5ms/step - loss: 8.2943 - mse: 97.3967\n",
            "Epoch 283/500\n",
            "2/2 [==============================] - 0s 8ms/step - loss: 9.0376 - mse: 119.3083\n",
            "Epoch 284/500\n",
            "2/2 [==============================] - 0s 4ms/step - loss: 22.9684 - mse: 784.2523\n",
            "Epoch 285/500\n",
            "2/2 [==============================] - 0s 11ms/step - loss: 11.8142 - mse: 226.1998\n",
            "Epoch 286/500\n",
            "2/2 [==============================] - 0s 4ms/step - loss: 6.7266 - mse: 65.8699\n",
            "Epoch 287/500\n",
            "2/2 [==============================] - 0s 6ms/step - loss: 20.9357 - mse: 635.6038\n",
            "Epoch 288/500\n",
            "2/2 [==============================] - 0s 5ms/step - loss: 11.1900 - mse: 202.7070\n",
            "Epoch 289/500\n",
            "2/2 [==============================] - 0s 5ms/step - loss: 12.4182 - mse: 239.8832\n",
            "Epoch 290/500\n",
            "2/2 [==============================] - 0s 5ms/step - loss: 16.9539 - mse: 392.3289\n",
            "Epoch 291/500\n",
            "2/2 [==============================] - 0s 5ms/step - loss: 17.3520 - mse: 445.1956\n",
            "Epoch 292/500\n",
            "2/2 [==============================] - 0s 4ms/step - loss: 11.4509 - mse: 322.7456\n",
            "Epoch 293/500\n",
            "2/2 [==============================] - 0s 5ms/step - loss: 14.2686 - mse: 277.3374\n",
            "Epoch 294/500\n",
            "2/2 [==============================] - 0s 4ms/step - loss: 21.1963 - mse: 695.3907\n",
            "Epoch 295/500\n",
            "2/2 [==============================] - 0s 4ms/step - loss: 15.7476 - mse: 357.8213\n",
            "Epoch 296/500\n",
            "2/2 [==============================] - 0s 5ms/step - loss: 5.8710 - mse: 63.3629\n",
            "Epoch 297/500\n",
            "2/2 [==============================] - 0s 5ms/step - loss: 11.8132 - mse: 249.1280\n",
            "Epoch 298/500\n",
            "2/2 [==============================] - 0s 4ms/step - loss: 23.6499 - mse: 815.9677\n",
            "Epoch 299/500\n",
            "2/2 [==============================] - 0s 5ms/step - loss: 16.6366 - mse: 416.7868\n",
            "Epoch 300/500\n",
            "2/2 [==============================] - 0s 5ms/step - loss: 6.7561 - mse: 54.9482\n",
            "Epoch 301/500\n",
            "2/2 [==============================] - 0s 5ms/step - loss: 23.8762 - mse: 799.5358\n",
            "Epoch 302/500\n",
            "2/2 [==============================] - 0s 5ms/step - loss: 7.9915 - mse: 87.4724\n",
            "Epoch 303/500\n",
            "2/2 [==============================] - 0s 11ms/step - loss: 20.4030 - mse: 611.2352\n",
            "Epoch 304/500\n",
            "2/2 [==============================] - 0s 5ms/step - loss: 13.1574 - mse: 265.1964\n",
            "Epoch 305/500\n",
            "2/2 [==============================] - 0s 5ms/step - loss: 6.9126 - mse: 96.9805\n",
            "Epoch 306/500\n",
            "2/2 [==============================] - 0s 5ms/step - loss: 18.5340 - mse: 480.4122\n",
            "Epoch 307/500\n",
            "2/2 [==============================] - 0s 5ms/step - loss: 9.6451 - mse: 185.5471\n",
            "Epoch 308/500\n",
            "2/2 [==============================] - 0s 5ms/step - loss: 20.2383 - mse: 631.4922\n",
            "Epoch 309/500\n",
            "2/2 [==============================] - 0s 11ms/step - loss: 14.2506 - mse: 310.1769\n",
            "Epoch 310/500\n",
            "2/2 [==============================] - 0s 5ms/step - loss: 5.0876 - mse: 43.8700\n",
            "Epoch 311/500\n",
            "2/2 [==============================] - 0s 4ms/step - loss: 13.8201 - mse: 261.3070\n",
            "Epoch 312/500\n",
            "2/2 [==============================] - 0s 5ms/step - loss: 30.3948 - mse: 1275.1400\n",
            "Epoch 313/500\n",
            "2/2 [==============================] - 0s 4ms/step - loss: 6.9042 - mse: 105.5143\n",
            "Epoch 314/500\n",
            "2/2 [==============================] - 0s 5ms/step - loss: 11.0914 - mse: 282.4764\n",
            "Epoch 315/500\n",
            "2/2 [==============================] - 0s 4ms/step - loss: 23.3471 - mse: 794.3973\n",
            "Epoch 316/500\n",
            "2/2 [==============================] - 0s 5ms/step - loss: 14.8040 - mse: 338.8558\n",
            "Epoch 317/500\n",
            "2/2 [==============================] - 0s 4ms/step - loss: 20.4903 - mse: 573.8478\n",
            "Epoch 318/500\n",
            "2/2 [==============================] - 0s 4ms/step - loss: 8.6387 - mse: 102.4864\n",
            "Epoch 319/500\n",
            "2/2 [==============================] - 0s 10ms/step - loss: 15.1350 - mse: 357.6279\n",
            "Epoch 320/500\n",
            "2/2 [==============================] - 0s 5ms/step - loss: 8.2728 - mse: 98.8203\n",
            "Epoch 321/500\n",
            "2/2 [==============================] - 0s 5ms/step - loss: 14.5406 - mse: 314.2703\n",
            "Epoch 322/500\n",
            "2/2 [==============================] - 0s 8ms/step - loss: 12.8420 - mse: 242.4669\n",
            "Epoch 323/500\n",
            "2/2 [==============================] - 0s 5ms/step - loss: 19.1403 - mse: 562.0197\n",
            "Epoch 324/500\n",
            "2/2 [==============================] - 0s 4ms/step - loss: 16.9096 - mse: 427.4322\n",
            "Epoch 325/500\n",
            "2/2 [==============================] - 0s 8ms/step - loss: 9.3109 - mse: 209.7536\n",
            "Epoch 326/500\n",
            "2/2 [==============================] - 0s 5ms/step - loss: 19.9789 - mse: 608.7683\n",
            "Epoch 327/500\n",
            "2/2 [==============================] - 0s 5ms/step - loss: 27.9554 - mse: 1118.0941\n",
            "Epoch 328/500\n",
            "2/2 [==============================] - 0s 9ms/step - loss: 11.7383 - mse: 229.6229\n",
            "Epoch 329/500\n",
            "2/2 [==============================] - 0s 5ms/step - loss: 16.4214 - mse: 408.3329\n",
            "Epoch 330/500\n",
            "2/2 [==============================] - 0s 11ms/step - loss: 7.2757 - mse: 79.5800\n",
            "Epoch 331/500\n",
            "2/2 [==============================] - 0s 4ms/step - loss: 22.4687 - mse: 775.1063\n",
            "Epoch 332/500\n",
            "2/2 [==============================] - 0s 4ms/step - loss: 13.2669 - mse: 271.4509\n",
            "Epoch 333/500\n",
            "2/2 [==============================] - 0s 5ms/step - loss: 10.0931 - mse: 163.5908\n",
            "Epoch 334/500\n",
            "2/2 [==============================] - 0s 8ms/step - loss: 6.5639 - mse: 93.5884\n",
            "Epoch 335/500\n",
            "2/2 [==============================] - 0s 8ms/step - loss: 6.2410 - mse: 53.8200\n",
            "Epoch 336/500\n",
            "2/2 [==============================] - 0s 5ms/step - loss: 34.4345 - mse: 1928.3689\n",
            "Epoch 337/500\n",
            "2/2 [==============================] - 0s 4ms/step - loss: 26.8680 - mse: 1055.4044\n",
            "Epoch 338/500\n",
            "2/2 [==============================] - 0s 5ms/step - loss: 13.9396 - mse: 294.6081\n",
            "Epoch 339/500\n",
            "2/2 [==============================] - 0s 9ms/step - loss: 11.4910 - mse: 211.0175\n",
            "Epoch 340/500\n",
            "2/2 [==============================] - 0s 5ms/step - loss: 8.8214 - mse: 178.0056\n",
            "Epoch 341/500\n",
            "2/2 [==============================] - 0s 5ms/step - loss: 23.4782 - mse: 800.3292\n",
            "Epoch 342/500\n",
            "2/2 [==============================] - 0s 9ms/step - loss: 13.8497 - mse: 282.1821\n",
            "Epoch 343/500\n",
            "2/2 [==============================] - 0s 7ms/step - loss: 14.8419 - mse: 294.2353\n",
            "Epoch 344/500\n",
            "2/2 [==============================] - 0s 4ms/step - loss: 13.3787 - mse: 274.9174\n",
            "Epoch 345/500\n",
            "2/2 [==============================] - 0s 4ms/step - loss: 31.0326 - mse: 1354.2535\n",
            "Epoch 346/500\n",
            "2/2 [==============================] - 0s 7ms/step - loss: 10.6989 - mse: 251.5773\n",
            "Epoch 347/500\n",
            "2/2 [==============================] - 0s 8ms/step - loss: 25.7343 - mse: 927.1676\n",
            "Epoch 348/500\n",
            "2/2 [==============================] - 0s 8ms/step - loss: 12.8637 - mse: 259.5754\n",
            "Epoch 349/500\n",
            "2/2 [==============================] - 0s 8ms/step - loss: 13.1562 - mse: 249.2290\n",
            "Epoch 350/500\n",
            "2/2 [==============================] - 0s 37ms/step - loss: 15.4313 - mse: 332.9315\n",
            "Epoch 351/500\n",
            "2/2 [==============================] - 0s 5ms/step - loss: 32.9634 - mse: 1524.9329\n",
            "Epoch 352/500\n",
            "2/2 [==============================] - 0s 5ms/step - loss: 14.1986 - mse: 282.6112\n",
            "Epoch 353/500\n",
            "2/2 [==============================] - 0s 5ms/step - loss: 15.9160 - mse: 373.9597\n",
            "Epoch 354/500\n",
            "2/2 [==============================] - 0s 4ms/step - loss: 19.0813 - mse: 534.7463\n",
            "Epoch 355/500\n",
            "2/2 [==============================] - 0s 5ms/step - loss: 34.1370 - mse: 1784.8168\n",
            "Epoch 356/500\n",
            "2/2 [==============================] - 0s 5ms/step - loss: 8.2430 - mse: 108.9752\n",
            "Epoch 357/500\n",
            "2/2 [==============================] - 0s 4ms/step - loss: 21.7224 - mse: 706.9926\n",
            "Epoch 358/500\n",
            "2/2 [==============================] - 0s 5ms/step - loss: 19.8383 - mse: 567.9298\n",
            "Epoch 359/500\n",
            "2/2 [==============================] - 0s 4ms/step - loss: 11.0707 - mse: 288.5103\n",
            "Epoch 360/500\n",
            "2/2 [==============================] - 0s 5ms/step - loss: 20.3356 - mse: 622.0133\n",
            "Epoch 361/500\n",
            "2/2 [==============================] - 0s 5ms/step - loss: 10.8994 - mse: 218.7729\n",
            "Epoch 362/500\n",
            "2/2 [==============================] - 0s 4ms/step - loss: 6.7801 - mse: 77.2142\n",
            "Epoch 363/500\n",
            "2/2 [==============================] - 0s 5ms/step - loss: 23.8593 - mse: 827.6558\n",
            "Epoch 364/500\n",
            "2/2 [==============================] - 0s 4ms/step - loss: 29.5702 - mse: 1268.8014\n",
            "Epoch 365/500\n",
            "2/2 [==============================] - 0s 5ms/step - loss: 8.2665 - mse: 106.7796\n",
            "Epoch 366/500\n",
            "2/2 [==============================] - 0s 5ms/step - loss: 6.0686 - mse: 48.7766\n",
            "Epoch 367/500\n",
            "2/2 [==============================] - 0s 5ms/step - loss: 34.7233 - mse: 1829.0485\n",
            "Epoch 368/500\n",
            "2/2 [==============================] - 0s 5ms/step - loss: 7.3412 - mse: 100.4985\n",
            "Epoch 369/500\n",
            "2/2 [==============================] - 0s 5ms/step - loss: 9.1538 - mse: 127.9612\n",
            "Epoch 370/500\n",
            "2/2 [==============================] - 0s 12ms/step - loss: 10.8544 - mse: 205.3395\n",
            "Epoch 371/500\n",
            "2/2 [==============================] - 0s 5ms/step - loss: 8.9199 - mse: 140.1064\n",
            "Epoch 372/500\n",
            "2/2 [==============================] - 0s 4ms/step - loss: 7.6868 - mse: 141.6684\n",
            "Epoch 373/500\n",
            "2/2 [==============================] - 0s 5ms/step - loss: 25.0877 - mse: 921.4113\n",
            "Epoch 374/500\n",
            "2/2 [==============================] - 0s 5ms/step - loss: 13.1512 - mse: 280.6258\n",
            "Epoch 375/500\n",
            "2/2 [==============================] - 0s 4ms/step - loss: 11.8737 - mse: 213.8291\n",
            "Epoch 376/500\n",
            "2/2 [==============================] - 0s 5ms/step - loss: 14.1561 - mse: 286.3858\n",
            "Epoch 377/500\n",
            "2/2 [==============================] - 0s 5ms/step - loss: 15.7280 - mse: 319.1891\n",
            "Epoch 378/500\n",
            "2/2 [==============================] - 0s 4ms/step - loss: 17.0633 - mse: 465.9794\n",
            "Epoch 379/500\n",
            "2/2 [==============================] - 0s 5ms/step - loss: 19.3442 - mse: 534.3576\n",
            "Epoch 380/500\n",
            "2/2 [==============================] - 0s 4ms/step - loss: 15.6960 - mse: 385.1127\n",
            "Epoch 381/500\n",
            "2/2 [==============================] - 0s 5ms/step - loss: 11.4719 - mse: 217.2452\n",
            "Epoch 382/500\n",
            "2/2 [==============================] - 0s 4ms/step - loss: 16.3436 - mse: 357.3980\n",
            "Epoch 383/500\n",
            "2/2 [==============================] - 0s 5ms/step - loss: 22.1107 - mse: 753.9284\n",
            "Epoch 384/500\n",
            "2/2 [==============================] - 0s 4ms/step - loss: 7.7105 - mse: 82.4595\n",
            "Epoch 385/500\n",
            "2/2 [==============================] - 0s 5ms/step - loss: 10.6118 - mse: 273.1005\n",
            "Epoch 386/500\n",
            "2/2 [==============================] - 0s 6ms/step - loss: 19.1051 - mse: 571.1637\n",
            "Epoch 387/500\n",
            "2/2 [==============================] - 0s 4ms/step - loss: 26.4671 - mse: 1021.8895\n",
            "Epoch 388/500\n",
            "2/2 [==============================] - 0s 18ms/step - loss: 10.0792 - mse: 173.8792\n",
            "Epoch 389/500\n",
            "2/2 [==============================] - 0s 6ms/step - loss: 5.1517 - mse: 40.2209\n",
            "Epoch 390/500\n",
            "2/2 [==============================] - 0s 12ms/step - loss: 18.8077 - mse: 512.3062\n",
            "Epoch 391/500\n",
            "2/2 [==============================] - 0s 30ms/step - loss: 9.3263 - mse: 261.1057\n",
            "Epoch 392/500\n",
            "2/2 [==============================] - 0s 46ms/step - loss: 14.4041 - mse: 326.8085\n",
            "Epoch 393/500\n",
            "2/2 [==============================] - 0s 60ms/step - loss: 15.4075 - mse: 339.5027\n",
            "Epoch 394/500\n",
            "2/2 [==============================] - 0s 7ms/step - loss: 14.7419 - mse: 320.2953\n",
            "Epoch 395/500\n",
            "2/2 [==============================] - 0s 6ms/step - loss: 24.9778 - mse: 883.0529\n",
            "Epoch 396/500\n",
            "2/2 [==============================] - 0s 5ms/step - loss: 19.1388 - mse: 519.4127\n",
            "Epoch 397/500\n",
            "2/2 [==============================] - 0s 6ms/step - loss: 11.5711 - mse: 282.2752\n",
            "Epoch 398/500\n",
            "2/2 [==============================] - 0s 6ms/step - loss: 19.2242 - mse: 580.6860\n",
            "Epoch 399/500\n",
            "2/2 [==============================] - 0s 5ms/step - loss: 25.9351 - mse: 1007.3079\n",
            "Epoch 400/500\n",
            "2/2 [==============================] - 0s 6ms/step - loss: 15.5935 - mse: 351.5402\n",
            "Epoch 401/500\n",
            "2/2 [==============================] - 0s 5ms/step - loss: 14.6526 - mse: 281.9190\n",
            "Epoch 402/500\n",
            "2/2 [==============================] - 0s 5ms/step - loss: 24.2780 - mse: 838.5666\n",
            "Epoch 403/500\n",
            "2/2 [==============================] - 0s 5ms/step - loss: 16.2797 - mse: 391.6414\n",
            "Epoch 404/500\n",
            "2/2 [==============================] - 0s 5ms/step - loss: 10.4337 - mse: 210.6252\n",
            "Epoch 405/500\n",
            "2/2 [==============================] - 0s 6ms/step - loss: 6.3794 - mse: 67.7010\n",
            "Epoch 406/500\n",
            "2/2 [==============================] - 0s 5ms/step - loss: 17.7625 - mse: 475.4213\n",
            "Epoch 407/500\n",
            "2/2 [==============================] - 0s 9ms/step - loss: 11.0234 - mse: 261.4662\n",
            "Epoch 408/500\n",
            "2/2 [==============================] - 0s 9ms/step - loss: 21.0807 - mse: 679.6839\n",
            "Epoch 409/500\n",
            "2/2 [==============================] - 0s 6ms/step - loss: 30.2958 - mse: 1416.4490\n",
            "Epoch 410/500\n",
            "2/2 [==============================] - 0s 6ms/step - loss: 9.8325 - mse: 241.5133\n",
            "Epoch 411/500\n",
            "2/2 [==============================] - 0s 6ms/step - loss: 14.7097 - mse: 281.2070\n",
            "Epoch 412/500\n",
            "2/2 [==============================] - 0s 5ms/step - loss: 21.4597 - mse: 706.0004\n",
            "Epoch 413/500\n",
            "2/2 [==============================] - 0s 9ms/step - loss: 13.3104 - mse: 272.7267\n",
            "Epoch 414/500\n",
            "2/2 [==============================] - 0s 10ms/step - loss: 7.7989 - mse: 157.4368\n",
            "Epoch 415/500\n",
            "2/2 [==============================] - 0s 7ms/step - loss: 12.2027 - mse: 243.5207\n",
            "Epoch 416/500\n",
            "2/2 [==============================] - 0s 10ms/step - loss: 25.8896 - mse: 931.5198\n",
            "Epoch 417/500\n",
            "2/2 [==============================] - 0s 6ms/step - loss: 15.0039 - mse: 348.6288\n",
            "Epoch 418/500\n",
            "2/2 [==============================] - 0s 7ms/step - loss: 12.7948 - mse: 236.1382\n",
            "Epoch 419/500\n",
            "2/2 [==============================] - 0s 10ms/step - loss: 15.8623 - mse: 372.9520\n",
            "Epoch 420/500\n",
            "2/2 [==============================] - 0s 6ms/step - loss: 24.7144 - mse: 847.3392\n",
            "Epoch 421/500\n",
            "2/2 [==============================] - 0s 6ms/step - loss: 17.5656 - mse: 454.6816\n",
            "Epoch 422/500\n",
            "2/2 [==============================] - 0s 5ms/step - loss: 8.7163 - mse: 189.0645\n",
            "Epoch 423/500\n",
            "2/2 [==============================] - 0s 6ms/step - loss: 24.9130 - mse: 877.7567\n",
            "Epoch 424/500\n",
            "2/2 [==============================] - 0s 5ms/step - loss: 16.1225 - mse: 405.5086\n",
            "Epoch 425/500\n",
            "2/2 [==============================] - 0s 8ms/step - loss: 7.4654 - mse: 81.1298\n",
            "Epoch 426/500\n",
            "2/2 [==============================] - 0s 6ms/step - loss: 21.5441 - mse: 643.0426\n",
            "Epoch 427/500\n",
            "2/2 [==============================] - 0s 5ms/step - loss: 6.6520 - mse: 81.7296\n",
            "Epoch 428/500\n",
            "2/2 [==============================] - 0s 11ms/step - loss: 13.8155 - mse: 308.8628\n",
            "Epoch 429/500\n",
            "2/2 [==============================] - 0s 7ms/step - loss: 11.7674 - mse: 222.2958\n",
            "Epoch 430/500\n",
            "2/2 [==============================] - 0s 7ms/step - loss: 10.5095 - mse: 219.1997\n",
            "Epoch 431/500\n",
            "2/2 [==============================] - 0s 6ms/step - loss: 12.0563 - mse: 268.6875\n",
            "Epoch 432/500\n",
            "2/2 [==============================] - 0s 6ms/step - loss: 7.6051 - mse: 90.6651\n",
            "Epoch 433/500\n",
            "2/2 [==============================] - 0s 6ms/step - loss: 14.8279 - mse: 344.4597\n",
            "Epoch 434/500\n",
            "2/2 [==============================] - 0s 4ms/step - loss: 17.9457 - mse: 468.9523\n",
            "Epoch 435/500\n",
            "2/2 [==============================] - 0s 6ms/step - loss: 9.7130 - mse: 251.5823\n",
            "Epoch 436/500\n",
            "2/2 [==============================] - 0s 7ms/step - loss: 29.1169 - mse: 1233.7072\n",
            "Epoch 437/500\n",
            "2/2 [==============================] - 0s 6ms/step - loss: 9.2796 - mse: 229.0429\n",
            "Epoch 438/500\n",
            "2/2 [==============================] - 0s 6ms/step - loss: 12.6930 - mse: 274.3316\n",
            "Epoch 439/500\n",
            "2/2 [==============================] - 0s 11ms/step - loss: 33.5526 - mse: 1559.1389\n",
            "Epoch 440/500\n",
            "2/2 [==============================] - 0s 4ms/step - loss: 14.9204 - mse: 288.0505\n",
            "Epoch 441/500\n",
            "2/2 [==============================] - 0s 8ms/step - loss: 17.3505 - mse: 473.9814\n",
            "Epoch 442/500\n",
            "2/2 [==============================] - 0s 6ms/step - loss: 22.0312 - mse: 735.8333\n",
            "Epoch 443/500\n",
            "2/2 [==============================] - 0s 5ms/step - loss: 24.2373 - mse: 831.1008\n",
            "Epoch 444/500\n",
            "2/2 [==============================] - 0s 6ms/step - loss: 11.5245 - mse: 217.6527\n",
            "Epoch 445/500\n",
            "2/2 [==============================] - 0s 4ms/step - loss: 14.7614 - mse: 307.9103\n",
            "Epoch 446/500\n",
            "2/2 [==============================] - 0s 9ms/step - loss: 17.7724 - mse: 501.6469\n",
            "Epoch 447/500\n",
            "2/2 [==============================] - 0s 6ms/step - loss: 5.6770 - mse: 52.1622\n",
            "Epoch 448/500\n",
            "2/2 [==============================] - 0s 6ms/step - loss: 9.5166 - mse: 234.8879\n",
            "Epoch 449/500\n",
            "2/2 [==============================] - 0s 4ms/step - loss: 14.1783 - mse: 281.9759\n",
            "Epoch 450/500\n",
            "2/2 [==============================] - 0s 4ms/step - loss: 16.9440 - mse: 436.4640\n",
            "Epoch 451/500\n",
            "2/2 [==============================] - 0s 4ms/step - loss: 14.3605 - mse: 311.0169\n",
            "Epoch 452/500\n",
            "2/2 [==============================] - 0s 4ms/step - loss: 30.7707 - mse: 1342.0834\n",
            "Epoch 453/500\n",
            "2/2 [==============================] - 0s 5ms/step - loss: 8.4148 - mse: 195.2588\n",
            "Epoch 454/500\n",
            "2/2 [==============================] - 0s 4ms/step - loss: 27.6925 - mse: 1071.5127\n",
            "Epoch 455/500\n",
            "2/2 [==============================] - 0s 4ms/step - loss: 9.8312 - mse: 187.7354\n",
            "Epoch 456/500\n",
            "2/2 [==============================] - 0s 6ms/step - loss: 14.6270 - mse: 289.7393\n",
            "Epoch 457/500\n",
            "2/2 [==============================] - 0s 9ms/step - loss: 17.7890 - mse: 483.4682\n",
            "Epoch 458/500\n",
            "2/2 [==============================] - 0s 4ms/step - loss: 14.0619 - mse: 269.8937\n",
            "Epoch 459/500\n",
            "2/2 [==============================] - 0s 4ms/step - loss: 26.0022 - mse: 975.4780\n",
            "Epoch 460/500\n",
            "2/2 [==============================] - 0s 4ms/step - loss: 14.7843 - mse: 326.8496\n",
            "Epoch 461/500\n",
            "2/2 [==============================] - 0s 4ms/step - loss: 12.0183 - mse: 263.0505\n",
            "Epoch 462/500\n",
            "2/2 [==============================] - 0s 6ms/step - loss: 13.3071 - mse: 244.8638\n",
            "Epoch 463/500\n",
            "2/2 [==============================] - 0s 4ms/step - loss: 29.5312 - mse: 1218.3020\n",
            "Epoch 464/500\n",
            "2/2 [==============================] - 0s 4ms/step - loss: 3.4591 - mse: 22.1119\n",
            "Epoch 465/500\n",
            "2/2 [==============================] - 0s 4ms/step - loss: 15.1962 - mse: 351.4819\n",
            "Epoch 466/500\n",
            "2/2 [==============================] - 0s 7ms/step - loss: 20.7925 - mse: 649.1942\n",
            "Epoch 467/500\n",
            "2/2 [==============================] - 0s 4ms/step - loss: 30.6246 - mse: 1432.6095\n",
            "Epoch 468/500\n",
            "2/2 [==============================] - 0s 4ms/step - loss: 11.1070 - mse: 236.7167\n",
            "Epoch 469/500\n",
            "2/2 [==============================] - 0s 4ms/step - loss: 12.9014 - mse: 279.7795\n",
            "Epoch 470/500\n",
            "2/2 [==============================] - 0s 4ms/step - loss: 3.5627 - mse: 18.5622\n",
            "Epoch 471/500\n",
            "2/2 [==============================] - 0s 4ms/step - loss: 42.0638 - mse: 2705.0413\n",
            "Epoch 472/500\n",
            "2/2 [==============================] - 0s 4ms/step - loss: 4.6053 - mse: 46.6731\n",
            "Epoch 473/500\n",
            "2/2 [==============================] - 0s 5ms/step - loss: 18.4567 - mse: 529.2546\n",
            "Epoch 474/500\n",
            "2/2 [==============================] - 0s 5ms/step - loss: 41.5628 - mse: 2717.0259\n",
            "Epoch 475/500\n",
            "2/2 [==============================] - 0s 4ms/step - loss: 17.5718 - mse: 440.8023\n",
            "Epoch 476/500\n",
            "2/2 [==============================] - 0s 4ms/step - loss: 13.2544 - mse: 243.4643\n",
            "Epoch 477/500\n",
            "2/2 [==============================] - 0s 4ms/step - loss: 29.3734 - mse: 1206.4413\n",
            "Epoch 478/500\n",
            "2/2 [==============================] - 0s 5ms/step - loss: 5.6482 - mse: 74.7709\n",
            "Epoch 479/500\n",
            "2/2 [==============================] - 0s 4ms/step - loss: 7.8072 - mse: 183.1379\n",
            "Epoch 480/500\n",
            "2/2 [==============================] - 0s 4ms/step - loss: 18.4698 - mse: 530.9239\n",
            "Epoch 481/500\n",
            "2/2 [==============================] - 0s 4ms/step - loss: 16.3174 - mse: 405.9012\n",
            "Epoch 482/500\n",
            "2/2 [==============================] - 0s 4ms/step - loss: 15.1087 - mse: 353.1798\n",
            "Epoch 483/500\n",
            "2/2 [==============================] - 0s 4ms/step - loss: 20.6300 - mse: 639.3577\n",
            "Epoch 484/500\n",
            "2/2 [==============================] - 0s 4ms/step - loss: 34.8879 - mse: 1855.5238\n",
            "Epoch 485/500\n",
            "2/2 [==============================] - 0s 4ms/step - loss: 13.6770 - mse: 303.0330\n",
            "Epoch 486/500\n",
            "2/2 [==============================] - 0s 4ms/step - loss: 7.3646 - mse: 109.6690\n",
            "Epoch 487/500\n",
            "2/2 [==============================] - 0s 4ms/step - loss: 6.4212 - mse: 68.4843\n",
            "Epoch 488/500\n",
            "2/2 [==============================] - 0s 10ms/step - loss: 31.2173 - mse: 1437.8859\n",
            "Epoch 489/500\n",
            "2/2 [==============================] - 0s 4ms/step - loss: 12.2965 - mse: 237.3114\n",
            "Epoch 490/500\n",
            "2/2 [==============================] - 0s 4ms/step - loss: 12.9182 - mse: 249.3195\n",
            "Epoch 491/500\n",
            "2/2 [==============================] - 0s 4ms/step - loss: 23.9857 - mse: 860.0618\n",
            "Epoch 492/500\n",
            "2/2 [==============================] - 0s 5ms/step - loss: 19.6227 - mse: 542.8209\n",
            "Epoch 493/500\n",
            "2/2 [==============================] - 0s 11ms/step - loss: 4.7966 - mse: 50.6428\n",
            "Epoch 494/500\n",
            "2/2 [==============================] - 0s 4ms/step - loss: 12.0276 - mse: 225.7409\n",
            "Epoch 495/500\n",
            "2/2 [==============================] - 0s 5ms/step - loss: 13.6991 - mse: 252.4147\n",
            "Epoch 496/500\n",
            "2/2 [==============================] - 0s 5ms/step - loss: 12.8986 - mse: 242.5773\n",
            "Epoch 497/500\n",
            "2/2 [==============================] - 0s 5ms/step - loss: 18.0246 - mse: 534.5608\n",
            "Epoch 498/500\n",
            "2/2 [==============================] - 0s 4ms/step - loss: 22.6500 - mse: 748.7136\n",
            "Epoch 499/500\n",
            "2/2 [==============================] - 0s 5ms/step - loss: 8.5478 - mse: 115.9364\n",
            "Epoch 500/500\n",
            "2/2 [==============================] - 0s 4ms/step - loss: 14.4578 - mse: 279.1795\n",
            "1/1 [==============================] - 0s 73ms/step\n"
          ]
        },
        {
          "output_type": "execute_result",
          "data": {
            "text/plain": [
              "(<tf.Tensor: shape=(), dtype=float32, numpy=68.149315>,\n",
              " <tf.Tensor: shape=(), dtype=float32, numpy=4729.35>)"
            ]
          },
          "metadata": {},
          "execution_count": 30
        },
        {
          "output_type": "display_data",
          "data": {
            "text/plain": [
              "<Figure size 720x504 with 1 Axes>"
            ],
            "image/png": "[encoded data removed]"
          },
          "metadata": {
            "needs_background": "light"
          }
        }
      ]
    },
    {
      "cell_type": "code",
      "source": [
        "#COMPARING THE RESULTS OF OUR EXPERIMENTS\n",
        "\n",
        "import pandas as pd\n",
        "model_results= [[\"model_1\", mae_1.numpy(), mse_1.numpy()],\n",
        "                [\"model_2\", mae_2.numpy(), mse_2.numpy()],\n",
        "                [\"model_3\", mae_3.numpy(), mse_3.numpy()]]\n",
        "\n",
        "all_results = pd.DataFrame(model_results, columns=[\"model\", \"mae\", \"mse\"])\n",
        "all_results "
      ],
      "metadata": {
        "colab": {
          "base_uri": "https://localhost:8080/",
          "height": 143
        },
        "id": "E_BxiND4YI-j",
        "outputId": "413dec7a-fa21-4e6e-c4a0-fbc0a3aec4fa"
      },
      "execution_count": null,
      "outputs": [
        {
          "output_type": "execute_result",
          "data": {
            "text/plain": [
              "     model        mae          mse\n",
              "0  model_1  18.745327   353.573364\n",
              "1  model_2   3.196940    13.070127\n",
              "2  model_3  68.149315  4729.350098"
            ],
            "text/html": [
              "\n",
              "  <div id=\"df-1ba0d6e9-687e-4750-8e9a-ca4270b65492\">\n",
              "    <div class=\"colab-df-container\">\n",
              "      <div>\n",
              "<style scoped>\n",
              "    .dataframe tbody tr th:only-of-type {\n",
              "        vertical-align: middle;\n",
              "    }\n",
              "\n",
              "    .dataframe tbody tr th {\n",
              "        vertical-align: top;\n",
              "    }\n",
              "\n",
              "    .dataframe thead th {\n",
              "        text-align: right;\n",
              "    }\n",
              "</style>\n",
              "<table border=\"1\" class=\"dataframe\">\n",
              "  <thead>\n",
              "    <tr style=\"text-align: right;\">\n",
              "      <th></th>\n",
              "      <th>model</th>\n",
              "      <th>mae</th>\n",
              "      <th>mse</th>\n",
              "    </tr>\n",
              "  </thead>\n",
              "  <tbody>\n",
              "    <tr>\n",
              "      <th>0</th>\n",
              "      <td>model_1</td>\n",
              "      <td>18.745327</td>\n",
              "      <td>353.573364</td>\n",
              "    </tr>\n",
              "    <tr>\n",
              "      <th>1</th>\n",
              "      <td>model_2</td>\n",
              "      <td>3.196940</td>\n",
              "      <td>13.070127</td>\n",
              "    </tr>\n",
              "    <tr>\n",
              "      <th>2</th>\n",
              "      <td>model_3</td>\n",
              "      <td>68.149315</td>\n",
              "      <td>4729.350098</td>\n",
              "    </tr>\n",
              "  </tbody>\n",
              "</table>\n",
              "</div>\n",
              "      <button class=\"colab-df-convert\" onclick=\"convertToInteractive('df-1ba0d6e9-687e-4750-8e9a-ca4270b65492')\"\n",
              "              title=\"Convert this dataframe to an interactive table.\"\n",
              "              style=\"display:none;\">\n",
              "        \n",
              "  <svg xmlns=\"http://www.w3.org/2000/svg\" height=\"24px\"viewBox=\"0 0 24 24\"\n",
              "       width=\"24px\">\n",
              "    <path d=\"M0 0h24v24H0V0z\" fill=\"none\"/>\n",
              "    <path d=\"M18.56 5.44l.94 2.06.94-2.06 2.06-.94-2.06-.94-.94-2.06-.94 2.06-2.06.94zm-11 1L8.5 8.5l.94-2.06 2.06-.94-2.06-.94L8.5 2.5l-.94 2.06-2.06.94zm10 10l.94 2.06.94-2.06 2.06-.94-2.06-.94-.94-2.06-.94 2.06-2.06.94z\"/><path d=\"M17.41 7.96l-1.37-1.37c-.4-.4-.92-.59-1.43-.59-.52 0-1.04.2-1.43.59L10.3 9.45l-7.72 7.72c-.78.78-.78 2.05 0 2.83L4 21.41c.39.39.9.59 1.41.59.51 0 1.02-.2 1.41-.59l7.78-7.78 2.81-2.81c.8-.78.8-2.07 0-2.86zM5.41 20L4 18.59l7.72-7.72 1.47 1.35L5.41 20z\"/>\n",
              "  </svg>\n",
              "      </button>\n",
              "      \n",
              "  <style>\n",
              "    .colab-df-container {\n",
              "      display:flex;\n",
              "      flex-wrap:wrap;\n",
              "      gap: 12px;\n",
              "    }\n",
              "\n",
              "    .colab-df-convert {\n",
              "      background-color: #E8F0FE;\n",
              "      border: none;\n",
              "      border-radius: 50%;\n",
              "      cursor: pointer;\n",
              "      display: none;\n",
              "      fill: #1967D2;\n",
              "      height: 32px;\n",
              "      padding: 0 0 0 0;\n",
              "      width: 32px;\n",
              "    }\n",
              "\n",
              "    .colab-df-convert:hover {\n",
              "      background-color: #E2EBFA;\n",
              "      box-shadow: 0px 1px 2px rgba(60, 64, 67, 0.3), 0px 1px 3px 1px rgba(60, 64, 67, 0.15);\n",
              "      fill: #174EA6;\n",
              "    }\n",
              "\n",
              "    [theme=dark] .colab-df-convert {\n",
              "      background-color: #3B4455;\n",
              "      fill: #D2E3FC;\n",
              "    }\n",
              "\n",
              "    [theme=dark] .colab-df-convert:hover {\n",
              "      background-color: #434B5C;\n",
              "      box-shadow: 0px 1px 3px 1px rgba(0, 0, 0, 0.15);\n",
              "      filter: drop-shadow(0px 1px 2px rgba(0, 0, 0, 0.3));\n",
              "      fill: #FFFFFF;\n",
              "    }\n",
              "  </style>\n",
              "\n",
              "      <script>\n",
              "        const buttonEl =\n",
              "          document.querySelector('#df-1ba0d6e9-687e-4750-8e9a-ca4270b65492 button.colab-df-convert');\n",
              "        buttonEl.style.display =\n",
              "          google.colab.kernel.accessAllowed ? 'block' : 'none';\n",
              "\n",
              "        async function convertToInteractive(key) {\n",
              "          const element = document.querySelector('#df-1ba0d6e9-687e-4750-8e9a-ca4270b65492');\n",
              "          const dataTable =\n",
              "            await google.colab.kernel.invokeFunction('convertToInteractive',\n",
              "                                                     [key], {});\n",
              "          if (!dataTable) return;\n",
              "\n",
              "          const docLinkHtml = 'Like what you see? Visit the ' +\n",
              "            '<a target=\"_blank\" href=https://colab.research.google.com/notebooks/data_table.ipynb>data table notebook</a>'\n",
              "            + ' to learn more about interactive tables.';\n",
              "          element.innerHTML = '';\n",
              "          dataTable['output_type'] = 'display_data';\n",
              "          await google.colab.output.renderOutput(dataTable, element);\n",
              "          const docLink = document.createElement('div');\n",
              "          docLink.innerHTML = docLinkHtml;\n",
              "          element.appendChild(docLink);\n",
              "        }\n",
              "      </script>\n",
              "    </div>\n",
              "  </div>\n",
              "  "
            ]
          },
          "metadata": {},
          "execution_count": 31
        }
      ]
    },
    {
      "cell_type": "markdown",
      "source": [
        "As you build more models, you'll want to look into using:\n",
        "\n",
        "- Tensorboard -- a component of the tensorflow library to help track modelling experiments.\n",
        "\n",
        "-Weights n Biases -- a tool fo tracking all of kinds of machine learning experiments (plugs straight into tensorboard). \n",
        "\n",
        " "
      ],
      "metadata": {
        "id": "A8pRRRP1dNt7"
      }
    },
    {
      "cell_type": "code",
      "source": [
        "#A LARGER EXAMPLE\n",
        "\n",
        "#importing required libraries....\n",
        "import tensorflow as tf\n",
        "import pandas as pd\n",
        "import matplotlib.pyplot as plt\n",
        "\n",
        "#read in the insurance dataset \n",
        "insurance = pd.read_csv(\"https://raw.githubusercontent.com/stedy/Machine-Learning-with-R-datasets/master/insurance.csv\")\n",
        "insurance "
      ],
      "metadata": {
        "id": "9UHmVjGKHsgb"
      },
      "execution_count": null,
      "outputs": []
    },
    {
      "cell_type": "code",
      "source": [
        "insurance[\"sex\"], insurance[\"smoker\"]"
      ],
      "metadata": {
        "id": "85ojN90XJb-y"
      },
      "execution_count": null,
      "outputs": []
    },
    {
      "cell_type": "code",
      "source": [
        "#one hot encoding our dataframe so it's all numbers\n",
        "insurance_one_hot = pd.get_dummies(insurance)\n",
        "insurance_one_hot"
      ],
      "metadata": {
        "id": "qg9WnPgzKR9j"
      },
      "execution_count": null,
      "outputs": []
    },
    {
      "cell_type": "code",
      "source": [
        "#create X and y (features and labels)\n",
        "X = insurance_one_hot.drop(\"charges\", axis=1)\n",
        "y = insurance_one_hot[\"charges\"]\n",
        "\n",
        "X.head()\n",
        "y.head()\n",
        "#create training and test sets\n",
        "\n",
        "from sklearn.model_selection import train_test_split\n",
        "X_train , X_test , y_train , y_test = train_test_split(X, y, test_size=0.2, random_state=42)\n",
        "len(X), len(X_train), len(X_test)      #0.2 means 20% of the whole dataset\n",
        "\n",
        "\n",
        "#build a neural network (sort of like model_2 above)\n",
        "\n",
        "tf.random.set_seed(42)\n",
        "\n",
        "#create a model\n",
        "insurance_model = tf.keras.Sequential([\n",
        "    tf.keras.layers.Dense(10),\n",
        "    tf.keras.layers.Dense(1)\n",
        "])\n",
        "\n",
        "#compile the model\n",
        "insurance_model.compile(loss=tf.keras.losses.mae,\n",
        "                        optimizer=tf.keras.optimizers.SGD(),\n",
        "                        metrics=[\"mae\"])\n",
        "\n",
        "#fit the mdoel\n",
        "insurance_model.fit(X_train, y_train, epochs=500)"
      ],
      "metadata": {
        "id": "RTsOKiRcLDHn"
      },
      "execution_count": null,
      "outputs": []
    },
    {
      "cell_type": "code",
      "source": [
        "#check the results of insurance model on the teest data\n",
        "insurance_model.evaluate(X_test, y_test)\n"
      ],
      "metadata": {
        "id": "BUAOjHlsOUXB"
      },
      "execution_count": null,
      "outputs": []
    },
    {
      "cell_type": "code",
      "source": [
        "tf.random.set_seed(42)\n",
        "\n",
        "#create a model\n",
        "insurance_model_2 = tf.keras.Sequential([\n",
        " #   tf.keras.layers.Dense(100),\n",
        "    tf.keras.layers.Dense(10),\n",
        "    tf.keras.layers.Dense(1)\n",
        "])\n",
        "\n",
        "#compile the model\n",
        "insurance_model_2.compile(loss=tf.keras.losses.mae,\n",
        "                        optimizer=tf.keras.optimizers.Adam(),\n",
        "                        metrics=[\"mae\"])\n",
        "\n",
        "#fit the mdoel\n",
        "insurance_model_2.fit(X_train, y_train, epochs=100, verbose=1)\n",
        "\n"
      ],
      "metadata": {
        "id": "ugUpjOrdOhoY"
      },
      "execution_count": null,
      "outputs": []
    },
    {
      "cell_type": "code",
      "source": [
        "insurance_model_2.evaluate(X_test, y_test)\n",
        "insurance_model.evaluate(X_test, y_test)"
      ],
      "metadata": {
        "colab": {
          "base_uri": "https://localhost:8080/"
        },
        "id": "aUb8UlGhQseQ",
        "outputId": "2b51420f-1dee-46fd-f7ba-803440de94b8"
      },
      "execution_count": null,
      "outputs": [
        {
          "output_type": "stream",
          "name": "stdout",
          "text": [
            "9/9 [==============================] - 0s 2ms/step - loss: 7539.9517 - mae: 7539.9517\n",
            "9/9 [==============================] - 0s 2ms/step - loss: 4253.8984 - mae: 4253.8984\n"
          ]
        },
        {
          "output_type": "execute_result",
          "data": {
            "text/plain": [
              "[4253.8984375, 4253.8984375]"
            ]
          },
          "metadata": {},
          "execution_count": 58
        }
      ]
    },
    {
      "cell_type": "code",
      "source": [
        "insurance_model_3 = tf.keras.Sequential([\n",
        "    tf.keras.layers.Dense(100),\n",
        "    tf.keras.layers.Dense(10),\n",
        "    tf.keras.layers.Dense(1)\n",
        "])\n",
        "\n",
        "#compile the model\n",
        "insurance_model_3.compile(loss=tf.keras.losses.mae,\n",
        "                        optimizer=tf.keras.optimizers.Adam(),\n",
        "                        metrics=[\"mae\"])\n",
        "\n",
        "#fit the mdoel\n",
        "history = insurance_model_3.fit(X_train, y_train, epochs=200, verbose=1)"
      ],
      "metadata": {
        "id": "3nvZro3ERikq"
      },
      "execution_count": null,
      "outputs": []
    },
    {
      "cell_type": "code",
      "source": [
        "#plot history (also known as loss curve or a training curve)\n",
        "pd.DataFrame(history.history).plot()\n",
        "plt.ylabel(\"loss\")\n",
        "plt.xlabel(\"epochs\")"
      ],
      "metadata": {
        "colab": {
          "base_uri": "https://localhost:8080/",
          "height": 296
        },
        "id": "a7y-Dx28R4a0",
        "outputId": "612bb231-d4d1-4550-cbdf-c4d7fbad0eeb"
      },
      "execution_count": null,
      "outputs": [
        {
          "output_type": "execute_result",
          "data": {
            "text/plain": [
              "Text(0.5, 0, 'epochs')"
            ]
          },
          "metadata": {},
          "execution_count": 64
        },
        {
          "output_type": "display_data",
          "data": {
            "text/plain": [
              "<Figure size 432x288 with 1 Axes>"
            ],
            "image/png": "[encoded data removed]"
          },
          "metadata": {
            "needs_background": "light"
          }
        }
      ]
    },
    {
      "cell_type": "code",
      "source": [
        "X[\"age\"].plot()\n",
        "\n",
        "X[\"age\"].plot(kind=\"hist\")"
      ],
      "metadata": {
        "id": "G0o6h9zHTdEG"
      },
      "execution_count": null,
      "outputs": []
    },
    {
      "cell_type": "markdown",
      "source": [
        "#Preprocessing data ( normalization and standardization)\n",
        "\n",
        "In terms of scaling values, neural networks tend to prefer normalization.\n",
        "\n",
        "If your're not sure on which to use, you could try both and see which performs better.\n"
      ],
      "metadata": {
        "id": "MDNAk5bUXUV9"
      }
    },
    {
      "cell_type": "code",
      "source": [
        "X"
      ],
      "metadata": {
        "id": "7xws2D3QXojg"
      },
      "execution_count": null,
      "outputs": []
    },
    {
      "cell_type": "code",
      "source": [
        "import pandas as pd\n",
        "import matplotlib.pyplot as plt\n",
        "import tensorflow as tf\n",
        "\n",
        "insurance = pd.read_csv(\"https://raw.githubusercontent.com/stedy/Machine-Learning-with-R-datasets/master/insurance.csv\")\n",
        "insurance"
      ],
      "metadata": {
        "id": "Wo4fQKpiY3HZ"
      },
      "execution_count": null,
      "outputs": []
    },
    {
      "cell_type": "code",
      "source": [
        "from sklearn.compose import make_column_transformer\n",
        "from sklearn.preprocessing import MinMaxScaler, OneHotEncoder\n",
        "from sklearn.model_selection import train_test_split\n",
        "#create a column transformer\n",
        "ct  = make_column_transformer(\n",
        "    (MinMaxScaler(), [\"age\", \"bmi\", \"children\"]), #turn all values in this columns btw 0 and 1\n",
        "    (OneHotEncoder(handle_unknown=\"ignore\"), [\"sex\", \"smoker\", \"region\"])\n",
        "\n",
        ")\n",
        "\n",
        "#create X and y\n",
        "X = insurance.drop(\"charges\", axis=1)\n",
        "y = insurance[\"charges\"]\n",
        "\n",
        "#Build our train and test sets\n",
        "X_train, X_test, y_train, y_test = train_test_split(X, y, test_size=0.2, random_state=42)\n",
        "\n",
        "#fit the column transformer to our training data\n",
        "ct.fit(X_train)\n",
        "\n",
        "#transform training and test data with normalization(mixmaxscaler) and onehotencoder\n",
        "\n",
        "X_train_normal = ct.transform(X_train)\n",
        "X_test_normal = ct.transform(X_test)\n",
        "\n",
        "X_train.loc[0]\n",
        "X_train_normal[0]\n",
        "X_train_normal\n",
        "X_train.shape, X_train_normal.shape"
      ],
      "metadata": {
        "colab": {
          "base_uri": "https://localhost:8080/"
        },
        "id": "z2H_Jb7rZjLa",
        "outputId": "1bda172d-64ef-44ba-ce06-7e95ef643de2"
      },
      "execution_count": null,
      "outputs": [
        {
          "output_type": "execute_result",
          "data": {
            "text/plain": [
              "((1070, 6), (1070, 11))"
            ]
          },
          "metadata": {},
          "execution_count": 75
        }
      ]
    },
    {
      "cell_type": "markdown",
      "source": [
        "Beautiful! our data has been normalized and one hot encoded. now lets build a neural network o it and see how it goes..."
      ],
      "metadata": {
        "id": "RV-V4s__coMz"
      }
    },
    {
      "cell_type": "code",
      "source": [
        "#Build a neural network model to fit on our normalized data\n",
        "\n",
        "tf.random.set_seed(42)\n",
        "\n",
        "insurance_model_4 = tf.keras.Sequential([\n",
        "    tf.keras.layers.Dense(100),\n",
        "    tf.keras.layers.Dense(10),\n",
        "    tf.keras.layers.Dense(1)\n",
        "])\n",
        "\n",
        "insurance_model_4.compile(loss=tf.keras.losses.mae,\n",
        "                          optimizer=tf.keras.optimizers.Adam(),\n",
        "                          metrics=[\"mae\"])\n",
        "\n",
        "insurance_model_4.fit(X_train_normal, y_train, epochs=100)\n"
      ],
      "metadata": {
        "colab": {
          "base_uri": "https://localhost:8080/"
        },
        "id": "ZVDaXKSicyIY",
        "outputId": "5f204ee7-483b-424a-9e1e-4f6e8169886e"
      },
      "execution_count": null,
      "outputs": [
        {
          "output_type": "stream",
          "name": "stdout",
          "text": [
            "Epoch 1/100\n",
            "34/34 [==============================] - 0s 2ms/step - loss: 13342.6494 - mae: 13342.6494\n",
            "Epoch 2/100\n",
            "34/34 [==============================] - 0s 2ms/step - loss: 13333.4785 - mae: 13333.4785\n",
            "Epoch 3/100\n",
            "34/34 [==============================] - 0s 2ms/step - loss: 13312.0234 - mae: 13312.0234\n",
            "Epoch 4/100\n",
            "34/34 [==============================] - 0s 2ms/step - loss: 13267.7930 - mae: 13267.7930\n",
            "Epoch 5/100\n",
            "34/34 [==============================] - 0s 2ms/step - loss: 13189.5830 - mae: 13189.5830\n",
            "Epoch 6/100\n",
            "34/34 [==============================] - 0s 2ms/step - loss: 13066.4502 - mae: 13066.4502\n",
            "Epoch 7/100\n",
            "34/34 [==============================] - 0s 2ms/step - loss: 12888.1953 - mae: 12888.1953\n",
            "Epoch 8/100\n",
            "34/34 [==============================] - 0s 2ms/step - loss: 12644.6523 - mae: 12644.6523\n",
            "Epoch 9/100\n",
            "34/34 [==============================] - 0s 3ms/step - loss: 12325.5469 - mae: 12325.5469\n",
            "Epoch 10/100\n",
            "34/34 [==============================] - 0s 3ms/step - loss: 11925.9658 - mae: 11925.9658\n",
            "Epoch 11/100\n",
            "34/34 [==============================] - 0s 2ms/step - loss: 11454.3350 - mae: 11454.3350\n",
            "Epoch 12/100\n",
            "34/34 [==============================] - 0s 2ms/step - loss: 10949.8076 - mae: 10949.8076\n",
            "Epoch 13/100\n",
            "34/34 [==============================] - 0s 2ms/step - loss: 10448.9404 - mae: 10448.9404\n",
            "Epoch 14/100\n",
            "34/34 [==============================] - 0s 2ms/step - loss: 9951.6250 - mae: 9951.6250\n",
            "Epoch 15/100\n",
            "34/34 [==============================] - 0s 2ms/step - loss: 9482.7422 - mae: 9482.7422\n",
            "Epoch 16/100\n",
            "34/34 [==============================] - 0s 2ms/step - loss: 9066.7461 - mae: 9066.7461\n",
            "Epoch 17/100\n",
            "34/34 [==============================] - 0s 2ms/step - loss: 8721.9854 - mae: 8721.9854\n",
            "Epoch 18/100\n",
            "34/34 [==============================] - 0s 2ms/step - loss: 8441.2002 - mae: 8441.2002\n",
            "Epoch 19/100\n",
            "34/34 [==============================] - 0s 2ms/step - loss: 8227.5117 - mae: 8227.5117\n",
            "Epoch 20/100\n",
            "34/34 [==============================] - 0s 2ms/step - loss: 8081.9775 - mae: 8081.9775\n",
            "Epoch 21/100\n",
            "34/34 [==============================] - 0s 3ms/step - loss: 7973.8945 - mae: 7973.8945\n",
            "Epoch 22/100\n",
            "34/34 [==============================] - 0s 2ms/step - loss: 7899.1597 - mae: 7899.1597\n",
            "Epoch 23/100\n",
            "34/34 [==============================] - 0s 2ms/step - loss: 7840.3906 - mae: 7840.3906\n",
            "Epoch 24/100\n",
            "34/34 [==============================] - 0s 3ms/step - loss: 7787.9619 - mae: 7787.9619\n",
            "Epoch 25/100\n",
            "34/34 [==============================] - 0s 2ms/step - loss: 7749.2622 - mae: 7749.2622\n",
            "Epoch 26/100\n",
            "34/34 [==============================] - 0s 2ms/step - loss: 7697.9600 - mae: 7697.9600\n",
            "Epoch 27/100\n",
            "34/34 [==============================] - 0s 2ms/step - loss: 7656.0269 - mae: 7656.0269\n",
            "Epoch 28/100\n",
            "34/34 [==============================] - 0s 2ms/step - loss: 7613.4780 - mae: 7613.4780\n",
            "Epoch 29/100\n",
            "34/34 [==============================] - 0s 2ms/step - loss: 7570.9482 - mae: 7570.9482\n",
            "Epoch 30/100\n",
            "34/34 [==============================] - 0s 2ms/step - loss: 7527.4175 - mae: 7527.4175\n",
            "Epoch 31/100\n",
            "34/34 [==============================] - 0s 2ms/step - loss: 7483.5947 - mae: 7483.5947\n",
            "Epoch 32/100\n",
            "34/34 [==============================] - 0s 2ms/step - loss: 7439.4424 - mae: 7439.4424\n",
            "Epoch 33/100\n",
            "34/34 [==============================] - 0s 2ms/step - loss: 7395.0547 - mae: 7395.0547\n",
            "Epoch 34/100\n",
            "34/34 [==============================] - 0s 3ms/step - loss: 7346.8120 - mae: 7346.8120\n",
            "Epoch 35/100\n",
            "34/34 [==============================] - 0s 2ms/step - loss: 7300.0488 - mae: 7300.0488\n",
            "Epoch 36/100\n",
            "34/34 [==============================] - 0s 2ms/step - loss: 7249.8452 - mae: 7249.8452\n",
            "Epoch 37/100\n",
            "34/34 [==============================] - 0s 2ms/step - loss: 7199.5303 - mae: 7199.5303\n",
            "Epoch 38/100\n",
            "34/34 [==============================] - 0s 2ms/step - loss: 7148.4805 - mae: 7148.4805\n",
            "Epoch 39/100\n",
            "34/34 [==============================] - 0s 2ms/step - loss: 7093.6650 - mae: 7093.6650\n",
            "Epoch 40/100\n",
            "34/34 [==============================] - 0s 2ms/step - loss: 7038.1797 - mae: 7038.1797\n",
            "Epoch 41/100\n",
            "34/34 [==============================] - 0s 2ms/step - loss: 6981.7393 - mae: 6981.7393\n",
            "Epoch 42/100\n",
            "34/34 [==============================] - 0s 2ms/step - loss: 6922.7847 - mae: 6922.7847\n",
            "Epoch 43/100\n",
            "34/34 [==============================] - 0s 3ms/step - loss: 6860.1724 - mae: 6860.1724\n",
            "Epoch 44/100\n",
            "34/34 [==============================] - 0s 2ms/step - loss: 6793.7969 - mae: 6793.7969\n",
            "Epoch 45/100\n",
            "34/34 [==============================] - 0s 2ms/step - loss: 6726.6201 - mae: 6726.6201\n",
            "Epoch 46/100\n",
            "34/34 [==============================] - 0s 2ms/step - loss: 6657.4683 - mae: 6657.4683\n",
            "Epoch 47/100\n",
            "34/34 [==============================] - 0s 2ms/step - loss: 6586.3086 - mae: 6586.3086\n",
            "Epoch 48/100\n",
            "34/34 [==============================] - 0s 2ms/step - loss: 6507.5063 - mae: 6507.5063\n",
            "Epoch 49/100\n",
            "34/34 [==============================] - 0s 2ms/step - loss: 6428.6021 - mae: 6428.6021\n",
            "Epoch 50/100\n",
            "34/34 [==============================] - 0s 2ms/step - loss: 6342.7100 - mae: 6342.7100\n",
            "Epoch 51/100\n",
            "34/34 [==============================] - 0s 2ms/step - loss: 6258.0718 - mae: 6258.0718\n",
            "Epoch 52/100\n",
            "34/34 [==============================] - 0s 2ms/step - loss: 6164.7046 - mae: 6164.7046\n",
            "Epoch 53/100\n",
            "34/34 [==============================] - 0s 2ms/step - loss: 6068.6748 - mae: 6068.6748\n",
            "Epoch 54/100\n",
            "34/34 [==============================] - 0s 2ms/step - loss: 5970.0981 - mae: 5970.0981\n",
            "Epoch 55/100\n",
            "34/34 [==============================] - 0s 2ms/step - loss: 5862.5625 - mae: 5862.5625\n",
            "Epoch 56/100\n",
            "34/34 [==============================] - 0s 2ms/step - loss: 5753.9526 - mae: 5753.9526\n",
            "Epoch 57/100\n",
            "34/34 [==============================] - 0s 2ms/step - loss: 5638.0942 - mae: 5638.0942\n",
            "Epoch 58/100\n",
            "34/34 [==============================] - 0s 2ms/step - loss: 5519.8687 - mae: 5519.8687\n",
            "Epoch 59/100\n",
            "34/34 [==============================] - 0s 2ms/step - loss: 5401.3198 - mae: 5401.3198\n",
            "Epoch 60/100\n",
            "34/34 [==============================] - 0s 3ms/step - loss: 5277.3506 - mae: 5277.3506\n",
            "Epoch 61/100\n",
            "34/34 [==============================] - 0s 2ms/step - loss: 5149.7637 - mae: 5149.7637\n",
            "Epoch 62/100\n",
            "34/34 [==============================] - 0s 2ms/step - loss: 5019.3535 - mae: 5019.3535\n",
            "Epoch 63/100\n",
            "34/34 [==============================] - 0s 2ms/step - loss: 4889.6865 - mae: 4889.6865\n",
            "Epoch 64/100\n",
            "34/34 [==============================] - 0s 2ms/step - loss: 4756.8560 - mae: 4756.8560\n",
            "Epoch 65/100\n",
            "34/34 [==============================] - 0s 2ms/step - loss: 4629.4370 - mae: 4629.4370\n",
            "Epoch 66/100\n",
            "34/34 [==============================] - 0s 2ms/step - loss: 4503.5991 - mae: 4503.5991\n",
            "Epoch 67/100\n",
            "34/34 [==============================] - 0s 2ms/step - loss: 4392.9922 - mae: 4392.9922\n",
            "Epoch 68/100\n",
            "34/34 [==============================] - 0s 2ms/step - loss: 4284.3862 - mae: 4284.3862\n",
            "Epoch 69/100\n",
            "34/34 [==============================] - 0s 2ms/step - loss: 4182.6182 - mae: 4182.6182\n",
            "Epoch 70/100\n",
            "34/34 [==============================] - 0s 2ms/step - loss: 4089.5725 - mae: 4089.5725\n",
            "Epoch 71/100\n",
            "34/34 [==============================] - 0s 2ms/step - loss: 4003.3896 - mae: 4003.3896\n",
            "Epoch 72/100\n",
            "34/34 [==============================] - 0s 3ms/step - loss: 3929.0093 - mae: 3929.0093\n",
            "Epoch 73/100\n",
            "34/34 [==============================] - 0s 2ms/step - loss: 3866.3110 - mae: 3866.3110\n",
            "Epoch 74/100\n",
            "34/34 [==============================] - 0s 2ms/step - loss: 3813.7144 - mae: 3813.7144\n",
            "Epoch 75/100\n",
            "34/34 [==============================] - 0s 2ms/step - loss: 3773.0317 - mae: 3773.0317\n",
            "Epoch 76/100\n",
            "34/34 [==============================] - 0s 2ms/step - loss: 3744.1995 - mae: 3744.1995\n",
            "Epoch 77/100\n",
            "34/34 [==============================] - 0s 2ms/step - loss: 3719.6870 - mae: 3719.6870\n",
            "Epoch 78/100\n",
            "34/34 [==============================] - 0s 2ms/step - loss: 3702.9109 - mae: 3702.9109\n",
            "Epoch 79/100\n",
            "34/34 [==============================] - 0s 2ms/step - loss: 3691.8787 - mae: 3691.8787\n",
            "Epoch 80/100\n",
            "34/34 [==============================] - 0s 2ms/step - loss: 3682.8350 - mae: 3682.8350\n",
            "Epoch 81/100\n",
            "34/34 [==============================] - 0s 2ms/step - loss: 3676.9763 - mae: 3676.9763\n",
            "Epoch 82/100\n",
            "34/34 [==============================] - 0s 3ms/step - loss: 3673.9492 - mae: 3673.9492\n",
            "Epoch 83/100\n",
            "34/34 [==============================] - 0s 2ms/step - loss: 3667.8452 - mae: 3667.8452\n",
            "Epoch 84/100\n",
            "34/34 [==============================] - 0s 2ms/step - loss: 3664.5757 - mae: 3664.5757\n",
            "Epoch 85/100\n",
            "34/34 [==============================] - 0s 2ms/step - loss: 3661.8562 - mae: 3661.8562\n",
            "Epoch 86/100\n",
            "34/34 [==============================] - 0s 3ms/step - loss: 3660.3044 - mae: 3660.3044\n",
            "Epoch 87/100\n",
            "34/34 [==============================] - 0s 2ms/step - loss: 3657.5137 - mae: 3657.5137\n",
            "Epoch 88/100\n",
            "34/34 [==============================] - 0s 2ms/step - loss: 3655.2200 - mae: 3655.2200\n",
            "Epoch 89/100\n",
            "34/34 [==============================] - 0s 2ms/step - loss: 3653.8831 - mae: 3653.8831\n",
            "Epoch 90/100\n",
            "34/34 [==============================] - 0s 2ms/step - loss: 3652.0198 - mae: 3652.0198\n",
            "Epoch 91/100\n",
            "34/34 [==============================] - 0s 2ms/step - loss: 3648.9990 - mae: 3648.9990\n",
            "Epoch 92/100\n",
            "34/34 [==============================] - 0s 2ms/step - loss: 3648.4460 - mae: 3648.4460\n",
            "Epoch 93/100\n",
            "34/34 [==============================] - 0s 2ms/step - loss: 3646.2300 - mae: 3646.2300\n",
            "Epoch 94/100\n",
            "34/34 [==============================] - 0s 3ms/step - loss: 3644.4377 - mae: 3644.4377\n",
            "Epoch 95/100\n",
            "34/34 [==============================] - 0s 2ms/step - loss: 3645.8772 - mae: 3645.8772\n",
            "Epoch 96/100\n",
            "34/34 [==============================] - 0s 2ms/step - loss: 3642.2576 - mae: 3642.2576\n",
            "Epoch 97/100\n",
            "34/34 [==============================] - 0s 2ms/step - loss: 3640.1189 - mae: 3640.1189\n",
            "Epoch 98/100\n",
            "34/34 [==============================] - 0s 2ms/step - loss: 3638.0647 - mae: 3638.0647\n",
            "Epoch 99/100\n",
            "34/34 [==============================] - 0s 2ms/step - loss: 3637.2051 - mae: 3637.2051\n",
            "Epoch 100/100\n",
            "34/34 [==============================] - 0s 2ms/step - loss: 3636.1707 - mae: 3636.1707\n"
          ]
        },
        {
          "output_type": "execute_result",
          "data": {
            "text/plain": [
              "<keras.callbacks.History at 0x7f1f6b935160>"
            ]
          },
          "metadata": {},
          "execution_count": 76
        }
      ]
    },
    {
      "cell_type": "code",
      "source": [
        "#evaluate our insurance model trained on normalized data\n",
        "insurance_model_4.evaluate(X_test_normal, y_test)"
      ],
      "metadata": {
        "colab": {
          "base_uri": "https://localhost:8080/"
        },
        "id": "_GKqevY2d6ru",
        "outputId": "46aba43a-d571-4045-d107-5a7f10c8ac6d"
      },
      "execution_count": null,
      "outputs": [
        {
          "output_type": "stream",
          "name": "stdout",
          "text": [
            "9/9 [==============================] - 0s 2ms/step - loss: 3438.7844 - mae: 3438.7844\n"
          ]
        },
        {
          "output_type": "execute_result",
          "data": {
            "text/plain": [
              "[3438.784423828125, 3438.784423828125]"
            ]
          },
          "metadata": {},
          "execution_count": 79
        }
      ]
    },
    {
      "cell_type": "markdown",
      "source": [
        "![Feature Scaling.png](data:image/png;base64,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)"
      ],
      "metadata": {
        "id": "RwOIZz51fYrQ"
      }
    }
  ],
  "metadata": {
    "colab": {
      "provenance": [],
      "collapsed_sections": [
        "cuh4disQgs44"
      ],
      "authorship_tag": "ABX9TyNiFXtA/rKjVl7lpkNU6jzf",
      "include_colab_link": true
    },
    "kernelspec": {
      "display_name": "Python 3",
      "name": "python3"
    },
    "language_info": {
      "name": "python"
    }
  },
  "nbformat": 4,
  "nbformat_minor": 0
}