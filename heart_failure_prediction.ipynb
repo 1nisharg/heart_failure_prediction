{
  "nbformat": 4,
  "nbformat_minor": 0,
  "metadata": {
    "colab": {
      "provenance": [],
      "authorship_tag": "ABX9TyNpwtK6vH1d0craA7CLrSZA",
      "include_colab_link": true
    },
    "kernelspec": {
      "name": "python3",
      "display_name": "Python 3"
    },
    "language_info": {
      "name": "python"
    }
  },
  "cells": [
    {
      "cell_type": "markdown",
      "metadata": {
        "id": "view-in-github",
        "colab_type": "text"
      },
      "source": [
        "<a href=\"https://colab.research.google.com/github/1nisharg/1nisharg/blob/main/heart_failure_prediction.ipynb\" target=\"_parent\"><img src=\"https://colab.research.google.com/assets/colab-badge.svg\" alt=\"Open In Colab\"/></a>"
      ]
    },
    {
      "cell_type": "code",
      "execution_count": 6,
      "metadata": {
        "colab": {
          "base_uri": "https://localhost:8080/",
          "height": 270
        },
        "id": "B-9us5kuW6ZK",
        "outputId": "46b01e0f-8071-4b8a-ecfe-f252e5e0cf96"
      },
      "outputs": [
        {
          "output_type": "execute_result",
          "data": {
            "text/plain": [
              "    age  anaemia  creatinine_phosphokinase  diabetes  ejection_fraction  \\\n",
              "0  75.0        0                       582         0                 20   \n",
              "1  55.0        0                      7861         0                 38   \n",
              "2  65.0        0                       146         0                 20   \n",
              "3  50.0        1                       111         0                 20   \n",
              "4  65.0        1                       160         1                 20   \n",
              "\n",
              "   high_blood_pressure  platelets  serum_creatinine  serum_sodium  sex  \\\n",
              "0                    1  265000.00               1.9           130    1   \n",
              "1                    0  263358.03               1.1           136    1   \n",
              "2                    0  162000.00               1.3           129    1   \n",
              "3                    0  210000.00               1.9           137    1   \n",
              "4                    0  327000.00               2.7           116    0   \n",
              "\n",
              "   smoking  time  DEATH_EVENT  \n",
              "0        0     4            1  \n",
              "1        0     6            1  \n",
              "2        1     7            1  \n",
              "3        0     7            1  \n",
              "4        0     8            1  "
            ],
            "text/html": [
              "\n",
              "  <div id=\"df-9dc6b25b-d1ad-4cc3-af4b-7d2f2005e9dd\">\n",
              "    <div class=\"colab-df-container\">\n",
              "      <div>\n",
              "<style scoped>\n",
              "    .dataframe tbody tr th:only-of-type {\n",
              "        vertical-align: middle;\n",
              "    }\n",
              "\n",
              "    .dataframe tbody tr th {\n",
              "        vertical-align: top;\n",
              "    }\n",
              "\n",
              "    .dataframe thead th {\n",
              "        text-align: right;\n",
              "    }\n",
              "</style>\n",
              "<table border=\"1\" class=\"dataframe\">\n",
              "  <thead>\n",
              "    <tr style=\"text-align: right;\">\n",
              "      <th></th>\n",
              "      <th>age</th>\n",
              "      <th>anaemia</th>\n",
              "      <th>creatinine_phosphokinase</th>\n",
              "      <th>diabetes</th>\n",
              "      <th>ejection_fraction</th>\n",
              "      <th>high_blood_pressure</th>\n",
              "      <th>platelets</th>\n",
              "      <th>serum_creatinine</th>\n",
              "      <th>serum_sodium</th>\n",
              "      <th>sex</th>\n",
              "      <th>smoking</th>\n",
              "      <th>time</th>\n",
              "      <th>DEATH_EVENT</th>\n",
              "    </tr>\n",
              "  </thead>\n",
              "  <tbody>\n",
              "    <tr>\n",
              "      <th>0</th>\n",
              "      <td>75.0</td>\n",
              "      <td>0</td>\n",
              "      <td>582</td>\n",
              "      <td>0</td>\n",
              "      <td>20</td>\n",
              "      <td>1</td>\n",
              "      <td>265000.00</td>\n",
              "      <td>1.9</td>\n",
              "      <td>130</td>\n",
              "      <td>1</td>\n",
              "      <td>0</td>\n",
              "      <td>4</td>\n",
              "      <td>1</td>\n",
              "    </tr>\n",
              "    <tr>\n",
              "      <th>1</th>\n",
              "      <td>55.0</td>\n",
              "      <td>0</td>\n",
              "      <td>7861</td>\n",
              "      <td>0</td>\n",
              "      <td>38</td>\n",
              "      <td>0</td>\n",
              "      <td>263358.03</td>\n",
              "      <td>1.1</td>\n",
              "      <td>136</td>\n",
              "      <td>1</td>\n",
              "      <td>0</td>\n",
              "      <td>6</td>\n",
              "      <td>1</td>\n",
              "    </tr>\n",
              "    <tr>\n",
              "      <th>2</th>\n",
              "      <td>65.0</td>\n",
              "      <td>0</td>\n",
              "      <td>146</td>\n",
              "      <td>0</td>\n",
              "      <td>20</td>\n",
              "      <td>0</td>\n",
              "      <td>162000.00</td>\n",
              "      <td>1.3</td>\n",
              "      <td>129</td>\n",
              "      <td>1</td>\n",
              "      <td>1</td>\n",
              "      <td>7</td>\n",
              "      <td>1</td>\n",
              "    </tr>\n",
              "    <tr>\n",
              "      <th>3</th>\n",
              "      <td>50.0</td>\n",
              "      <td>1</td>\n",
              "      <td>111</td>\n",
              "      <td>0</td>\n",
              "      <td>20</td>\n",
              "      <td>0</td>\n",
              "      <td>210000.00</td>\n",
              "      <td>1.9</td>\n",
              "      <td>137</td>\n",
              "      <td>1</td>\n",
              "      <td>0</td>\n",
              "      <td>7</td>\n",
              "      <td>1</td>\n",
              "    </tr>\n",
              "    <tr>\n",
              "      <th>4</th>\n",
              "      <td>65.0</td>\n",
              "      <td>1</td>\n",
              "      <td>160</td>\n",
              "      <td>1</td>\n",
              "      <td>20</td>\n",
              "      <td>0</td>\n",
              "      <td>327000.00</td>\n",
              "      <td>2.7</td>\n",
              "      <td>116</td>\n",
              "      <td>0</td>\n",
              "      <td>0</td>\n",
              "      <td>8</td>\n",
              "      <td>1</td>\n",
              "    </tr>\n",
              "  </tbody>\n",
              "</table>\n",
              "</div>\n",
              "      <button class=\"colab-df-convert\" onclick=\"convertToInteractive('df-9dc6b25b-d1ad-4cc3-af4b-7d2f2005e9dd')\"\n",
              "              title=\"Convert this dataframe to an interactive table.\"\n",
              "              style=\"display:none;\">\n",
              "        \n",
              "  <svg xmlns=\"http://www.w3.org/2000/svg\" height=\"24px\"viewBox=\"0 0 24 24\"\n",
              "       width=\"24px\">\n",
              "    <path d=\"M0 0h24v24H0V0z\" fill=\"none\"/>\n",
              "    <path d=\"M18.56 5.44l.94 2.06.94-2.06 2.06-.94-2.06-.94-.94-2.06-.94 2.06-2.06.94zm-11 1L8.5 8.5l.94-2.06 2.06-.94-2.06-.94L8.5 2.5l-.94 2.06-2.06.94zm10 10l.94 2.06.94-2.06 2.06-.94-2.06-.94-.94-2.06-.94 2.06-2.06.94z\"/><path d=\"M17.41 7.96l-1.37-1.37c-.4-.4-.92-.59-1.43-.59-.52 0-1.04.2-1.43.59L10.3 9.45l-7.72 7.72c-.78.78-.78 2.05 0 2.83L4 21.41c.39.39.9.59 1.41.59.51 0 1.02-.2 1.41-.59l7.78-7.78 2.81-2.81c.8-.78.8-2.07 0-2.86zM5.41 20L4 18.59l7.72-7.72 1.47 1.35L5.41 20z\"/>\n",
              "  </svg>\n",
              "      </button>\n",
              "      \n",
              "  <style>\n",
              "    .colab-df-container {\n",
              "      display:flex;\n",
              "      flex-wrap:wrap;\n",
              "      gap: 12px;\n",
              "    }\n",
              "\n",
              "    .colab-df-convert {\n",
              "      background-color: #E8F0FE;\n",
              "      border: none;\n",
              "      border-radius: 50%;\n",
              "      cursor: pointer;\n",
              "      display: none;\n",
              "      fill: #1967D2;\n",
              "      height: 32px;\n",
              "      padding: 0 0 0 0;\n",
              "      width: 32px;\n",
              "    }\n",
              "\n",
              "    .colab-df-convert:hover {\n",
              "      background-color: #E2EBFA;\n",
              "      box-shadow: 0px 1px 2px rgba(60, 64, 67, 0.3), 0px 1px 3px 1px rgba(60, 64, 67, 0.15);\n",
              "      fill: #174EA6;\n",
              "    }\n",
              "\n",
              "    [theme=dark] .colab-df-convert {\n",
              "      background-color: #3B4455;\n",
              "      fill: #D2E3FC;\n",
              "    }\n",
              "\n",
              "    [theme=dark] .colab-df-convert:hover {\n",
              "      background-color: #434B5C;\n",
              "      box-shadow: 0px 1px 3px 1px rgba(0, 0, 0, 0.15);\n",
              "      filter: drop-shadow(0px 1px 2px rgba(0, 0, 0, 0.3));\n",
              "      fill: #FFFFFF;\n",
              "    }\n",
              "  </style>\n",
              "\n",
              "      <script>\n",
              "        const buttonEl =\n",
              "          document.querySelector('#df-9dc6b25b-d1ad-4cc3-af4b-7d2f2005e9dd button.colab-df-convert');\n",
              "        buttonEl.style.display =\n",
              "          google.colab.kernel.accessAllowed ? 'block' : 'none';\n",
              "\n",
              "        async function convertToInteractive(key) {\n",
              "          const element = document.querySelector('#df-9dc6b25b-d1ad-4cc3-af4b-7d2f2005e9dd');\n",
              "          const dataTable =\n",
              "            await google.colab.kernel.invokeFunction('convertToInteractive',\n",
              "                                                     [key], {});\n",
              "          if (!dataTable) return;\n",
              "\n",
              "          const docLinkHtml = 'Like what you see? Visit the ' +\n",
              "            '<a target=\"_blank\" href=https://colab.research.google.com/notebooks/data_table.ipynb>data table notebook</a>'\n",
              "            + ' to learn more about interactive tables.';\n",
              "          element.innerHTML = '';\n",
              "          dataTable['output_type'] = 'display_data';\n",
              "          await google.colab.output.renderOutput(dataTable, element);\n",
              "          const docLink = document.createElement('div');\n",
              "          docLink.innerHTML = docLinkHtml;\n",
              "          element.appendChild(docLink);\n",
              "        }\n",
              "      </script>\n",
              "    </div>\n",
              "  </div>\n",
              "  "
            ]
          },
          "metadata": {},
          "execution_count": 6
        }
      ],
      "source": [
        "import pandas as pd\n",
        "import numpy as np\n",
        "\n",
        "import seaborn as sns\n",
        "import matplotlib.pyplot as plt\n",
        "%matplotlib inline\n",
        "\n",
        "\n",
        "data = pd.read_csv(\"/content/heart_failure_clinical_records_dataset.csv\")\n",
        "data.head()"
      ]
    },
    {
      "cell_type": "code",
      "source": [
        "print(\"shape of the data\", data.shape)  #299 rows and 13cols."
      ],
      "metadata": {
        "colab": {
          "base_uri": "https://localhost:8080/"
        },
        "id": "lvM8KfYuX345",
        "outputId": "aa79c764-ad48-426e-be03-cf27dab2178c"
      },
      "execution_count": 7,
      "outputs": [
        {
          "output_type": "stream",
          "name": "stdout",
          "text": [
            "shape of the data (299, 13)\n"
          ]
        }
      ]
    },
    {
      "cell_type": "code",
      "source": [
        "print(\"information of the data :- \")\n",
        "data.info()"
      ],
      "metadata": {
        "id": "t1OAA2FZYJRv"
      },
      "execution_count": null,
      "outputs": []
    },
    {
      "cell_type": "code",
      "source": [
        "print(\"describing the data :- \")\n",
        "data.describe()"
      ],
      "metadata": {
        "id": "mtAeOOFqYgCa"
      },
      "execution_count": null,
      "outputs": []
    },
    {
      "cell_type": "code",
      "source": [
        "print(\"No. of null values :- \")\n",
        "data.isnull().sum()"
      ],
      "metadata": {
        "id": "K95BzApIZMfu"
      },
      "execution_count": null,
      "outputs": []
    },
    {
      "cell_type": "markdown",
      "source": [
        "#EXPROLATORY DATA ANALYSIS"
      ],
      "metadata": {
        "id": "RPG8qAHoZdVT"
      }
    },
    {
      "cell_type": "code",
      "source": [
        "#seeing the distribution of classes, this will help us to identify which types\n",
        "\n",
        "len_live = len(data[\"DEATH_EVENT\"][data.DEATH_EVENT == 0])\n",
        "len_death = len(data[\"DEATH_EVENT\"][data.DEATH_EVENT == 1])\n",
        "\n",
        "arr = np.array([len_live , len_death])\n",
        "labels = ['living ' , 'died']\n",
        "print(\"total no. of living cases :- \", len_live)\n",
        "print(\"total no. of died cases :- \", len_death)\n",
        "\n",
        "plt.pie(arr, labels=labels, explode = [0.2,0.0] , shadow=False)\n",
        "plt.show()\n",
        "\n",
        "# we are actually working on imbalanace data \n",
        "# means data is not equally distributed\n",
        "# balance data means if there are 400 data input then 200 will be living and\n",
        "# 200 will will be dead.\n"
      ],
      "metadata": {
        "colab": {
          "base_uri": "https://localhost:8080/",
          "height": 283
        },
        "id": "2GtcPyhUZhkX",
        "outputId": "89a5116a-1920-4908-d9bf-1b114bf0e60f"
      },
      "execution_count": 21,
      "outputs": [
        {
          "output_type": "stream",
          "name": "stdout",
          "text": [
            "total no. of living cases :-  203\n",
            "total no. of died cases :-  96\n"
          ]
        },
        {
          "output_type": "display_data",
          "data": {
            "text/plain": [
              "<Figure size 432x288 with 1 Axes>"
            ],
            "image/png": "[encoded data removed]"
          },
          "metadata": {}
        }
      ]
    },
    {
      "cell_type": "code",
      "source": [
        "#seeing the distribution of age\n",
        "\n",
        "sns.displot(data[\"age\"])\n",
        "plt.show()"
      ],
      "metadata": {
        "id": "DoLegus7fHhP"
      },
      "execution_count": null,
      "outputs": []
    },
    {
      "cell_type": "code",
      "source": [
        "#selecting rows that are above age 50 and seeing died or not\n",
        "\n",
        "age_above_50_not_died = data['DEATH_EVENT'][data.age >= 50][data.DEATH_EVENT ==0]\n",
        "age_above_50_died = data['DEATH_EVENT'][data.age >= 50][data.DEATH_EVENT ==1]\n",
        "\n",
        "\n",
        "len_died = len(age_above_50_died)\n",
        "len_not_died = len(age_above_50_not_died)\n",
        "\n",
        "arr1 = [len_died, len_not_died]\n",
        "labels = ['DIED', 'NOT_DIED']\n",
        "print(\"total no. of living cases :- \", age_above_50_not_died)\n",
        "print(\"total no. of died cases :- \", age_above_50_died)\n",
        "\n",
        "plt.pie(arr1, labels=labels, explode=[0.2,0.1], shadow=False)\n",
        "plt.show()\n",
        "\n",
        "print(\"total no. of died cases :- \", len_died)\n",
        "print(\"total no. of not died cases :- \", len_not_died)\n",
        "\n"
      ],
      "metadata": {
        "colab": {
          "base_uri": "https://localhost:8080/",
          "height": 699
        },
        "id": "wpTzRoFifl7z",
        "outputId": "2c5f92b7-091a-4d36-f241-975530e124c9"
      },
      "execution_count": 27,
      "outputs": [
        {
          "output_type": "stream",
          "name": "stdout",
          "text": [
            "total no. of living cases :-  20     0\n",
            "23     0\n",
            "33     0\n",
            "38     0\n",
            "43     0\n",
            "      ..\n",
            "292    0\n",
            "293    0\n",
            "294    0\n",
            "295    0\n",
            "298    0\n",
            "Name: DEATH_EVENT, Length: 167, dtype: int64\n",
            "total no. of died cases :-  0      1\n",
            "1      1\n",
            "2      1\n",
            "3      1\n",
            "4      1\n",
            "      ..\n",
            "220    1\n",
            "230    1\n",
            "246    1\n",
            "262    1\n",
            "266    1\n",
            "Name: DEATH_EVENT, Length: 85, dtype: int64\n"
          ]
        },
        {
          "output_type": "display_data",
          "data": {
            "text/plain": [
              "<Figure size 432x288 with 1 Axes>"
            ],
            "image/png": "[encoded data removed]"
          },
          "metadata": {}
        },
        {
          "output_type": "stream",
          "name": "stdout",
          "text": [
            "total no. of died cases :-  85\n",
            "total no. of not died cases :-  167\n"
          ]
        }
      ]
    },
    {
      "cell_type": "code",
      "source": [
        "#selecting columns that are having diabetes and seeing died or not\n",
        "\n",
        "patient_nhave_diabetes_0 = data['DEATH_EVENT'][data.diabetes == 0][data.DEATH_EVENT == 0]\n",
        "patient_have_diabetes_1 = data['DEATH_EVENT'][data.diabetes == 1][data.DEATH_EVENT == 1]\n",
        "\n",
        "len_d_died = len(patient_have_diabetes_1)\n",
        "len_d_alive = len(patient_nhave_diabetes_0)\n",
        "\n",
        "arr2 = [len_d_died, len_d_alive]\n",
        "labels = ['died with diabetes', 'not died with diabetes']\n",
        "plt.pie(arr2, labels=labels, explode = [0.2,0.0], shadow=True)\n",
        "plt.show()\n",
        "\n",
        "#output- ppls having diabetes are alive in majority.\n"
      ],
      "metadata": {
        "colab": {
          "base_uri": "https://localhost:8080/",
          "height": 248
        },
        "id": "8ugGE-zciU9g",
        "outputId": "a9984fa1-dcfb-47a4-8845-391f527473d6"
      },
      "execution_count": 29,
      "outputs": [
        {
          "output_type": "display_data",
          "data": {
            "text/plain": [
              "<Figure size 432x288 with 1 Axes>"
            ],
            "image/png": "[encoded data removed]"
          },
          "metadata": {}
        }
      ]
    },
    {
      "cell_type": "code",
      "source": [
        "#CHECKING THE COORELATION OF OUR VARIABLE\n",
        "\n",
        "corr = data.corr() \n",
        "plt.subplots(figsize=(15,15))\n",
        "sns.heatmap(corr, annot=True) \n",
        "\n",
        "# interpretation of correlation matrix \n",
        "\n",
        "''' \n",
        " - Each square shows the correlation between the variables on each axis. Correlation ranges from -1 to +1. Values closer to zero means there is no linear trend between the two variables. \n",
        " - The close to 1 the correlation is the more positively correlated they are; that is as one increases so does the other and the closer to 1 the stronger this relationship is.  \n",
        " - A correlation closer to -1 is similar, but instead of both increasing one variable will decrease as the other increases.  \n",
        " - The diagonals are all 1/dark green because those squares are correlating each variable to itself (so it's a perfect correlation). For the rest the larger the number and darker the color the higher the correlation between the two variables.   \n",
        " - The plot is also symmetrical about the diagonal since the same two variables are being paired together in those squares.\n",
        "''' \n",
        "\n",
        "# references:- https://en.wikipedia.org/wiki/Pearson_correlation_coefficient"
      ],
      "metadata": {
        "id": "-BpPRBX2kAQb"
      },
      "execution_count": null,
      "outputs": []
    },
    {
      "cell_type": "code",
      "source": [
        "data.corr().style.background_gradient(cmap='coolwarm')"
      ],
      "metadata": {
        "id": "rrJk7DAjl6HQ"
      },
      "execution_count": null,
      "outputs": []
    },
    {
      "cell_type": "markdown",
      "source": [
        "#DATASET DEVELOPMENT"
      ],
      "metadata": {
        "id": "uwk4LBEHmIN-"
      }
    },
    {
      "cell_type": "code",
      "source": [
        "from sklearn.model_selection import train_test_split\n",
        "\n",
        "X = data.drop('DEATH_EVENT', axis=1)\n",
        "y = data['DEATH_EVENT']\n",
        "\n",
        "X_train, X_test, y_train, y_test = train_test_split(X,y,test_size=0.3,random_state=0)\n",
        "print(\"Shape of the X_train\", X_train.shape)\n",
        "print(\"Shape of the Y_train\", y_train.shape)\n",
        "print(\"shape of the X_test\", X_test.shape)\n",
        "print(\"shape of the y_test\", y_test.shape)\n"
      ],
      "metadata": {
        "id": "USGwqb86mNgx"
      },
      "execution_count": null,
      "outputs": []
    },
    {
      "cell_type": "markdown",
      "source": [
        "#MODEL BUILDING"
      ],
      "metadata": {
        "id": "TblVZD5En52n"
      }
    },
    {
      "cell_type": "code",
      "source": [
        "from sklearn.metrics import confusion_matrix, accuracy_score, precision_score, recall_score\n",
        "    \n",
        "def evaluating_model(y_test, y_pred):  \n",
        "    ''' \n",
        "    Function for evaluating our models.\n",
        "    '''\n",
        "    print(\"Accuracy Score:- \", accuracy_score(y_test, y_pred)) \n",
        "    print(\"Precision Score:- \", precision_score(y_test, y_pred)) \n",
        "    print(\"Recall Score:- \", recall_score(y_test, y_pred)) \n",
        "    print(\"Confusion Matrix:- \\n\", confusion_matrix(y_test, y_pred))"
      ],
      "metadata": {
        "id": "VBiu5Cqnn751"
      },
      "execution_count": 35,
      "outputs": []
    },
    {
      "cell_type": "code",
      "source": [
        "# building logistic regression model as a baseline model \n",
        "\n",
        "from sklearn.linear_model import LogisticRegression \n",
        "\n",
        "lr_clf = LogisticRegression(max_iter=1000) \n",
        "lr_clf.fit(X_train, y_train) \n",
        "\n",
        "lr_clf_pred = lr_clf.predict(X_test) "
      ],
      "metadata": {
        "id": "vpC9ypLFqkW-"
      },
      "execution_count": 37,
      "outputs": []
    },
    {
      "cell_type": "code",
      "source": [
        "y_pred = lr_clf.predict(X_test)\n",
        "evaluating_model(y_test, y_pred)"
      ],
      "metadata": {
        "id": "Vu7u7v5NqngL"
      },
      "execution_count": null,
      "outputs": []
    },
    {
      "cell_type": "code",
      "source": [
        "# building logistic regression with StandardScaler  \n",
        "\n",
        "from sklearn.pipeline import make_pipeline\n",
        "from sklearn.preprocessing import StandardScaler\n",
        "\n",
        "lr_clf_pip = make_pipeline(StandardScaler(), LogisticRegression()) \n",
        "lr_clf_pip.fit(X_train, y_train) \n",
        "\n",
        "y_pred1 = lr_clf_pip.predict(X_test)\n",
        "evaluating_model(y_test,y_pred1)"
      ],
      "metadata": {
        "id": "HdE2ucbequyP"
      },
      "execution_count": null,
      "outputs": []
    }
  ]
}